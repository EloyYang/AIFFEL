{
 "cells": [
  {
   "cell_type": "code",
   "execution_count": 1,
   "id": "881c04bc",
   "metadata": {},
   "outputs": [],
   "source": [
    "# 크롤러를 만들기 전 필요한 도구들을 임포트\n",
    "import requests\n",
    "import pandas as pd\n",
    "from bs4 import BeautifulSoup\n",
    "from newspaper import Article\n",
    "\n",
    "# 페이지 수, 카테고리, 날짜를 입력\n",
    "def make_urllist(page_num, code, date): \n",
    "  urllist= []\n",
    "  for i in range(1, page_num + 1):\n",
    "    url = 'https://news.naver.com/main/list.nhn?mode=LSD&mid=sec&sid1='+str(code)+'&date='+str(date)+'&page='+str(i)\n",
    "    headers = {'User-Agent': 'Mozilla/5.0 (X11; Linux x86_64) AppleWebKit/537.36 (KHTML, like Gecko) Chrome/54.0.2840.90 Safari/537.36'}\n",
    "    news = requests.get(url, headers=headers)\n",
    "\n",
    "    # BeautifulSoup의 인스턴스 생성\n",
    "    soup = BeautifulSoup(news.content, 'html.parser')\n",
    "\n",
    "    # CASE 1\n",
    "    news_list = soup.select('.newsflash_body .type06_headline li dl')\n",
    "    # CASE 2\n",
    "    news_list.extend(soup.select('.newsflash_body .type06 li dl'))\n",
    "        \n",
    "    # 각 뉴스로부터 a 태그인 <a href ='주소'> 에서 '주소'출력\n",
    "    for line in news_list:\n",
    "        urllist.append(line.a.get('href'))\n",
    "  return urllist"
   ]
  },
  {
   "cell_type": "code",
   "execution_count": 2,
   "id": "c293757c",
   "metadata": {},
   "outputs": [],
   "source": [
    "url_list = []"
   ]
  },
  {
   "cell_type": "code",
   "execution_count": 3,
   "id": "9020a88d",
   "metadata": {},
   "outputs": [],
   "source": [
    "#코드 네이밍\n",
    "idx2word = {'101' : '경제', '102' : '사회', '103' : '생활/문화', '105' : 'IT/과학'}"
   ]
  },
  {
   "cell_type": "code",
   "execution_count": 4,
   "id": "2f531312",
   "metadata": {},
   "outputs": [],
   "source": [
    "\n",
    "#- 데이터프레임을 생성\n",
    "def make_data(urllist, code):\n",
    "  text_list = []\n",
    "  for url in urllist:\n",
    "    article = Article(url, language='ko')\n",
    "    article.download()\n",
    "    article.parse()\n",
    "    text_list.append(article.title)\n",
    "\n",
    "  #- 데이터프레임의 'news' 키 아래 파싱한 텍스트를 밸류\n",
    "  df = pd.DataFrame({'news': text_list})\n",
    "\n",
    "  #- 데이터프레임의 'code' 키 아래 한글 카테고리명\n",
    "  df['code'] = idx2word[str(code)]\n",
    "  return df"
   ]
  },
  {
   "cell_type": "code",
   "execution_count": 5,
   "id": "c8ebfb42",
   "metadata": {},
   "outputs": [
    {
     "data": {
      "text/plain": [
       "[101, 102, 103, 105]"
      ]
     },
     "execution_count": 5,
     "metadata": {},
     "output_type": "execute_result"
    }
   ],
   "source": [
    "code_list = [101, 102, 103, 105]\n",
    "\n",
    "code_list"
   ]
  },
  {
   "cell_type": "code",
   "execution_count": 6,
   "id": "feced11f",
   "metadata": {},
   "outputs": [],
   "source": [
    "def make_total_data(page_num, code_list, date):\n",
    "  df = None\n",
    "\n",
    "  for code in code_list:\n",
    "    url_list = make_urllist(page_num, code, date)\n",
    "    df_temp = make_data(url_list, code)\n",
    "    print(str(code)+'번 코드에 대한 데이터를 만들었습니다.')\n",
    "\n",
    "    if df is not None:\n",
    "      df = pd.concat([df, df_temp])\n",
    "    else:\n",
    "      df = df_temp\n",
    "\n",
    "  return df"
   ]
  },
  {
   "cell_type": "code",
   "execution_count": 7,
   "id": "e17c31c6",
   "metadata": {
    "scrolled": true
   },
   "outputs": [
    {
     "name": "stdout",
     "output_type": "stream",
     "text": [
      "101번 코드에 대한 데이터를 만들었습니다.\n",
      "102번 코드에 대한 데이터를 만들었습니다.\n",
      "103번 코드에 대한 데이터를 만들었습니다.\n",
      "105번 코드에 대한 데이터를 만들었습니다.\n"
     ]
    }
   ],
   "source": [
    "df = make_total_data(1, code_list, 20231128)"
   ]
  },
  {
   "cell_type": "code",
   "execution_count": 8,
   "id": "a9d86b21",
   "metadata": {
    "scrolled": false
   },
   "outputs": [
    {
     "name": "stdout",
     "output_type": "stream",
     "text": [
      "101번 코드에 대한 데이터를 만들었습니다.\n",
      "102번 코드에 대한 데이터를 만들었습니다.\n",
      "103번 코드에 대한 데이터를 만들었습니다.\n",
      "105번 코드에 대한 데이터를 만들었습니다.\n"
     ]
    }
   ],
   "source": [
    "#다른 일자 데이터 추가\n",
    "df = df.append(make_total_data(1, code_list, 20231123))"
   ]
  },
  {
   "cell_type": "code",
   "execution_count": 9,
   "id": "2a89337b",
   "metadata": {
    "scrolled": true
   },
   "outputs": [
    {
     "name": "stdout",
     "output_type": "stream",
     "text": [
      "101번 코드에 대한 데이터를 만들었습니다.\n",
      "102번 코드에 대한 데이터를 만들었습니다.\n",
      "103번 코드에 대한 데이터를 만들었습니다.\n",
      "105번 코드에 대한 데이터를 만들었습니다.\n"
     ]
    }
   ],
   "source": [
    "\n",
    "df = df.append(make_total_data(1, code_list, 20231124))"
   ]
  },
  {
   "cell_type": "code",
   "execution_count": 10,
   "id": "f3610e1c",
   "metadata": {},
   "outputs": [
    {
     "name": "stdout",
     "output_type": "stream",
     "text": [
      "/aiffel/aiffel/news_crawler/news_data.csv File Saved!\n"
     ]
    }
   ],
   "source": [
    "import os\n",
    "\n",
    "# 데이터프레임 파일을 csv 파일로 저장합니다.\n",
    "# 저장경로는 이번 프로젝트를 위해 만든 폴더로 지정해 주세요.\n",
    "csv_path = os.getenv(\"HOME\") + \"/aiffel/news_crawler/news_data.csv\"\n",
    "df.to_csv(csv_path, index=False)\n",
    "\n",
    "if os.path.exists(csv_path):\n",
    "  print('{} File Saved!'.format(csv_path))"
   ]
  },
  {
   "cell_type": "code",
   "execution_count": 11,
   "id": "b6d36cfe",
   "metadata": {},
   "outputs": [
    {
     "data": {
      "text/html": [
       "<div>\n",
       "<style scoped>\n",
       "    .dataframe tbody tr th:only-of-type {\n",
       "        vertical-align: middle;\n",
       "    }\n",
       "\n",
       "    .dataframe tbody tr th {\n",
       "        vertical-align: top;\n",
       "    }\n",
       "\n",
       "    .dataframe thead th {\n",
       "        text-align: right;\n",
       "    }\n",
       "</style>\n",
       "<table border=\"1\" class=\"dataframe\">\n",
       "  <thead>\n",
       "    <tr style=\"text-align: right;\">\n",
       "      <th></th>\n",
       "      <th>news</th>\n",
       "      <th>code</th>\n",
       "    </tr>\n",
       "  </thead>\n",
       "  <tbody>\n",
       "    <tr>\n",
       "      <th>0</th>\n",
       "      <td>조수미·이정재·싸이, 엑스포 PT 등장…“공존의 도시 부산에 오세요” [엑스포 개최...</td>\n",
       "      <td>경제</td>\n",
       "    </tr>\n",
       "    <tr>\n",
       "      <th>1</th>\n",
       "      <td>미국 9월 주택가격 8개월 연속 상승…사상 최고가 또 경신</td>\n",
       "      <td>경제</td>\n",
       "    </tr>\n",
       "    <tr>\n",
       "      <th>2</th>\n",
       "      <td>횡성 ‘디피코’, 사모펀드 운용사와 조건부 투자 계약</td>\n",
       "      <td>경제</td>\n",
       "    </tr>\n",
       "    <tr>\n",
       "      <th>3</th>\n",
       "      <td>10월 유로존 통화공급량 10%↓…\"M3 4개월째 감소\"</td>\n",
       "      <td>경제</td>\n",
       "    </tr>\n",
       "    <tr>\n",
       "      <th>4</th>\n",
       "      <td>통역도 이젠 실시간으로…언어의 장벽 허무는 AI</td>\n",
       "      <td>경제</td>\n",
       "    </tr>\n",
       "  </tbody>\n",
       "</table>\n",
       "</div>"
      ],
      "text/plain": [
       "                                                news code\n",
       "0  조수미·이정재·싸이, 엑스포 PT 등장…“공존의 도시 부산에 오세요” [엑스포 개최...   경제\n",
       "1                   미국 9월 주택가격 8개월 연속 상승…사상 최고가 또 경신   경제\n",
       "2                      횡성 ‘디피코’, 사모펀드 운용사와 조건부 투자 계약   경제\n",
       "3                    10월 유로존 통화공급량 10%↓…\"M3 4개월째 감소\"   경제\n",
       "4                         통역도 이젠 실시간으로…언어의 장벽 허무는 AI   경제"
      ]
     },
     "execution_count": 11,
     "metadata": {},
     "output_type": "execute_result"
    }
   ],
   "source": [
    "csv_path = os.getenv(\"HOME\") + \"/aiffel/news_crawler/news_data.csv\"\n",
    "df = pd.read_table(csv_path, sep=',')\n",
    "df.head()"
   ]
  },
  {
   "cell_type": "code",
   "execution_count": 12,
   "id": "8c233195",
   "metadata": {},
   "outputs": [
    {
     "name": "stderr",
     "output_type": "stream",
     "text": [
      "/tmp/ipykernel_314/3649439000.py:2: FutureWarning: The default value of regex will change from True to False in a future version.\n",
      "  df['news'] = df['news'].str.replace(\"[^ㄱ-ㅎㅏ-ㅣ가-힣 ]\",\"\")\n"
     ]
    },
    {
     "data": {
      "text/plain": [
       "0      조수미이정재싸이 엑스포  등장공존의 도시 부산에 오세요 엑스포 개최지 발표\n",
       "1                  미국 월 주택가격 개월 연속 상승사상 최고가 또 경신\n",
       "2                     횡성 디피코 사모펀드 운용사와 조건부 투자 계약\n",
       "3                            월 유로존 통화공급량  개월째 감소\n",
       "4                        통역도 이젠 실시간으로언어의 장벽 허무는 \n",
       "                         ...                    \n",
       "235                  폴라리스쓰리디  푸드테크서 홀 자동화 솔루션 선봬\n",
       "236     오늘도 사랑스럽개 코코아 사랑스러운 강아지 반려견 육성 모바일 게임 출시\n",
       "237                    컨텍 아이큐에어 공기청정기 아템 엑스 선봬만원\n",
       "238                  이번엔 모바일 신분증 먹통서버 점검 중 장애 발생\n",
       "239                        글로벌 바이오투자 기술이전 줄고  떴다\n",
       "Name: news, Length: 240, dtype: object"
      ]
     },
     "execution_count": 12,
     "metadata": {},
     "output_type": "execute_result"
    }
   ],
   "source": [
    "# 정규 표현식을 이용해서 한글 외의 문자는 전부 제거합니다.\n",
    "df['news'] = df['news'].str.replace(\"[^ㄱ-ㅎㅏ-ㅣ가-힣 ]\",\"\")\n",
    "df['news']"
   ]
  },
  {
   "cell_type": "code",
   "execution_count": 13,
   "id": "efae2c7d",
   "metadata": {},
   "outputs": [
    {
     "name": "stdout",
     "output_type": "stream",
     "text": [
      "news    0\n",
      "code    0\n",
      "dtype: int64\n"
     ]
    }
   ],
   "source": [
    "#Null 값 확인\n",
    "print(df.isnull().sum())"
   ]
  },
  {
   "cell_type": "code",
   "execution_count": 14,
   "id": "1cff4f97",
   "metadata": {},
   "outputs": [
    {
     "name": "stdout",
     "output_type": "stream",
     "text": [
      "뉴스 기사의 개수:  221\n"
     ]
    }
   ],
   "source": [
    "# 중복된 샘플들을 제거합니다.\n",
    "df.drop_duplicates(subset=['news'], inplace=True)\n",
    "\n",
    "print('뉴스 기사의 개수: ',len(df))"
   ]
  },
  {
   "cell_type": "code",
   "execution_count": 15,
   "id": "68328087",
   "metadata": {},
   "outputs": [
    {
     "data": {
      "text/plain": [
       "<AxesSubplot:>"
      ]
     },
     "execution_count": 15,
     "metadata": {},
     "output_type": "execute_result"
    },
    {
     "data": {
      "image/png": "[encoded data removed]",
      "text/plain": [
       "<Figure size 432x288 with 1 Axes>"
      ]
     },
     "metadata": {
      "needs_background": "light"
     },
     "output_type": "display_data"
    }
   ],
   "source": [
    "import matplotlib.pyplot as plt\n",
    "plt.rcParams[\"font.family\"] = \"NanumGothic\"\n",
    "\n",
    "df['code'].value_counts().plot(kind = 'bar')"
   ]
  },
  {
   "cell_type": "code",
   "execution_count": 16,
   "id": "b8e21e36",
   "metadata": {},
   "outputs": [
    {
     "name": "stdout",
     "output_type": "stream",
     "text": [
      "    code  count\n",
      "0  IT/과학     55\n",
      "1     경제     55\n",
      "2     사회     56\n",
      "3  생활/문화     55\n"
     ]
    }
   ],
   "source": [
    "print(df.groupby('code').size().reset_index(name = 'count'))"
   ]
  },
  {
   "cell_type": "code",
   "execution_count": 17,
   "id": "bba2ec23",
   "metadata": {},
   "outputs": [
    {
     "name": "stdout",
     "output_type": "stream",
     "text": [
      "['조수미', '이정재', '싸이', '엑스포', '등', '장공', '존', '의', '도시', '부산', '에', '오', '세요', '엑스포', '개최지', '발표', '미국', '월', '주택', '가격', '개월', '연속', '상승', '사상', '최고', '가', '또', '경신', '횡', '성', '디피', '코', '사모', '펀드', '운용', '사', '와', '조건부', '투자', '계약', '월', '유로존', '통화', '공급량', '개월', '째', '감소', '통역', '도', '이젠', '실시간', '으로', '언어', '의', '장벽', '허무', '는', '동해', '묵호항', '항만', '대기', '질', '관리', '구역', '지정', '요구', '구도심', '강릉역', '역세', '권', '개발', '은', '언제', '강릉', '부산', '철도', '내년', '개통', '기대', '이하', '속도', '속보', '엑스포', '후보', '개국', '최종', '종료', '투표', '절차', '시작', '뉴스', '초점', '부산', '엑스포', '결전', '의', '날', '최종', '로', '승부수', '오뚜기', '이', '어', '풀무원', '도', '식품', '사', '들', '가격', '인상', '철회', '함께', '나', '는', '부산갈매기', '인류', '연대', '담론', '으로', '마지막', '표', '심', '잡', '기', '종합', '농협', '은행', '판매', '중', '단홍', '콩', '지수', '폭락', '에', '손실', '우려', '내년', '회사채', '스프', '레드', '축소', '우량', '등급', '선호', '지속', '금고', '아래', '손', '넣', '으니', '돈다발', '고소득', '유', '튜버', '도', '고액', '체납자', '포함', '울산시', '아이', '가', '행복', '한', '돌봄', '도시', '년', '간', '천억', '투', '입', '엑스포', '최종', '분전', '총회장', '로비', '서', '한', '사우디', '신경전', '종합', '년', '영남', '권', '청년', '수도', '권', '으로', '이동', '울산시', '파크', '골프장', '운영', '일본', '서', '배운다', '미국', '주택', '가격', '개월', '연속', '상승', '월', '전월', '대비', '돈가스', '으로', '명', '원생', '배식', '한', '어린이집', '원장', '재판', '뉴스', '특보', '엑스포', '개최지', '발표', '부산', '의', '도전', '동명이인', '환자', '명의', '로', '의료', '용', '마약', '류', '처방', '받', '은', '의사', '만', '원', '의', '가치', '만', '원', '의', '효용', '을', '체감', '하', '는', '기자', '협회', '년', '힘차', '고', '따뜻', '한', '기자', '협회', '원년', '세계일보', '사건', '팀', '장애', '인', '본부', '이달', '의', '좋', '은', '기사', '상', '나', '에게', '우리', '에게', '세상', '에', '쓸모', '있', '는', '기자', '협회', '유', '튜버', '일탈', '어디', '까지', '모텔', '서', '수면제', '투약', '하', '고', '방송', '한', '대', '해마루', '촌', '마을', '주민', '동서대', '에', '감사패', '쌀', '전달', '강릉시', '옥계면', '연곡면', '일대', '지적', '재조사', '사업', '추진', '핵심', '비전', '소개', '하', '는', '나승연', '부산', '엑스포', '홍보', '대사', '평창', '국제', '올림픽', '연구', '센터', '컨퍼런스', '개막', '우리', '부산', '은', '요', '핵심', '비전', '소개', '하', '는', '나승연', '홍보', '대사', '며느리', '살해', '한', '시아버지', '아들', '내외', '가', '나', '죽이', '려', '했', '다', '피해', '망상', '추정', '전쟁', '폐허', '극복', '한', '부산', '의', '저력', '공유', '연대', '의', '엑스포', '역설', '엑스포', '개최지', '선정', '채팅', '앱', '서', '만난', '또래', '여학생', '살해', '한', '대', '남학생', '구속', '기소', '강릉', '급발진', '의심', '사고', '민사', '소송', '변론', '기일', '열려', '포토', '장애', '인', '먼저', '실천', '상', '시상식', '강', '스템', '바이오', '텍', '퓨어', '스템', '오에이', '키트', '주', '임상', '순항', '기술', '수출', '에', '최선', '가짜', '환자', '지만', '정신', '병원', '입원', '에', '성공', '했', '습니다', '베를린', '필하모닉', '년', '준비', '한', '진은숙', '에디션', '발매', '가장', '아름다운', '비밀', '은', '쓰', '지', '않', '아요', '여성', '영화', '인', '축제', '올해', '의', '여성', '영화', '인상', '시상식', '월일', '개최', '외국', '은', '즐기', '는데', '한국', '은', '잘', '해야', '만', '한다', '현대', '사회', '에서', '평화', '찾', '는', '이곳', '엄마', '우리', '집', '채소', '는', '왜', '얼', '어', '있', '어', '싸', '니까', '냉', '동식', '재료', '인기', '라는', '데', '조선', '자유', '언론', '수호', '투쟁', '위원회', '엮음', '동아제약', '중대', '재해', '대응', '모의', '훈련', '실시', '심폐', '소생', '술', '등', '교육', '휴', '젤', '여성', '소비자', '가', '뽑', '은', '좋', '은', '기업', '대상', '년', '연속', '수상', '울산', '오늘', '낮', '최고', '기온', '도내', '일', '도', '나이', '들', '어', '꼬부랑', '허리', '안', '되', '려면', '이곳', '단련', '필수', '이노', '엔', '고용', '노동부', '안전', '문화', '확산', '위한', '업무', '협약', '체결', '온', '국민', '염원', '담', '아두', '남자', '안', '산', '서', '부산', '까지', '걸', '었', '다', '엑스포', '개최지', '발표', '전쟁', '과', '폭력', '의', '시대', '소년', '들', '의', '칼', '은', '정의', '로웠', '네', '교황', '건강', '문제', '에', '도', '기후', '정상', '회의', '예정', '대로', '참석', '종합', '작곡계', '노벨상', '받', '은', '진은숙', '베를린', '필', '진', '에디션', '발매', '운동', '효과', '확', '높이', '려면', '끝나', '고', '이것', '꼭', '해야', '날씨', '내일', '더', '추워져', '일부', '강원경', '북', '한파', '특보', '우리', '할머니', '인슐린', '주사', '그만', '맞', '아도', '될까', '당뇨', '완치', '길', '열리', '나', '솔루션', '즈', '테크니컬', '센터', '열', '어', '유럽', '시장', '잡', '는다', '대구경북', '과학', '기술원', '신임', '총장', '에', '이건우', '서울대', '전', '공대', '학장', '울산', '남구', '테크노', '산업', '로', '일원', '자율', '주행', '차', '시범', '운행', '지구', '지정', '유', '니스트', '세계', '에서', '가장', '영향', '력', '있', '는', '연구자', '명', '이용훈', '총장', '과기부', '장관', '물망', '유', '니스트', '는', '쿠쿠', '전자', '대용량', '아이', '편한', '가습기', '출시', '욕설', '논란', '에', '카르텔', '폭로', '까지', '스텝', '꼬인', '김범수', '쇄신', '안', '이런', '같', '은', '욕설', '회의', '카카오', '임원', '문제점', '지적', '하', '다', '실수', '코웨이', '환경', '기술', '연구소', '년', '연속', '공인', '시험', '기관', '인정', '스타트업', '터널', '속', '에서', '도', '차량', '의', '정확', '한', '위치', '파악', '돕', '는', '씨', '너', '렉스', '바이오', '기술', '선도', '포스', '텍', '혁신', '연구', '센터', '개소', '카', '이스트', '인공지능', '반도체', '대학원', '개원', '지하', '정밀', '탐사', '땅속', '내시경', '개발', '부산', '디지털', '자산', '거래소', '사업자', '블록체인', '큰손', '파전', '카카오', '내부', '폭', '로', '전', '시작', '김정호', '경영', '총괄', '욕설', '해명', '에', '경영', '실태', '폭', '로', '생성', '형', '시대', '데이터', '센터', '열', '을', '식혀라', '카카오', '카르텔', '의혹', '수면', '위', '로', '치부', '전면', '에', '드러낸', '김범수', '최', '측근', '하이엔드', '주거', '복합', '원', '에디션', '강남', '대출', '내달', '만기', '차환', '예정', '코드', '스테이', '츠', '현장', '형', '인재', '양성', '을', '위한', '기업', '형', '및', '교육', '방법론', '개발', '이거', '빈대', '아니', '야', '계속', '되', '는', '빈대', '포', '비아', '에', '살충', '방충제', '매출', '조원', '규모', '금융', '시장', '안정', '화', '조치', '내년', '말', '까지', '연장', '고소득', '층', '은', '고금리', '효과', '저소득층', '은', '고물가', '충격', '만', '정용기', '한난', '사장', '겨울', '앞두', '고', '성남', '공공', '임대', '주택', '현장', '방문', '새벽', '부터', '기다려', '충전', '수소', '부족', '에', '발', '동동', '매각', '본', '입찰', '유찰', '피했', '다', '하림', '동원', '파전', '무', '방부제', '라더니', '방부제', '검출', '반려', '견', '사료', '업체', '곳', '적발', '대기', '만', '해도', '개인', '정보', '샤넬', '결국', '제재', '플라스틱', '산업', '협동조합', '생', '분해', '플라스틱', '수출', '인증', '지원', '협약', '바이', '낸스', '창펑', '자오', '사임', '후', '하루', '만', '에', '억', '천만', '달러', '유출', '폭스바겐', '미국', '공장', '근로자', '급여', '인상', '기후', '위기', '극복', '위해', '석유', '가스', '분야', '투자', '절반', '줄여야', '글렌코', '어', '이탈리아', '외부', '에', '배터리', '재', '활용', '공장', '건설', '씨티', '오', '빈티', '브', '매수', '로', '상향', '주가', '상승', '여력', '코리아', '디스카운트', '해소', '하', '려면', '먼저', '배', '당세', '부터', '낮춰야', '샤넬', '매장', '입장', '대기', '고객', '동행인', '에', '이름', '과', '연락처', '요구', '과태료', '처분', '새', '주인', '찾', '기', '하림', '이', '냐', '동원', '이', '냐', '남동', '발전', '협력', '와', '역량', '강화', '방안', '모색', '혁신', '으로', '총선', '승리', '더', '민주', '충남', '혁신', '회의', '출범', '대한', '적십자사', '충남', '지사', '연차', '대회', '개최', '대전', '홍도', '지하차도', '상부', '에', '쉼표', '정원', '조성', '전', '사', '위', '채용', '특혜', '의혹', '검찰', '일간', '곳', '압수수색', '강원도', '겨울철', '축산', '농가', '재해', '예방', '활동', '평창', '기념', '재단', '우리', '가', '그리', '는', '강원', '공모전', '이재명', '민주당', '대표', '수사', '검사', '이정섭', '의', '비위', '의혹', '들', '춘천', '해무', '방', '문진', '지역', '프로그램', '대상', '은상', '이', '시각', '소방청', '상황실', '동해시', '삼화동', '에', '기억', '키움', '공원', '조성', '치매', '예방', '중학교', '교사', '성인', '화보', '집', '제작', '해', '판매', '순수', '한', '사생활', '즐기', '고', '있', '다', '가상', '공간', '도심', '체험', '강릉', '중앙', '시장', '맵', '모레', '공개', '올겨울', '강원', '스키장', '내일', '부터', '잇따라', '개장', '새로운', '강원', '특별자치시', '대', '위원회', '창립', '정책', '자문', '탈주범', '김길수', '검거', '형사', '특진', '자', '결정', '과정', '문제', '있', '어', '산불', '지역', '차', '피해', '광범위', '한', '벌목', '위험', '두꺼운', '외투', '엔', '테이저', '건', '안', '통했', '다', '흉기', '난동', '제지', '경찰', '중상', '경찰', '이번', '엔', '이선균', '겨드랑', '이', '털', '채취', '또', '감정', '의뢰', '경북', '구미', '서', '톤', '덤프트럭', '이', '다리', '밑', '에', '끼여', '운전자', '경상', '이태원', '참사', '유가족', '관련', '법', '제정', '관심', '촉구', '설악산', '년', '지켰', '다', '산양', '도', '케이블카', '반대', '해', '라인', '날씨', '내일', '아침', '기온', '뚝', '오전', '까지', '충청', '호남', '에', '눈', '최대', '케어', '닥', '강북', '삼성', '병원', '돌봄', '공백', '과', '간병', '인력난', '해결', '위한', '우수', '사례', '발표', '태백', '정선', '강원', '산지', '한파', '경보', '동해안', '너울', '주', '의', '울산', '오늘', '낮', '최고', '도한', '파주', '의보', '속', '내일', '도', '한국', '문화원', '에서', '임시', '정부', '특별', '전', '개최', '천천히', '퍼지', '며', '암', '까지', '유발', '하', '는', '만성', '염증', '어떻게', '제거', '할까', '한파', '특보', '에', '위기', '경보', '주', '의', '상향', '내일', '전국', '눈', '또는', '비', '한파', '특보', '에', '위기', '경보', '주', '의', '상향', '내일', '전국', '비', '또는', '눈', '올겨울', '예년', '보다', '덜', '춥', '지만', '북극', '발', '기습', '한파', '해', '안', '엔', '폭설', '서울', '등', '중북', '부', '와', '경북', '에', '한파', '특보', '내일', '서울', '함경북도', '길주', '서', '하루', '새', '차례', '흔들', '기상청', '자연', '지진', '종', '합보', '생활', '날씨', '내일', '출근길', '체감', '도', '안팎', '중', '북부동', '해안', '한파', '특보', '세', '가', '겪', '는', '이', '증상', '신경', '퇴행', '성', '질환', '징조', '원', '마운트', '새롭', '게', '단장', '한', '스노우', '파크', '일', '개장', '급발진', '이', '라더니', '여고생', '사망', '사고', '대', '운전자', '뒤늦', '게', '가속', '인정', '왜', '게임', '베리', '스튜디오', '헌터', '키우', '기', '네이버', '웹툰', '열', '렙', '전사', '와', '협업', '카카오', '시흥', '제', '데이터', '센터', '설립', '무', '산타', '지역', '서', '추진', '비자', '세부', '기준', '변경', '오픈', '놀', '개방', '형', '협업', '추진', '의대', '년', '간', '늘린', '뒤', '씩', '줄', '이', '자년', '부터', '의사', '공급', '과잉', '제', '지대', '양향자', '와', '정책', '적', '연대', '열려', '있', '어', '합당', '은', '아냐', '종합', '사이버', '안보', '기관', '공급', '망', '공격', '에', '대한', '합동', '권고문', '발표', '삼성', '갤럭시', '플립', '명품', '메종', '마르지', '엘라', '에디션', '공개', '원주', '부론', '산단', '에', '미래', '항공', '기술', '센터', '착공', '장거리', '주차', '도', '척척', '자율', '주행', '차', '기술', '진화', '불', '안', '나', '는', '고성능', '전', '고체', '배터리', '상용', '화', '앞당긴다', '황현식', '연임', '가닥', '송구영', '헬로', '대표', '도', '유임', '낯익', '은', '얼굴', '아이폰', '들', '고', '샷', '알', '고', '보', '면', '사진', '은', '삼성', '이', '더', '낫', '데요', '카카오', '지역', '개발자', '양성', '프로젝트', '카카오', '테크', '캠퍼스', '기', '수료식', '제회', '인공지능', '신뢰', '성', '품질', '대상', '최양희', '한림', '대', '총장', '신뢰', '성', '경쟁력', '확보', '기대', '정부', '이', '어', '조달청', '전산망', '도', '한때', '마비', '해외', '집중', '접속', '배달', '순찰', '로봇', '인도', '통행', '허용', '안전', '운행', '담보', '할', '기술', '은', '새', '올', '행정', '망주', '민', '증', '이', '어', '조달청', '시간', '먹통', '특정', '국가', '서', '집중', '접속', '유명', '인', '사칭', '광고', '막', '아', '보', '자', '방', '심위', '구글', '메타', '와', '협력', '논의', '대통령', '년', '전', '전쟁', '폐허', '서', '기적', '이룬', '한국', '국제', '사회', '기여', '종합', '독일', '분기', '개정', '전기', '대비', '역', '성장', '개인', '소비', '위축', '한덕수', '총리', '태백', '청정', '메탄올', '생산', '사업', '지원', '디스플레이', '소부', '장', '국산화율', '반도체', '현실', '은', '불붙', '으면', '활활', '전기', '차', '불안', '배터리', '안전', '검증', '강화', '무주택', '청년', '에', '연', '대', '주담', '대', '지원', '효과', '있', '을까', '국제', '박람회', '기구', '대표', '초청', '오찬', '참석', '한', '윤석열', '대통령', '금융', '위', '공시', '기후', '분야', '부터', '의무', '화', '검토', '세에', '차주', '에게', '년', '만기', '주담', '대', '아직', '도', '판매', '중', '건', '배사', '하', '는', '이재용', '삼성전자', '회장', '울산', '주간', '아파트', '매매', '가격', '보합', '전세', '는', '상승', '폭', '확대', '울산', '통신', '판매', '결혼', '상담소', '사업자', '늘', '고', '독서실', '은', '줄', '어', '윤석열', '대통령', '국제', '박람회', '기구', '대표', '초청', '오찬', '참석', '한전', '글로벌', '스탠더드', '경영', '대상', '명예', '의', '전당', '등', '재', '오', '찬사', '마치', '고', '인사', '하', '는', '윤석열', '대통령', '주말', '도', '꽁꽁', '중부', '내륙', '아침', '도', '부산역', '화장실', '서', '처음', '보', '는', '여성', '무', '차별', '폭행', '하나', '남성', '구속', '기소', '펀드', '비리', '의혹', '장하원', '대표', '영장', '또', '기각', '손자', '농협', '취직', '좀', '조합장', '대문', '에', '만', '원', '놓', '고', '간', '할머니', '살인', '시체', '유기', '욕구', '있', '다', '또래', '엽기', '살인', '정유정', '무기', '징역', '양양군', '지역', '농업', '법인', '곳', '실태', '조사', '착수', '청담동', '스쿨', '존', '사망', '사', '고', '주', '기', '앞두', '고', '가해자', '심서', '감형', '성매매', '업소', '집결지', '강제', '철거', '나서', '자', '종사자', '들', '이', '악물', '고', '한', '행동', '은', '강릉', '아산', '병원', '첨단', '로봇', '수술', '건', '달성', '삼척시', '겨울철', '전지훈련', '대회', '여', '명', '방문', '청소년', '청장년', '층', '사망', '원인', '위', '는', '손상', '강릉시', '고향', '사랑기', '부제', '온라인', '명예', '의', '전당', '개설', '이왕이면', '비싼', '거', '독감', '백신', '비쌀수록', '효과', '있', '나', '강', '등', '위기', '강원', '내일', '수원', '와', '마지막', '홈경기', '눈앞', '에서', '사람', '불타', '불붙', '은', '택시', '뛰어들', '어', '기사', '구한', '청년', '특혜', '의혹', '김철수', '전', '속초', '시장', '구속', '영장', '기각', '중생', '성', '관계', '인터넷', '에', '후기', '글', '작성', '한', '대', '유진', '그룹', '최', '대주주', '자격', '없', '어', '심사', '취소', '소송', '집행정지', '신청', '세계', '최고', '베이스', '는', '왜', '무반주', '로', '고향', '의', '봄', '을', '불렀', '나', '아이돌', '콘서트', '같', '네', '세', '청춘', '이', '만든', '뜨거운', '우정', '의', '무대', '새로', '나온', '책', '밤', '은', '내', '가', '가질', '게', '외', '밀수', '청룡', '영화상', '작품상', '마지막', '사회', '본', '김혜수', '도', '트로피', '밀수', '제회', '청룡', '영화상', '최우수', '작품상', '수상', '남여주', '연상', '은', '이병헌', '정유미', '잃', '은', '슬픔', '년', '간', '달랜', '바흐', '의', '변주곡', '보도', '국장', '임명', '동의', '제', '는', '방송법', '위반', '효력', '없', '어', '내일', '도', '추위', '이레', '째', '건조', '산불', '유', '의', '안티', '기독', '논문', '방치', '할', '수', '없', '었', '다', '피해', '갈', '수', '없', '는', '욕망', '부동산', '투자', '대해', '부', '법정', '문화', '도시', '울산', '문화', '박람회', '일', '까지', '열려', '사우나', '부터', '핵폭탄', '까지', '대중', '의', '질문', '에', '대한', '과학자', '들', '의', '수다', '날씨', '와', '생활', '일교차', '커지', '면서', '뇌졸중', '위험', '쑥', '쉼', '이', '되', '는', '안동', '의', '풍경', '들', '한국인', '의', '내로', '남불', '인종', '차별', '욕', '하', '더니', '외국인', '에', '인종', '차별', '밀수', '작품상', '등', '청룡', '영화상', '관', '왕', '이병헌', '정유미', '남녀', '주연', '상', '승가', '란', '화합', '대표', '선승', '청화', '의', '삶', '과', '사상', '울산', '오늘', '낮', '최고', '도', '내일', '도', '같', '은', '운동량', '인데', '겨울', '에', '살', '더', '빠지', '네', '의문', '풀', '어', '줄', '인체', '신비', '암심', '장병', '아닌', '세계', '대', '사', '망원', '인', '이', '질환', '모르', '는', '사람', '너무', '많', '다', '스마일게이트', '스토브', '가디언', '스톰', '채널', '링', '서비스', '사전', '예약', '정부', '후', '지산', '언제든지', '분화', '가능', '만', '명', '피난', '해야', '국내', '게임', '사', '들', '이', '콘솔', '게임', '개발', '에', '나선', '이유', '는', '이', '코노', '실패', '민관', '위험', '분담', '필요', '주파수', '할당', '기준', '명확', '해져야', '정부', '모바일', '신분증', '발급', '서비스', '시간', '분', '만', '에', '복구', '행정', '전산망', '장애', '불편', '사항', '내주', '부터', '지자체', '민원실', '서', '접수', '종합', '디지털', '플랫', '폼', '정부', '무색', '전산망', '관리', '체계', '개편', '시급', '코인', '으로', '억', '초', '대박', '내', '더니', '살', '천재', '청년', '몰락', '다', '벼른', '다', '종합', '조', '피해', '테라', '루나', '사태', '장본인', '권도형', '몬테네그로', '서', '송환', '승인', '경기', '콘텐츠', '진흥', '원', '년', '콘텐츠', '융', '복합', '기업', '성장', '지원', '프로그램', '성황리', '종료', '정체불명', '우주선', '발견', '됐', '다', '이번', '이', '벌써', '두', '번', '째', '관측', '이', '라고', '억', '돈', '방석', '대', '천재', '청년', '결국', '범죄인', '인도', '승인', '어디', '로', '이번', '엔', '모바일', '신분증', '먹통', '서버', '점검', '중', '장애', '발생', '이', '더러운', '게', '한', '달', '째', '제자리', '골목', '마다', '어김', '없', '는', '자전거', '쓰레기', '이거', '못', '치워', '지', '구', '뭐', '래', '먹통', '사태', '일', '주일', '지났', '는데', '오류', '원인', '미궁', '폴라리스', '쓰리', '디', '푸드', '테크', '서', '홀', '자동', '화', '솔루션', '선', '봬', '오늘', '도', '사랑', '스럽', '개', '코코아', '사랑', '스러운', '강아지', '반려', '견', '육성', '모바일', '게임', '출시', '컨', '텍', '아이큐', '에', '어', '공기', '청정기', '아', '템', '엑스', '선', '봬', '만', '원', '글로벌', '바이오', '투자', '기술', '이전', '줄', '고', '떴', '다']\n"
     ]
    }
   ],
   "source": [
    "from konlpy.tag import Mecab\n",
    "\n",
    "tokenizer = Mecab()\n",
    "\n",
    "#- kor_text에 csv 파일 내용 넣기\n",
    "kor_text = df['news'].to_string(index=False)\n",
    "\n",
    "#- 형태소 분석, 즉 토큰화(tokenization)를 합니다.\n",
    "print(tokenizer.morphs(kor_text))"
   ]
  },
  {
   "cell_type": "code",
   "execution_count": 18,
   "id": "8a4d390d",
   "metadata": {},
   "outputs": [],
   "source": [
    "stopwords = ['에','는','은','을','했','에게','있','이','의','하','한','다','과','때문','할','수','무단','따른','및','금지','전재','경향신문','기자','는데','가','등','들','파이낸셜','저작','등','뉴스', '도',  '인', '서', '올', '와', '내일’, ‘형’, ‘로’, ‘시대’, ’곳', '과', '또', '하는', '하', '는', '속' ,'제' ,'도' ,'덜' ,'본', '부터', '전', '지역', '새', '까지', ]"
   ]
  },
  {
   "cell_type": "code",
   "execution_count": 19,
   "id": "3d4c773d",
   "metadata": {},
   "outputs": [
    {
     "name": "stdout",
     "output_type": "stream",
     "text": [
      "52\n"
     ]
    }
   ],
   "source": [
    "#불용어 개수 확인\n",
    "print(len(stopwords))"
   ]
  },
  {
   "cell_type": "code",
   "execution_count": 20,
   "id": "ac1730d0",
   "metadata": {},
   "outputs": [],
   "source": [
    "# 토큰화 및 토큰화 과정에서 불용어를 제거하는 함수입니다.\n",
    "def preprocessing(data):\n",
    "  text_data = []\n",
    "\n",
    "  for sentence in data:\n",
    "    temp_data = []\n",
    "    #- 토큰화\n",
    "    temp_data = tokenizer.morphs(sentence) \n",
    "    #- 불용어 제거\n",
    "    temp_data = [word for word in temp_data if not word in stopwords] \n",
    "    text_data.append(temp_data)\n",
    "\n",
    "  text_data = list(map(' '.join, text_data))\n",
    "\n",
    "  return text_data"
   ]
  },
  {
   "cell_type": "code",
   "execution_count": 21,
   "id": "0c34d11a",
   "metadata": {},
   "outputs": [
    {
     "name": "stdout",
     "output_type": "stream",
     "text": [
      "조수미 이정재 싸이 엑스포 장공 존 도시 부산 오 세요 엑스포 개최지 발표\n"
     ]
    }
   ],
   "source": [
    "text_data = preprocessing(df['news'])\n",
    "print(text_data[0])"
   ]
  },
  {
   "cell_type": "code",
   "execution_count": 22,
   "id": "d1e90767",
   "metadata": {},
   "outputs": [],
   "source": [
    "from sklearn.model_selection import train_test_split\n",
    "from sklearn.feature_extraction.text import CountVectorizer\n",
    "from sklearn.feature_extraction.text import TfidfTransformer\n",
    "from sklearn.naive_bayes import MultinomialNB\n",
    "from sklearn import metrics"
   ]
  },
  {
   "cell_type": "code",
   "execution_count": 23,
   "id": "04ccbd9f",
   "metadata": {},
   "outputs": [],
   "source": [
    "#- 훈련 데이터와 테스트 데이터를 분리합니다.\n",
    "X_train, X_test, y_train, y_test = train_test_split(text_data, df['code'], random_state = 0)"
   ]
  },
  {
   "cell_type": "code",
   "execution_count": 24,
   "id": "b7d237e9",
   "metadata": {},
   "outputs": [],
   "source": [
    "#- 훈련 데이터와 테스트 데이터를 분리합니다.\n",
    "X_train, X_test, y_train, y_test = train_test_split(text_data, df['code'], random_state = 0)"
   ]
  },
  {
   "cell_type": "code",
   "execution_count": 25,
   "id": "384267a3",
   "metadata": {},
   "outputs": [
    {
     "name": "stdout",
     "output_type": "stream",
     "text": [
      "훈련용 뉴스 기사의 개수 : 165\n",
      "테스트용 뉴스 기사의 개수 :  56\n",
      "훈련용 레이블의 개수 :  165\n",
      "테스트용 레이블의 개수 :  56\n"
     ]
    }
   ],
   "source": [
    "print('훈련용 뉴스 기사의 개수 :', len(X_train))\n",
    "print('테스트용 뉴스 기사의 개수 : ', len(X_test))\n",
    "print('훈련용 레이블의 개수 : ', len(y_train))\n",
    "print('테스트용 레이블의 개수 : ', len(y_test))"
   ]
  },
  {
   "cell_type": "code",
   "execution_count": 26,
   "id": "3e618a8b",
   "metadata": {},
   "outputs": [],
   "source": [
    "#- 단어의 수를 카운트하는 사이킷런의 카운트벡터라이저입니다.\n",
    "count_vect = CountVectorizer()\n",
    "X_train_counts = count_vect.fit_transform(X_train)\n",
    "\n",
    "#- 카운트벡터라이저의 결과로부터 TF-IDF 결과를 얻습니다.\n",
    "tfidf_transformer = TfidfTransformer()\n",
    "X_train_tfidf = tfidf_transformer.fit_transform(X_train_counts)\n",
    "\n",
    "#- 나이브 베이즈 분류기를 수행합니다.\n",
    "#- X_train은 TF-IDF 벡터, y_train은 레이블입니다.\n",
    "clf = MultinomialNB().fit(X_train_tfidf, y_train)"
   ]
  },
  {
   "cell_type": "code",
   "execution_count": 27,
   "id": "66ba2bb6",
   "metadata": {},
   "outputs": [],
   "source": [
    "def tfidf_vectorizer(data):\n",
    "  data_counts = count_vect.transform(data)\n",
    "  data_tfidf = tfidf_transformer.transform(data_counts)\n",
    "  return data_tfidf"
   ]
  },
  {
   "cell_type": "code",
   "execution_count": 28,
   "id": "d9304f2a",
   "metadata": {},
   "outputs": [
    {
     "name": "stdout",
     "output_type": "stream",
     "text": [
      "              precision    recall  f1-score   support\n",
      "\n",
      "       IT/과학       0.83      0.59      0.69        17\n",
      "          경제       0.60      0.33      0.43        18\n",
      "          사회       0.39      0.64      0.48        11\n",
      "       생활/문화       0.38      0.60      0.46        10\n",
      "\n",
      "    accuracy                           0.52        56\n",
      "   macro avg       0.55      0.54      0.52        56\n",
      "weighted avg       0.59      0.52      0.52        56\n",
      "\n"
     ]
    }
   ],
   "source": [
    "y_pred = clf.predict(tfidf_vectorizer(X_test))\n",
    "print(metrics.classification_report(y_test, y_pred))"
   ]
  },
  {
   "cell_type": "markdown",
   "id": "9f4e0e7d",
   "metadata": {},
   "source": [
    "# 회고\n",
    "\n",
    "내용이 어렵다고 느껴 시작하기 전 내용을 이해하기 위해 시간을 많이 소비했는데,\n",
    "이해가 되지 않았더라도 직접 실습을 늦게 시작해 시간관리가 잘 되지 못했다고 느꼈습니다.\n",
    "\n",
    "직접 모델을 돌려보며 f1 score를 높이기 위해 노력했으나 데이터 양이 많아짐에 따라 점점 수치가 낮아지는데,\n",
    "원인을 찾지 못해 아쉬움이 많은 과제였습니다."
   ]
  }
 ],
 "metadata": {
  "kernelspec": {
   "display_name": "Python 3 (ipykernel)",
   "language": "python",
   "name": "python3"
  },
  "language_info": {
   "codemirror_mode": {
    "name": "ipython",
    "version": 3
   },
   "file_extension": ".py",
   "mimetype": "text/x-python",
   "name": "python",
   "nbconvert_exporter": "python",
   "pygments_lexer": "ipython3",
   "version": "3.9.7"
  }
 },
 "nbformat": 4,
 "nbformat_minor": 5
}
