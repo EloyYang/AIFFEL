{
 "cells": [
  {
   "cell_type": "markdown",
   "id": "ce8eb80b",
   "metadata": {},
   "source": [
    "# News Category Classification Project"
   ]
  },
  {
   "cell_type": "markdown",
   "id": "2010ff0d",
   "metadata": {},
   "source": [
    "## News Crawling"
   ]
  },
  {
   "cell_type": "code",
   "execution_count": 3,
   "id": "b3b53997",
   "metadata": {},
   "outputs": [],
   "source": [
    "# 크롤러를 만들기 전 필요한 도구들을 임포트\n",
    "import requests\n",
    "import pandas as pd\n",
    "from bs4 import BeautifulSoup\n",
    "from newspaper import Article\n",
    "import matplotlib.pyplot as plt\n",
    "import koreanize_matplotlib\n",
    "\n",
    "%config InlineBackend.figure_format = 'retina'\n",
    "\n",
    "# 페이지 수, 카테고리, 날짜를 입력\n",
    "def make_urllist(page_num, code, date): \n",
    "  urllist= []\n",
    "  for i in range(1, page_num + 1):\n",
    "    url = 'https://news.naver.com/main/list.nhn?mode=LSD&mid=sec&sid1='+str(code)+'&date='+str(date)+'&page='+str(i)\n",
    "    headers = {'User-Agent': 'Mozilla/5.0 (X11; Linux x86_64) AppleWebKit/537.36 (KHTML, like Gecko) Chrome/54.0.2840.90 Safari/537.36'}\n",
    "    news = requests.get(url, headers=headers)\n",
    "\n",
    "    # BeautifulSoup의 인스턴스 생성\n",
    "    soup = BeautifulSoup(news.content, 'html.parser')\n",
    "\n",
    "    # CASE 1\n",
    "    news_list = soup.select('.newsflash_body .type06_headline li dl')\n",
    "    # CASE 2\n",
    "    news_list.extend(soup.select('.newsflash_body .type06 li dl'))\n",
    "        \n",
    "    # 각 뉴스로부터 a 태그인 <a href ='주소'> 에서 '주소'출력\n",
    "    for line in news_list:\n",
    "        urllist.append(line.a.get('href'))\n",
    "  return urllist"
   ]
  },
  {
   "cell_type": "code",
   "execution_count": 4,
   "id": "cbdf63d5",
   "metadata": {},
   "outputs": [],
   "source": [
    "#코드 네이밍\n",
    "idx2word = {'101' : '경제', '102' : '사회', '103' : '생활/문화', '105' : 'IT/과학'}"
   ]
  },
  {
   "cell_type": "code",
   "execution_count": 5,
   "id": "20e73e26",
   "metadata": {},
   "outputs": [],
   "source": [
    "# 데이터프레임을 생성\n",
    "def make_data(urllist, code):\n",
    "  text_list = []\n",
    "  for url in urllist:\n",
    "    article = Article(url, language='ko')\n",
    "    article.download()\n",
    "    article.parse()\n",
    "    text_list.append(article.title)\n",
    "\n",
    "  #- 데이터프레임의 'news' 키 아래 파싱한 텍스트를 밸류\n",
    "  df = pd.DataFrame({'news': text_list})\n",
    "\n",
    "  #- 데이터프레임의 'code' 키 아래 한글 카테고리명\n",
    "  df['code'] = idx2word[str(code)]\n",
    "  return df"
   ]
  },
  {
   "cell_type": "code",
   "execution_count": 6,
   "id": "35e2cefb",
   "metadata": {},
   "outputs": [
    {
     "name": "stdout",
     "output_type": "stream",
     "text": [
      "뉴스 기사의 개수:  40\n"
     ]
    },
    {
     "data": {
      "text/plain": [
       "['https://n.news.naver.com/mnews/article/009/0005222155?sid=105',\n",
       " 'https://n.news.naver.com/mnews/article/092/0002313077?sid=105',\n",
       " 'https://n.news.naver.com/mnews/article/008/0004967473?sid=105',\n",
       " 'https://n.news.naver.com/mnews/article/056/0011611479?sid=105',\n",
       " 'https://n.news.naver.com/mnews/article/056/0011611472?sid=105']"
      ]
     },
     "execution_count": 6,
     "metadata": {},
     "output_type": "execute_result"
    }
   ],
   "source": [
    "url_list = make_urllist(2, 105, 20231128)\n",
    "print('뉴스 기사의 개수: ',len(url_list))\n",
    "url_list[:5]"
   ]
  },
  {
   "cell_type": "code",
   "execution_count": 7,
   "id": "89a8a1ca",
   "metadata": {},
   "outputs": [],
   "source": [
    "def make_total_data(page_num, code_list, date_list):\n",
    "    df = None\n",
    "    for date in date_list:\n",
    "        for code in code_list:\n",
    "            url_list = make_urllist(page_num, code, date)\n",
    "            df_temp = make_data(url_list, code)\n",
    "            print(f'{date} - {code}번 코드에 대한 데이터를 만들었습니다.')\n",
    "            if df is not None:\n",
    "                df = pd.concat([df, df_temp])\n",
    "            else:\n",
    "                df = df_temp\n",
    "    return df"
   ]
  },
  {
   "cell_type": "code",
   "execution_count": 10,
   "id": "d9244cca",
   "metadata": {
    "scrolled": true
   },
   "outputs": [
    {
     "name": "stdout",
     "output_type": "stream",
     "text": [
      "20231127 - 101번 코드에 대한 데이터를 만들었습니다.\n",
      "20231127 - 102번 코드에 대한 데이터를 만들었습니다.\n",
      "20231127 - 103번 코드에 대한 데이터를 만들었습니다.\n",
      "20231127 - 105번 코드에 대한 데이터를 만들었습니다.\n",
      "20231128 - 101번 코드에 대한 데이터를 만들었습니다.\n",
      "20231128 - 102번 코드에 대한 데이터를 만들었습니다.\n",
      "20231128 - 103번 코드에 대한 데이터를 만들었습니다.\n",
      "20231128 - 105번 코드에 대한 데이터를 만들었습니다.\n",
      "20231129 - 101번 코드에 대한 데이터를 만들었습니다.\n",
      "20231129 - 102번 코드에 대한 데이터를 만들었습니다.\n",
      "20231129 - 103번 코드에 대한 데이터를 만들었습니다.\n",
      "20231129 - 105번 코드에 대한 데이터를 만들었습니다.\n"
     ]
    }
   ],
   "source": [
    "date_list = [20231127, 20231128, 20231129]  # 크롤링할 날짜 리스트\n",
    "code_list = [101, 102, 103, 105]  # 뉴스 카테고리 코드 리스트\n",
    "df = make_total_data(3, code_list, date_list)"
   ]
  },
  {
   "cell_type": "code",
   "execution_count": 11,
   "id": "b580e60d",
   "metadata": {},
   "outputs": [
    {
     "name": "stdout",
     "output_type": "stream",
     "text": [
      "뉴스 기사의 개수:  720\n"
     ]
    }
   ],
   "source": [
    "print('뉴스 기사의 개수: ',len(df))"
   ]
  },
  {
   "cell_type": "code",
   "execution_count": 12,
   "id": "400f92b9",
   "metadata": {},
   "outputs": [
    {
     "name": "stdout",
     "output_type": "stream",
     "text": [
      "/aiffel/aiffel/news_crawler/news_data.csv File Saved!\n"
     ]
    }
   ],
   "source": [
    "import os\n",
    "\n",
    "# 데이터프레임 파일을 csv 파일로 저장합니다.\n",
    "csv_path = os.getenv(\"HOME\") + \"/aiffel/news_crawler/news_data.csv\"\n",
    "df.to_csv(csv_path, index=False)\n",
    "\n",
    "if os.path.exists(csv_path):\n",
    "  print('{} File Saved!'.format(csv_path))"
   ]
  },
  {
   "cell_type": "markdown",
   "id": "d9ed1862",
   "metadata": {},
   "source": [
    "## Data Processing"
   ]
  },
  {
   "cell_type": "code",
   "execution_count": 17,
   "id": "5ee097dc",
   "metadata": {},
   "outputs": [
    {
     "data": {
      "text/html": [
       "<div>\n",
       "<style scoped>\n",
       "    .dataframe tbody tr th:only-of-type {\n",
       "        vertical-align: middle;\n",
       "    }\n",
       "\n",
       "    .dataframe tbody tr th {\n",
       "        vertical-align: top;\n",
       "    }\n",
       "\n",
       "    .dataframe thead th {\n",
       "        text-align: right;\n",
       "    }\n",
       "</style>\n",
       "<table border=\"1\" class=\"dataframe\">\n",
       "  <thead>\n",
       "    <tr style=\"text-align: right;\">\n",
       "      <th></th>\n",
       "      <th>news</th>\n",
       "      <th>code</th>\n",
       "    </tr>\n",
       "  </thead>\n",
       "  <tbody>\n",
       "    <tr>\n",
       "      <th>0</th>\n",
       "      <td>NaN</td>\n",
       "      <td>경제</td>\n",
       "    </tr>\n",
       "    <tr>\n",
       "      <th>1</th>\n",
       "      <td>오뚜기, 가격 인상 계획 철회...\"물가안정 기조에 동참\"</td>\n",
       "      <td>경제</td>\n",
       "    </tr>\n",
       "    <tr>\n",
       "      <th>2</th>\n",
       "      <td>독일 전기 에어택시 릴리움, EU 첫 승인 획득</td>\n",
       "      <td>경제</td>\n",
       "    </tr>\n",
       "    <tr>\n",
       "      <th>3</th>\n",
       "      <td>설악산 오색케이블카, 흑자 운영 가능할까?</td>\n",
       "      <td>경제</td>\n",
       "    </tr>\n",
       "    <tr>\n",
       "      <th>4</th>\n",
       "      <td>청년 세대, 30년 뒤 절반으로...5명 중 4명 미혼</td>\n",
       "      <td>경제</td>\n",
       "    </tr>\n",
       "  </tbody>\n",
       "</table>\n",
       "</div>"
      ],
      "text/plain": [
       "                               news code\n",
       "0                               NaN   경제\n",
       "1  오뚜기, 가격 인상 계획 철회...\"물가안정 기조에 동참\"   경제\n",
       "2        독일 전기 에어택시 릴리움, EU 첫 승인 획득   경제\n",
       "3           설악산 오색케이블카, 흑자 운영 가능할까?   경제\n",
       "4    청년 세대, 30년 뒤 절반으로...5명 중 4명 미혼   경제"
      ]
     },
     "execution_count": 17,
     "metadata": {},
     "output_type": "execute_result"
    }
   ],
   "source": [
    "csv_path = os.getenv(\"HOME\") + \"/aiffel/news_crawler/news_data.csv\"\n",
    "df = pd.read_table(csv_path, sep=',')\n",
    "df.head()"
   ]
  },
  {
   "cell_type": "code",
   "execution_count": 18,
   "id": "f634c81e",
   "metadata": {},
   "outputs": [
    {
     "data": {
      "text/plain": [
       "news    1\n",
       "code    0\n",
       "dtype: int64"
      ]
     },
     "execution_count": 18,
     "metadata": {},
     "output_type": "execute_result"
    }
   ],
   "source": [
    "df.isna().sum()"
   ]
  },
  {
   "cell_type": "code",
   "execution_count": 19,
   "id": "1c0ae988",
   "metadata": {},
   "outputs": [],
   "source": [
    "# 첫번째 행에 nan 오류가 있어 제거\n",
    "df.dropna(inplace=True)"
   ]
  },
  {
   "cell_type": "code",
   "execution_count": 20,
   "id": "eee707fb",
   "metadata": {},
   "outputs": [
    {
     "name": "stderr",
     "output_type": "stream",
     "text": [
      "/tmp/ipykernel_31/950953648.py:2: FutureWarning: The default value of regex will change from True to False in a future version.\n",
      "  df['news'] = df['news'].str.replace(\"[^ㄱ-ㅎㅏ-ㅣ가-힣 ]\",\"\")\n"
     ]
    },
    {
     "data": {
      "text/plain": [
       "1               오뚜기 가격 인상 계획 철회물가안정 기조에 동참\n",
       "2                  독일 전기 에어택시 릴리움  첫 승인 획득\n",
       "3                    설악산 오색케이블카 흑자 운영 가능할까\n",
       "4                   청년 세대 년 뒤 절반으로명 중 명 미혼\n",
       "5         국세청 법인세법 가이드 시리즈로 발간이번엔 합병분할 세제편\n",
       "                      ...                 \n",
       "715                  퀄컴 이노베이션 펠로우십 코리아  성료\n",
       "716           년  뮤 저력 입증한 웹젠신규투자 더해 투트랙 전략\n",
       "717      대놓고 아이폰 자랑하더니 유명 아이돌 애플 사랑 이유 있었네\n",
       "718                    스마일게이트   그랜드 파이널 개막\n",
       "719    조성경 차관 연구장비 운영인력 전폭 지원할 것도입기간 일로 단축\n",
       "Name: news, Length: 719, dtype: object"
      ]
     },
     "execution_count": 20,
     "metadata": {},
     "output_type": "execute_result"
    }
   ],
   "source": [
    "# 정규 표현식을 이용해서 한글 외의 문자는 전부 제거\n",
    "df['news'] = df['news'].str.replace(\"[^ㄱ-ㅎㅏ-ㅣ가-힣 ]\",\"\")\n",
    "df['news']"
   ]
  },
  {
   "cell_type": "code",
   "execution_count": 21,
   "id": "f286659e",
   "metadata": {},
   "outputs": [
    {
     "name": "stdout",
     "output_type": "stream",
     "text": [
      "뉴스 기사의 개수:  649\n"
     ]
    }
   ],
   "source": [
    "# 중복된 샘플 제거\n",
    "df.drop_duplicates(subset=['news'], inplace=True)\n",
    "\n",
    "print('뉴스 기사의 개수: ',len(df))"
   ]
  },
  {
   "cell_type": "code",
   "execution_count": 22,
   "id": "c1cbf30d",
   "metadata": {},
   "outputs": [
    {
     "data": {
      "image/png": "[encoded data removed]",
      "text/plain": [
       "<Figure size 432x288 with 1 Axes>"
      ]
     },
     "metadata": {
      "image/png": {
       "height": 280,
       "width": 374
      },
      "needs_background": "light"
     },
     "output_type": "display_data"
    }
   ],
   "source": [
    "df['code'].value_counts().plot(kind='bar')\n",
    "plt.show()"
   ]
  },
  {
   "cell_type": "code",
   "execution_count": 23,
   "id": "08159aa1",
   "metadata": {},
   "outputs": [
    {
     "name": "stdout",
     "output_type": "stream",
     "text": [
      "    code  count\n",
      "0  IT/과학    161\n",
      "1     경제    167\n",
      "2     사회    157\n",
      "3  생활/문화    164\n"
     ]
    }
   ],
   "source": [
    "print(df.groupby('code').size().reset_index(name = 'count'))"
   ]
  },
  {
   "cell_type": "code",
   "execution_count": 24,
   "id": "952385d7",
   "metadata": {},
   "outputs": [
    {
     "name": "stdout",
     "output_type": "stream",
     "text": [
      "['오뚜기', '가격', '인상', '계획', '철회', '물가', '안정', '기조', '에', '동참', '독일', '전기', '에어택시', '릴리', '움', '첫', '승인', '획득', '설악산', '오색', '케이블카', '흑자', '운영', '가능', '할까', '청년', '세대', '년', '뒤', '절반', '으로', '명', '중', '명', '미혼', '국세청', '법인세법', '가이드', '시리즈', '로', '발간', '이번', '엔', '합', '병분', '할', '세제', '편', '단독', '부산', '엑스포', '개최지', '선정', '앞두', '고', '부산', '로마', '연대', '가시', '화', '포토', '화학', '물질', '저감', '우수', '제품', '발표', '울주군', '지역', '투자', '유치', '환경', '개선', '사업', '공모', '선정', '울산', '휘발유', '와', '경유', '가격', '주', '연속', '하락', '울산', '주력', '업종', '월', '경기', '전망', '기준치', '밑돌', '아', '올', '댓', '차', '이나', '리얼', '미', '스마트폰', '출하량', '년', '만', '에', '억대', '돌파', '반유대주의', '논란', '머스크', '하마스', '제거', '돼야', '맞장구', '울산', '도심', '융합', '특구', '그린벨트', '해제', '절차', '본격', '화', '포토', '크리스마스', '분위기', '물씬', '루시드', '신차', '발표', '에', '도', '투자', '등급', '보유', '로', '내려가', '용인', '특례시', '일자리', '창출', '우수', '기업', '곳', '에', '인증서', '현판', '수여', '초미세', '먼지', '고농', '도', '조기', '예보', '충청', '호남', '으로', '확대', '김동연', '경기', '지사', '스페인', '카탈루냐', '주지사', '면담', '옷', '좀', '입', '는', '언니', '들', '이', '픽', '했', '다', '겨울', '대전', '에서', '살아남', '은', '이효리', '패딩', '뭐', '길래', '탈', '탄소', '보안', '등', '해사', '분야', '협력', '강화', '약속', '최초', '문서', '합의', '우크라', '원전', '주', '전력선', '일', '만', '에', '또', '끊겨', '오뚜기', '제품', '가격', '인상', '계획', '철회', '키로', '간', '편식', '소비자', '들', '휴', '엑스포', '개최지', '결정', '최태원', '오늘', '도', '전투', '벌어진다', '일', '주일', '만', '에', '또', '집합', '은행', '권', '상생', '금융', '거듭', '압박', '청년', '세대', '년', '뒤', '반', '토막', '지금', '도', '명', '중', '명', '이', '미혼', '부산', '이', '냐', '사우디', '냐', '엑스포', '개최지', '일', '시', '분', '쯤', '발표', '쇼', '피파', '이', '블랙', '프라이데이', '훈풍', '에', '주가', '개', '월래', '최고', '폭스바겐', '직원', '감축', '등', '으로', '억', '달러', '절감', '계획', '도이치', '방크', '년', '말', '까지', '추가', '상승', '가능', '블랙', '프라이데이', '온라인', '쇼핑', '증가', '깨끗', '한', '나라', '스마트', '통합', '방재', '센터', '오픈', '안전', '한', '작업', '환경', '마련', '헬스', '케어', '중립', '매도', '하향', '목표', '가', '달러', '벌써', '다섯', '번', '째', '회의', '카카오', '창업자', '김범수', '관리', '체제', '강화', '주문', '이경호', '부산', '엑스포', '유치', '지원', '단장', '이길', '수', '있', '다', '일념', '으로', '최선', '부산', '엑스포', '유치', '운명', '오', '는', '일', '시분', '께', '결정', '될', '듯', '홈', '씨씨', '인테리어', '프리미엄', '강마', '루', '숲', '강마', '루', '텍', '스쳐', '신', '제품', '출시', '충청북도', '이스타항공', '청주', '공항', '활성', '화', '협약', '충북', '서', '럼', '피스킨', '소강', '상태', '방역대', '해제', '검사', '최하위권', '농민', '수당', '또', '제자리', '농민', '반발', '검증', '안', '된', '투자', '유치', '실적', '에', '데이터', '센터', '도', '포함', '경제', '정책', '빵점', '고작', '만', '지지', '사면초가', '기시', '다', '어쩌', '나', '증시', '찬물', '될라', '대주주', '주식', '팔', '지', '마', '한동훈', '이정재', '사진', '한', '장', '에', '주가', '급등', '임세령', '대상', '홀딩스', '무슨', '일', '장례', '산후', '조리', '등', '생활', '밀착', '서비스', '개선', '의료', '계', '등', '반발', '로', '표류', '비대', '면', '진료', '재외', '국민', '대상', '우선', '시행', '으로', '물꼬', '공공', '택지', '매각', '후', '급등', '건설사', '만', '배', '불려', '두', '나무', '블록체인', '으로', '멸종', '위기', '식물', '보호', '숏', '잇', '슈', '주택', '금융', '공사', '부동산', '보증', '확대', '나', '서', '엑스포', '유치', '위해', '기업', '개국', '여명', '과', '네트', '워킹', '회의', '회', '랠리', '불씨', '꺼질', '라베이', '징', '거래소', '상장', '기업', '대주주', '주식', '매각', '금지', '원희룡', '장관', '도시', '철도', '정관', '선', '등', '지역', '현안', '점검', '집중', '취재', '위기', '의', '시골', '버스', '터미널', '관광', '시설', '유치', '로', '활성', '화', '연', '대', '금리', '집값', '대출', '청년', '청약', '통장', '출시', '중', '장년층', '은', '소외감', '현명', '한', '금융', '생활', '꿀', '팁', '해', '외채', '권', '투자', '시', '환율', '변동', '위험', '반드시', '고려', '해야', '올', '하반기', '중소', '제조업', '평균', '일', '급', '만', '원', '최고액', '직종', '은', '김진태', '지사', '청년', '들', '과', '치맥', '하', '며', '다양', '한', '의견', '청취', '금융', '위', '소', '상공', '인', '대환', '대출', '대상', '확대', '전세', '사기', '다', '가구', '주택', '세입자', '전원', '동의', '못', '받', '아도', '매입', '길', '열린다', '그', '랩', '결국', '못', '따라잡', '고', '배민', '베트남', '진출', '년', '만', '에', '철수', '용인', '서', '도로변', '에', '누워', '있', '던', '주취', '자', '명', '승용차', '에', '깔려', '다쳐', '이선균', '마약', '제공', '혐의', '의사', '영장', '기각', '경찰', '수사', '난항', '휠', '만', '남', '은', '바퀴', '로', '달렸', '다', '만취', '운전자', '의', '위험', '천만', '도', '주', '경찰', '팔', '출신', '대학', '생', '명', '총격', '가', '한', '대', '백', '인', '남성', '체포', '기피', '일자리', '에', '외국', '인력', '내년', '만', '천', '명', '최대', '인천', '기계식', '지하', '주차장', '서', '작업자', '명', '추락', '해', '부상', '방', '성환', '경기도', '의원', '법', '조례', '부재', '상황', '에서', '농어민', '기회', '소득', '예산', '편성', '절차', '정당', '성', '부족', '내년', '신규', '외국인', '근로자', '만', '천', '명', '역대', '최대식', '당서', '도', '일', '해', '사법', '농단', '임종헌', '징역', '년', '구형', '사법', '신뢰', '붕괴', '속', '초시', '글로벌', '워', '케이', '션', '수도', '속초', '선포', '속옷', '만', '입', '고', '있', '던', '남편', '베란다', '엔', '장교', '숨', '어', '있', '어', '징계', '불복', '소송', '패소', '수능', '끝', '나자', '논술', '총력전', '사교육', '부담', '은', '눈덩이', '경기도', '융합', '과', '학교', '육', '원', '올해', '연구', '과제', '발표회', '및', '수료식', '개최', '홍천', '금은방', '절', '도', '대', '구속', '특수', '절', '도', '혐의', '인생', '사진', '건지', '려다', '추락', '사고', '잇따라', '통제', '구역', '증가', '법무부', '명', '허위', '난민', '신청', '말레이시아', '브로커', '검거', '전교조', '전자', '칠판', '논란', '신경호', '교육감', '무', '책임', '태도', '최종구', '전', '금융', '위원장', '강원', '조직', '위원장', '위촉', '배스', '블루길', '브라운', '송어', '까지', '외래종', '에', '잠식', '된', '소양강', '꽈추형', '갑', '질', '인정', '권고사직', '서명', '뒤', '퇴사', '홍성우', '반응', '은', '지인', '부고', '문자', '누르', '니', '문자', '폭탄', '차', '피해', '주', '의', '경희대', '위안부', '망언', '교수', '징계', '제청', '본교', '명예', '훼손', '강릉시', '영상미디어센터', '갑자기', '휴관', '반발', '잇따라', '여경', '과', '년', '넘', '게', '부적', '절', '관계', '징계', '처분', '정당', '해', '대한민국', '특별자치시', '도', '협의회', '출범', '공동', '대응', '자녀', '수능', '감독관', '에', '폭언', '한', '유명', '강사', '교육부', '고발', '조치', '주호민', '아들', '특수', '교사', '녹음', '파일', '공개', '재판부', '부모', '속상할', '만', '경주', '안계', '댐', '공사', '하', '던', '다리', '붕괴', '작업자', '명', '숨져', '모델', '여', '명', '불법', '촬영대', '촬영', '작가', '구속', '송치', '동거', '연인', '도', '혼인', '인정', '출산', '육아', '지원', '을', '고령', '층', '도', '공감', '부산', '외대', '양자', '기술', '전문', '기업', '주', '퀀텀', '센싱', '과', '업무', '협약', '체결', '술', '취해', '층서', '고양이', '마리', '던져', '죽', '게', '한', '대', '재', '판행', '한국', '진짜', '큰일', '난', '다년', '뒤', '청년', '인구', '반', '토막', '성', '관계', '유도', '한', '뒤', '신고', '하', '겠', '다', '협박', '해', '돈', '뜯', '은', '일당', '적발', '취약', '계층', '근로', '감독', '결과', '곳', '서', '억', '여', '원', '임금', '체불', '경주', '안계', '댐', '서', '건설', '중', '다리', '붕괴', '물', '에', '빠진', '노동', '자', '명', '숨져', '시', '의회', '대', '기업', '출신', '시설', '공단', '이사장', '후보', '적격', '판단', '밉상', '버릇', '고약', '주호민', '아들', '학대', '사건', '교사', '녹', '취록', '공개', '제', '의', '전', '청조', '주의보', '여자', '인', '척', '사', '기', '치', '고', '만', '원', '만', '요구', '민주당', '시당', '울산', '시체', '육', '회장', '정치', '중립', '의무', '위반', '눈앞', '에', '다가온', '개최지', '선정', '투표', '한', '마음', '으로', '응원', '울산', '공장', '김장', '김치', '톤', '담가', '시설', '등', '에', '전달', '경찰', '사건', '브로커', '관련', '명', '직위', '해제', '감찰', '은', '아직', '검경', '고위직', '출신', '동시', '압수수색', '백현동', '수사', '무마', '금품', '수수', '의혹', '수능', '감독관', '위협', '유명', '강사', '학부모', '죄송', '하', '다', '부정행위', '는', '아냐', '포토', '민관', '합동', '화재', '진압', '훈련', '발', '주가', '폭락', '라', '덕연', '구속', '연장', '보석', '기각', '건조', '한', '날씨', '에', '산불', '위험', '쑥', '부주', '의', '허경영', '하늘', '궁', '측', '숨진', '남성', '불', '로유', '구매', '사실', '없', '어', '경찰', '하늘', '궁', '우유', '판매', '사실', '없', '어', '이선균', '마약', '제공', '의사', '구속', '기각', '권', '지용', '출국', '금지', '해제', '울산', '도', '첫', '럼', '피스킨', '의심', '신고', '정밀', '검사', '한복', '으로', '한국', '을', '알린다', '헬스', '장서', '여성', '꼬리뼈', '만졌', '다', '에', '딱', '걸린', '대', '서울', '쌍문동', '일대', '정전', '시간', '여', '만', '에', '복구', '파리', '에서', '한국', '을', '알', '리다', '흰', '박혜원', '한국', '청년', '희망', '대상', '표창', '지적', '장애', '와', '달라요', '경계선', '지능', '장애', '에', '대한', '오해', '와', '진실', '마음', '처방', '미스터', '트롯', '진', '안성훈', '국내', '독거', '노인', '지원', '사업', '에', '만', '원', '기부', '물', '내리', '기', '전', '꼭', '확인', '이', '모양', '대변', '무시', '했다간', '병', '키울', '수', '도', '치마', '독특', '하', '네', '신현빈', '주', '얼리', '만', '만', '원', '어치', '걸친', '겨울', '패션', '울산', '오늘', '낮', '최고', '도내', '일', '도', '파리', '총회', '일', '시분', '엑스포', '개최지', '발표', '투표', '절차', '와', '예상', '은', '무', '운동', '여주', '대신', '중', '고', '개교', '주년', '조형물', '제막식', '생활', '날씨', '밤사이', '찬바람', '다시', '초겨울', '추위', '내일', '출근길', '영하', '권', '하루', '에', '개', '씩', '약', '먹', '는', '노인', '들', '두', '명', '중', '한', '명', '이', '잘못', '복용', '하', '고', '있', '어', '강해', '설교', '종말', '을', '맞이', '하', '는', '성도', '마리아', '는', '왜', '고가', '의', '향유', '를', '예수', '님', '께', '쏟', '아', '부', '었', '을까', '거창군', '배경', '웹', '드라마', '김치', '시사회', '열려', '가', '야', '고분군', '세계유산', '인증서', '수령', '다음', '달', '기념식', '트럼프', '당선', '되', '면', '폐기', '될', '수', '도', '내년', '전기차', '시장', '최대', '변수', '미', '대선', '추위', '와', '함께', '온', '미세먼지', '동해안', '은', '산불', '주', '의', '기록', '하', '면', '기억', '할', '수', '있', '어', '한글', '그림', '으로', '멸', '종위', '기종', '기록', '하', '는', '숨탄것', '들', '진관', '우', '작가', '차', '한', '.', '..', '요즘', '누가', '입', '어요', '자녀', '롱', '패딩', '부모', '가', '입', '는', '사연', '전남', '봉수', '유적', '곳', '국가', '지정', '문화유산', '지정', '납작', '하', '게', '죽', '은', '정수리', '볼륨', '이것', '바꾸', '면', '되살아나', '뉴스', '날씨', '밤사이', '눈비', '내일', '찬바람', '불', '며', '추워져', '금악리', '폐기물', '처리', '업체', '논란', '이달', '의', '방송', '기자상', '수상', '운', '치', '있', '는', '겨울', '못', '풍경', '가', '야', '고분군', '세계유산', '등', '재', '인증서', '인수', '전북', '내일', '아침', '까지', '비', '눈', '기온', '떨어져', '날씨', '밤사이', '다시', '영하', '권', '추위', '아침', '까지', '산발', '적', '비', '눈', '조금', '지역', '안무가', '모십니다', '국립', '현대', '무용단', '상생', '사업', '러시아', '에', '겨울', '폭풍', '덮쳐', '명', '사망', '만', '명', '단전', '내', '가', '탄', '비행기', '도', '항공기', '편', '중', '편', '꼴', '로', '병원균', '검출', '따뜻', '하', '고', '실용', '적', '인', '주말', '여행', '룩', '예수', '신발', '로', '검색어', '위미', '술계', '악동', '미스', '치프', '의', '도발', '년', '월', '일', '중부', '곳곳', '눈비', '운전', '조심', '오늘', '의', '날씨', '포토', '위호', '텔', '제주', '겨울철', '방어', '프로모션', '날씨', '내일', '아침', '까지', '산발', '적', '눈', '비', '다시', '찬바람', '강해져', '침수', '에', '가장', '취약', '한', '동대문', '구', '안전', '한', '자치구', '는', '종로구', '유산소', '의', '최고봉', '달리기', '초심자', '가', '부상', '없이', '뛰', '려면', '겨울철', '체온', '사', '수법', '진위', '판별', '이', '어려운', '시대', '출판사', '올해', '의', '단어', '는', '진짜', '날씨', '한낮', '에', '도', '쌀쌀', '다시', '찾아오', '는', '영하', '권', '추위', '상생', '안', '마련', '중', '인데', '작심', '비판', '후', '방통', '위도', '카카오', '모빌리티', '저격', '날씨', '수도', '권', '밤', '까지', '비', '내일', '서울', '아침', '영하', '도', '년', '강력', '한', '트렌드', '여행', '의', '귀환', '서울', '의', '봄', '일', '째', '만', '명', '돌파', '범죄', '도시', '이후', '최단기간', '국립', '발레단', '호두', '까', '기', '인형', '다음', '달', '일', '예술', '의', '전', '당서', '막', '올린다', '참군', '인', '고', '김오랑', '중령', '재조명', '만', '관객', '부른', '서울', '의', '봄', '중국', '위', '일본', '위', '라는', '데', '한국인', '영어', '실력', '은', '몇', '위', '단숨에', '만', '고지', '점령', '한', '서울', '의', '봄', '그', '밤', '에', '대한', '관심', '엄형', '준의', '씬', '세계', '내일', '날씨', '뚝', '떨어진', '기온', '오늘', '보다', '더', '추워', '요', '중부', '아침', '영하', '로', '연말', '앞두', '고', '가격', '올리', '려던', '오뚜기', '결국', '인상', '철회', '건보', '지역', '가입자', '소득', '정산', '제', '안착', '절실', '년', '우정', '의', '역사', '덕수궁', '서', '특별', '전', '주', '변국', '매독', '증가세', '심상찮', '다', '정부', '전수', '감시', '내년', '시작', '세대', '달달', '한', '썸', '타', '기', '멜로', '의', '열기', '이', '어', '갈까', '술', '도', '안', '마시', '는', '데세', '김창옥', '집', '주소', '도', '잊', '었', '다', '날씨', '본격', '겨울', '추위', '대비', '아침', '까지', '비', '눈', '조금', '도로', '살얼음', '주', '의', '유인촌', '웹툰', '종주국', '정부', '역할', '키우', '도록', '하', '겠', '다', '수백', '억', '기부', '했', '던', '그', '의', '양복', '은', '낡', '았', '다', '돈', '은', '똥', '말', '한', '어른', '날씨', '경남', '내일', '낮', '부터', '기온', '다시', '낮', '아', '져', '서부', '내륙', '곳곳', '비', '눈', '하필', '그곳', '에', '공', '맞', '고', '암', '발견', '한', '사연', '가짜', '범람', '의', '시대', '웹스터', '년', '의', '단어', '진짜', '바이', '셀', '스탠다드', '국제', '표준', '보안', '인증', '년', '연속', '획득', '사진', '엑스포', '꿈', '은', '이루어진다', '번가', '창사', '이래', '첫', '희망퇴직', '실시', '스타', '를', '만나', '다', '암세포', '를', '색칠', '하', '다', '구본경', '유전', '체교', '정연구', '단장', '남부', '발전', '안동', '빛', '드림', '본부', '취약', '계층', '에', '사랑', '의', '김장', '후원', '한전', '한국', '품질', '경영', '학회', '최고품', '질', '경영자', '상', '영예', '인터뷰', '지능', '형', '교통', '체계', '도시', '상', '선정', '안양시', '기술', '고도', '화', '의', '배경', '은', '한난', '가스공사', '서부', '발전', '중기', '해외', '판로', '활성', '화', '협약', '정체', '된', '주력', '사업', '의', '돌파구', '로', '국내', '대', '기업', '들', '도', '동분서주', '빅뱅', '년', '예산', '부터', '정하', '고', '쓸', '곳', '은', '나중', '에', '절차', '뒤바뀐', '글로벌', '박윤규', '부터', '이용훈', '유지상', '까지', '통신', '개혁', '일선', '나선', '차기', '과기', '정통부', '장관', '후보', '자', '로', '물망', '다음', '뉴스', '검색', '기본', '값', '변경', '에', '지역', '언론사', '들', '풀뿌리', '지역', '언론', '말살', '왜', '만', '아이', '폰', '통화', '녹음', '돼', '소비자', '원성', '폭발', '주', '동안', '억', '원', '몰렸', '다', '연구', '중복', '해소', '와', '개선', '두', '마리', '토끼', '노리', '는', '국가', '기술', '연구', '센터', '방', '심위', '가짜', '뉴스', '신속', '심의', '절차', '본격', '시행', '보', '은', '투자', '의혹', '서정식', '현대', '오토', '에버', '대표', '사임', '기후', '변화', '는', '지금', '눈', '없', '는', '겨울', '온다', '눈', '의', '태양', '빛', '반사', '줄', '어', '온난', '화', '가속', '전', '세계', '개발자', '들', '한', '자리', '에', '올해', '화두', '는', '생성', '형', '리', '인', '벤트', '쿵', '야', '팝업', '스토어', '에', '만', '명', '몰렸', '다', '제회', '산업', '보호', '대상', '콘텐츠', '이', '어', '도', '해외', '로', '불법', '복제', '율', '대로', '낮춰야', '베스', '핀', '글로벌', '커', '넥', '티비', '티', '클라우드', '기업', '클라우드', '플레어', '와', '총판', '계약', '느슨', '했', '다', '질', '책', '받', '은', '카카오', '김범수', '준법', '인사', '재무', '밀착', '관리', '하', '자', '파수', '생성', '형', '민감', '정보', '유출', '사전', '차단', '연구', '실패', '해도', '불', '이익', '없', '다', '정부', '평가', '제', '손', '보', '며', '과학', '계', '달래', '기', '베스', '핀', '글로벌', '클라우드', '플레어', '와', '한국', '총판', '계약', '체결', '비타민', '로', '암', '까지', '고친', '대', '철석', '같이', '믿', '었', '던', '환자', '들', '피눈물', '나', '겠', '네', '뉴스', '라', '운지', '새로운', '산업', '혁명', '꿈꾸', '는', '로봇', '산업', '한국', '전망', '은', '인사', '방송', '통신', '위원회', '청룡', '이', '인정', '한', '기술력', '덱스터', '스튜디오', '영화', '더', '문', '로', '기술', '상', '수상', '과학', '입국', '다시', '꺼낸', '대통령', '케네디', '문', '샷', '까지', '언급', '한', '까닭', '이번', '엔', '방통', '위', '카카오', '모빌리티', '등', '개인', '위치', '정보', '관리', '점검', '사이', '냅', '소프트', '문서', '뷰어', '공공', '기관', '시범', '서비스', '이종호', '장관', '대한민국', '디지털', '심화', '시대', '강국', '도약', '중', '동동', '남', '아', '국내', '기업', '주인공', '될', '무대', '삼성전자', '폰', '상표', '등록', '갤럭시', '탑재', '할', '듯', '이종호', '장관', '도전', '적', '평가', '등급제', '폐지', '단순', '성패', '안', '따져', '코', '알', '못', '도', '소상', '공인', '도', '챗', '만드', '는', '시대', '빅뱅', '년', '경찰', '비자금', '의혹', '김상철', '한컴', '회장', '아들', '영장', '신청', '과기부', '예산', '후속', '대책', '발표', '과학', '계', '반발', '여전', '원천', '기술', '개발', '몰입', '할', '수', '있', '게', '우수', '연구자', '엔', '사업', '화', '지원', '까지', '네이버', '국가', '보훈', '부', '와', '함께', '일상', '속', '보훈', '문화', '확산', '위한', '체결', '기업', '용', '망', '오류', '에', '서울', '소방', '긴급', '출통', '시스템', '한', '시간', '반', '먹통', '개인', '정보', '만', '건', '유출', '위험', '사이버', '공격', '받', '은', '라인', '야후', '장수', '모바일게임', '더프', '레이', '월', '퀴즈', '인증', '이벤트', '알뜰', '폰', '유심', '퀵', '배달', '사업', '만지작', '정우성', '차라리', '안', '봐', '천', '원', '인상', '에', '역풍', '맞', '은', '디즈니', '다', '들', '떠난다', '가입', '부터', '해지', '중', '고', '폰', '까지', '휴대폰', '데이터', '유출', '막', '는다', '신임', '원장', '선임', '부결', '재료', '연', '은', '연임', '실패', '네오', '위즈', '의', '거짓', '팬', '아트', '전시회', '개최', '쇄신', '고삐', '죄', '는', '김범수', '카카오', '책임', '명확', '한', '구조', '로', '바꿀', '것', '다음', '시즌', '김민재', '활약상', '쿠팡', '플레이', '로', '보', '세요', '동남아', '사로잡', '은', '이프', '랜드', '글로벌', '메타', '버스', '시장', '본격', '공략', '영화', '관', '안', '부럽', '네', '인치', '로', '집', '에서', '도', '생생', '하', '게', '조수미', '이정재', '싸이', '엑스포', '등', '장공', '존', '의', '도시', '부산', '에', '오', '세요', '엑스포', '개최지', '발표', '미국', '월', '주택', '가격', '개월', '연속', '상승', '사상', '최고', '가', '또', '경신', '횡', '성', '디피', '코', '사모', '펀드', '운용', '사', '와', '조건부', '투자', '계약', '월', '유로존', '통화', '공급량', '개월', '째', '감소', '통역', '도', '이젠', '실시간', '으로', '언어', '의', '장벽', '허무', '는', '동해', '묵호항', '항만', '대기', '질', '관리', '구역', '지정', '요구', '구도심', '강릉역', '역세', '권', '개발', '은', '언제', '강릉', '부산', '철도', '내년', '개통', '기대', '이하', '속도', '속보', '엑스포', '후보', '개국', '최종', '종료', '투표', '절차', '시작', '뉴스', '초점', '부산', '엑스포', '결전', '의', '날', '최종', '로', '승부수', '오뚜기', '이', '어', '풀무원', '도', '식품', '사', '들', '가격', '인상', '철회', '함께', '나', '는', '부산갈매기', '인류', '연대', '담론', '으로', '마지막', '표', '심', '잡', '기', '종합', '농협', '은행', '판매', '중', '단홍', '콩', '지수', '폭락', '에', '손실', '우려', '내년', '회사채', '스프', '레드', '축소', '우량', '등급', '선호', '지속', '금고', '아래', '손', '넣', '으니', '돈다발', '고소득', '유', '튜버', '도', '고액', '체납자', '포함', '울산시', '아이', '가', '행복', '한', '돌봄', '도시', '년', '간', '천억', '투', '입', '엑스포', '최종', '분전', '총회장', '로비', '서', '한', '사우디', '신경전', '종합', '년', '영남', '권', '청년', '수도', '권', '으로', '이동', '울산시', '파크', '골프장', '운영', '일본', '서', '배운다', '미국', '주택', '가격', '개월', '연속', '상승', '월', '전월', '대비', '총회장', '앞', '에서', '부산', '엑스포', '홍보', '마켓', '인', '난이', '도', '높', '지만', '전망', '은', '확실', '항공', '산업', '에', '눈', '돌리', '는', '최태원', '회장', '부산', '엑스포', '세계', '위기', '에', '맞춤', '형', '솔루션', '제공', '할', '것', '머니', '쇼', '출사표', '최현만', '회장', '의', '년', '원동력', '어머니', '의', '한', '마디', '총회', '인류', '대전환', '엑스포', '함께', '나', '는', '부산갈매기', '연대', '담론', '로', '표', '심', '잡', '기', '연대', '담론', '로', '마지막', '호소', '부산', '갈매기', '부터', '박지우', '박사', '까지', '하이파이브', '하', '는', '한덕수', '총리', '와', '최태원', '회장', '홍콩', '리스크', '에', '농협', '은행', '판매', '중단', '반기문', '전', '유엔', '사무총장', '부산', '엑스포', '지지', '연설', '부산', '엑스포', '지지', '연설', '나선', '반기문', '전', '유엔', '사무총장', '만', '명', '돌파', '한', '교육', '플랫', '폼', '구름', '이용자', '확보', '비결', '은', '부산', '엑스포', '최종', '연사', '로', '나선', '한덕수', '국무총리', '인류', '대전환', '엑스포', '함께', '나', '는', '부산갈매기', '연대', '담론', '로', '표', '심', '잡', '기', '욕설', '논란', '에', '카르텔', '폭로', '까지', '스텝', '꼬인', '김범수', '쇄', '신안', '엑스포', '경쟁', '에', '외국인', '유학', '생', '깜짝', '등장', '부산', '엑스포', '최종', '나선', '한덕수', '국무총리', '최종', '첫', '번', '째', '연사', '로', '나선', '박형준', '부산', '시장', '부산', '엑스포', '핵심', '비전', '소개', '하', '는', '나승연', '홍보', '대사', '최종', '경쟁', '연사', '로', '나선', '최태원', '대한상의', '회장', '세', '번', '째', '연사', '소개', '하', '는', '나승연', '부산', '엑스포', '홍보', '대사', '부산', '세계', '박람회', '공약', '발표', '하', '는', '최태원', '대한상의', '회장', '부산', '엑스포', '목적지', '아닌', '시작점', '미래', '세대', '위한', '대전환', '의', '길', '엑스포', '경쟁', '에', '개국', '출신', '외국인', '유학', '생', '깜짝', '등장', '타', '는', '냄새', '가', '출근길', '김포', '골', '드라인', '서', '잇단', '신고', '확인', '해', '보', '니', '일시', '적', '주택', '등', '종부', '세', '특별', '공제', '요건', '꼼꼼히', '챙겨야', '더', '머니', '이스트', '마스터즈', '의', '금융', '톡톡', '부산', '은', '준비', '됐', '다', '최종', '연사', '명', '차례', '로', '엑스포', '전후', '비전', '제시', '엑스포', '결전', '의', '날', '엑스포', '개최지', '투표장', '앞서', '부산', '엑스포', '홍보', '부산', '의', '매력', '소개', '하', '는', '박형준', '부산', '시장', '과', '마스코트', '부기', '대구', '공항', '코로나', '이후', '누적', '항공', '여객', '만', '명', '달성', '돈가스', '으로', '명', '원생', '배식', '한', '어린이집', '원장', '재판', '뉴스', '특보', '엑스포', '개최지', '발표', '부산', '의', '도전', '동명이인', '환자', '명의', '로', '의료', '용', '마약', '류', '처방', '받', '은', '의사', '만', '원', '의', '가치', '만', '원', '의', '효용', '을', '체감', '하', '는', '기자', '협회', '년', '힘차', '고', '따뜻', '한', '기자', '협회', '원년', '세계일보', '사건', '팀', '장애', '인', '본부', '이달', '의', '좋', '은', '기사', '상', '나', '에게', '우리', '에게', '세상', '에', '쓸모', '있', '는', '기자', '협회', '유', '튜버', '일탈', '어디', '까지', '모텔', '서', '수면제', '투약', '하', '고', '방송', '한', '대', '해마루', '촌', '마을', '주민', '동서대', '에', '감사패', '쌀', '전달', '강릉시', '옥계면', '연곡면', '일대', '지적', '재조사', '사업', '추진', '핵심', '비전', '소개', '하', '는', '나승연', '부산', '엑스포', '홍보', '대사', '평창', '국제', '올림픽', '연구', '센터', '컨퍼런스', '개막', '우리', '부산', '은', '요', '핵심', '비전', '소개', '하', '는', '나승연', '홍보', '대사', '며느리', '살해', '한', '시아버지', '아들', '내외', '가', '나', '죽이', '려', '했', '다', '피해', '망상', '추정', '전쟁', '폐허', '극복', '한', '부산', '의', '저력', '공유', '연대', '의', '엑스포', '역설', '엑스포', '개최지', '선정', '채팅', '앱', '서', '만난', '또래', '여학생', '살해', '한', '대', '남학생', '구속', '기소', '강릉', '급발진', '의심', '사고', '민사', '소송', '변론', '기일', '열려', '포토', '장애', '인', '먼저', '실천', '상', '시상식', '강원도', '농업', '예산', '삭감', '에', '농업', '인', '단체', '반발', '문제', '는', '생태', '아닌', '인간', '중심', '환경', '정책', '최종', '하', '는', '박형준', '부산', '시장', '사유지', '서', '버섯', '따', '던', '대', '나가', '달', '라는', '주인', '쇠', '파이프', '로', '폭행', '해', '실형', '최종', '하', '는', '한덕수', '국무총리', '엑스포', '최종', '공약', '발표', '하', '는', '한덕수', '총리', '최종', '서', '공약', '발표', '하', '는', '한덕수', '국무총리', '삼엄', '한', '대구교도소', '재소자', '이송', '작전', '권총', '테이저', '건', '무장', '납치', '로', '오해', '택시', '서', '뛰어내려', '숨진', '여대생', '택시', '기사', '등', '무죄', '이유', '는', '내', '스타일', '아이작', '노벨', '선', '봬', '엑스포', '최종', '지지', '연설', '하', '는', '반기문', '전', '유엔', '사무총장', '강원', '문화', '재단', '공', '적', '기금', '투자', '억', '원', '손실', '절차', '문제', '지적', '반기문', '전', '유엔', '사무총장', '엑스포', '최종', '서', '지', '지', '연설', '수능', '끝난', '청소년', '일탈', '않', '도록', '강동구', '합동', '캠페인', '실시', '부산', '의', '매력', '알리', '는', '최태원', '대한상의', '회장', '최종', '하', '는', '최태원', '대한상의', '회장', '최종', '나선', '박형준', '부산', '시장', '최종', '하', '는', '박형준', '부산광역시장', '결혼', '축의금', '으로', '줬', '던', '만원', '비', '혼', '축의금', '으로', '되돌려', '줘', '손절', '위기', '대구경북', '과학', '기술원', '신임', '총장', '에', '이건우', '서울대', '전', '공대', '학장', '한국', '의', '발전', '할아버지', '꿈', '이뤄졌', '다', '참', '전', '용사', '손녀', '감동', '의', '방통', '위', '연합뉴스', '민영화', '심사', '단', '주', '만', '에', '일사천리', '이세영', '의', '세상', '읽', '기', '도박', '자금', '으로', '사용', '하', '기', '위하', '여', '돈', '을', '차용', '한', '행위', '와', '사기죄', '대출', '해줄테', '니', '개인', '정보', '달라', '대포', '유심', '천', '개', '유통', '다음', '뉴스', '검색', '기본', '값', '사', '로', '제한', '거', '센', '반발', '주인', '잃', '은', '토지', '년', '만', '에', '소유자', '품', '으로', '울산', '중구', '적극', '행정', '빛났', '다', '이성근', '화백', '내년', '월', '말', '까지', '도화', '전', '한국일보', '총', '급여', '인상', '경향신문', '기본급', '올려', '울산시', '드론', '실증', '도시', '구축', '사업', '우수', '지자체', '선정', '밀양시', '의회', '제회', '정례회', '개회', '법원', '방송사', '이희진', '피해자', '들', '에', '일부', '배상', '하', '라', '진주시', '현장', '수요자', '중심', '의', '규제', '혁신', '펼쳐', '울산', '남구', '테크노', '산업', '로', '일원', '자율', '주행', '차', '시범', '운행', '지구', '지정', '가짜', '환자', '지만', '정신', '병원', '입원', '에', '성공', '했', '습니다', '베를린', '필하모닉', '년', '준비', '한', '진은숙', '에디션', '발매', '가장', '아름다운', '비밀', '은', '쓰', '지', '않', '아요', '여성', '영화', '인', '축제', '올해', '의', '여성', '영화', '인상', '시상식', '월일', '개최', '외국', '은', '즐기', '는데', '한국', '은', '잘', '해야', '만', '한다', '현대', '사회', '에서', '평화', '찾', '는', '이곳', '엄마', '우리', '집', '채소', '는', '왜', '얼', '어', '있', '어', '싸', '니까', '냉', '동식', '재료', '인기', '라는', '데', '조선', '자유', '언론', '수호', '투쟁', '위원회', '엮음', '동아제약', '중대', '재해', '대응', '모의', '훈련', '실시', '심폐', '소생', '술', '등', '교육', '휴', '젤', '여성', '소비자', '가', '뽑', '은', '좋', '은', '기업', '대상', '년', '연속', '수상', '울산', '오늘', '낮', '최고', '기온', '도내', '일', '도', '나이', '들', '어', '꼬부랑', '허리', '안', '되', '려면', '이곳', '단련', '필수', '이노', '엔', '고용', '노동부', '안전', '문화', '확산', '위한', '업무', '협약', '체결', '온', '국민', '염원', '담', '아두', '남자', '안', '산', '서', '부산', '까지', '걸', '었', '다', '엑스포', '개최지', '발표', '전쟁', '과', '폭력', '의', '시대', '소년', '들', '의', '칼', '은', '정의', '로웠', '네', '교황', '건강', '문제', '에', '도', '기후', '정상', '회의', '예정', '대로', '참석', '종합', '작곡계', '노벨상', '받', '은', '진은숙', '베를린', '필', '진', '에디션', '발매', '운동', '효과', '확', '높이', '려면', '끝나', '고', '이것', '꼭', '해야', '날씨', '내일', '더', '추워져', '일부', '강원경', '북', '한파', '특보', '한', '개발', '도', '상국', '중', '장기', '지원', '강화', '위한', '신탁', '기금', '포괄', '협정', '체결', '스마트', '관광', '의', '미래', '기술', '활용', '에', '달렸', '다', '이창근', '의', '트래블', '아트', '베를린', '필하모닉', '진은숙', '에디션', '음반', '발매', '암표', '문제', '공개', '청원', '전환', '년', '전', '법률', '개정', '촉구', '청석', '학원', '창학', '주년', '기념', '번개', '모임', '행사', '잡곡', '많이', '섞', '을수록', '좋', '은', '것', '아냐', '항고', '혈압', '효과', '극대', '화', '하', '는', '비율', '은', '뉴스', '날씨', '내일', '내륙', '에', '눈', '조금', '더', '추워져', '월', '창원', '시청자', '위원회', '열려', '년', '월', '일', '어서', '집', '으로', '퇴근길', '등', '떠미', '는', '강풍', '오늘', '의', '날씨', '전국', '일', '까지', '매서운', '추위', '한', '개발', '도', '상국', '지원', '위한', '신탁', '기금', '포괄', '협정', '체결', '관광공사', '국립', '공원', '공단', '과', '맞손', '코리아', '둘레길', '내', '안내', '표지판', '설치', '등', '날씨', '제주', '내일', '대체로', '흐림', '점점', '더', '추워져', '생', '방송', '심층', '토론', '소멸', '위기', '전북', '이민', '정책', '방향', '은', '잠시', '뒤', '시', '방송', '날씨', '일부', '강원경', '북', '한파', '주의보', '일', '더', '추워', '서쪽', '눈비', '조금', '체육', '회장', '선거', '개입', '보도', '민주', '언론', '상', '수상', '책', '이', '라는', '우주', '추상', '에', '담', '았', '죠', '민화', '에서', '추상', '화가', '로', '변신', '한', '엄미', '금', '날씨', '북극', '한기', '몰려온다', '강풍', '속', '영하', '권', '추위', '계속', '삼성', '그만두', '고', '이곳', '간', '남자', '자신감', '이유', '있', '다는', '데', '여행', '터', '뷰', '수많', '은', '개인', '의', '소소', '한', '일상', '또', '다른', '역사', '로', '남', '았', '다', '고', '혈압', '이', '젊', '어', '지', '고', '있', '다', '혈압', '조절', '거의', '제대로', '안', '돼', '반려', '인', '반려', '동물', '과', '동반', '여행', '가장', '많이', '찾', '은', '곳', '은', '제주', '차', '값', '만', '억', '도', '안', '아깝', '네', '쿠페', '디자인', '도', '승차감', '도', '갓', '벽', '시', '승기', '날씨', '서울', '아침', '영하', '도', '수도', '권', '등', '비', '눈', '날씨', '내일', '서울', '아침', '영하', '도서', '쪽', '중심', '으로', '눈', '이나', '비', '날씨', '일부', '강원경', '북', '한파', '특보', '내일', '출근길', '영하', '권', '강추위', '단독', '이중섭', '의', '미공', '개작', '황소', '경매', '에', '가치', '인정', '받', '을까', '만화', '웹툰', '계', '무단', '학습', '면책', '법', '국회', '논의', '작가', '피해', '우려', '셀린', '송', '영화', '패스트', '라이브', '즈', '고섬', '어', '워즈', '최우수', '작품상', '포커', '상금', '만', '억', '넘', '었', '다', '홍진호', '국제', '대회', '또', '우승', '내일', '날씨', '영하', '권', '추위', '전국', '곳곳', '눈', '또는', '비', '빙판길', '조심', '하', '세요', '년', '간', '이런', '광경', '못', '봤', '어요', '뜨거워진', '부산', '월드컵', '이후', '최대', '응원', '열기', '엑스포', '개최지', '발표', '국가', '대표', '선수촌', '교회', '성탄절', '점', '등', '예배', '반도체', '규제', '개선', '현장', '방문', '맨발', '걷', '기', '국민운동', '본부', '와', '대한', '노인회', '치매', '예방', '캠페인', '을', '위한', '체결', '술', '취해', '잘', '못', '잠들', '면', '근육', '썩', '는다', '최낙정', '전', '해수부', '장관', '별세', '해부학', '연구', '에', '시신', '기증', '내일', '날씨', '전국', '곳곳', '에', '눈', '또는', '비', '빙판길', '강풍', '조심', '하', '세요', '년', '묵', '은', '암표', '법', '개정', '공개', '청원', '전환', '깊', '어', '가', '는', '겨울', '청와대', '밤', '산책', '어때요', '우리', '할머니', '인슐린', '주사', '그만', '맞', '아도', '될까', '당뇨', '완치', '길', '열리', '나', '솔루션', '즈', '테크니컬', '센터', '열', '어', '유럽', '시장', '잡', '는다', '유', '니스트', '세계', '에서', '가장', '영향', '력', '있', '는', '연구자', '명', '이용훈', '총장', '과기부', '장관', '물망', '유', '니스트', '는', '쿠쿠', '전자', '대용량', '아이', '편한', '가습기', '출시', '이런', '같', '은', '욕설', '회의', '카카오', '임원', '문제점', '지적', '하', '다', '실수', '코웨이', '환경', '기술', '연구소', '년', '연속', '공인', '시험', '기관', '인정', '스타트업', '터널', '속', '에서', '도', '차량', '의', '정확', '한', '위치', '파악', '돕', '는', '씨', '너', '렉스', '바이오', '기술', '선도', '포스', '텍', '혁신', '연구', '센터', '개소', '카', '이스트', '인공지능', '반도체', '대학원', '개원', '지하', '정밀', '탐사', '땅속', '내시경', '개발', '부산', '디지털', '자산', '거래소', '사업자', '블록체인', '큰손', '파전', '카카오', '내부', '폭', '로', '전', '시작', '김정호', '경영', '총괄', '욕설', '해명', '에', '경영', '실태', '폭', '로', '생성', '형', '시대', '데이터', '센터', '열', '을', '식혀라', '카카오', '카르텔', '의혹', '수면', '위', '로', '치부', '전면', '에', '드러낸', '김범수', '최', '측근', '방통', '위', '통신', '분쟁', '조정', '제도', '발전', '방향', '세미나', '개최', '직원', '폭언', '논란', '김정호', '카카오', '경영', '총괄', '업무', '관행', '문제점', '지적', '하', '다', '나온', '실수', '노키아', '음성', '으로', '네트워크', '재', '구성', '하', '는', '기술', '공개', '김정호', '카카오', '위원', '욕설', '해명', '묻', '지', '마식', '억', '공사', '에', '임원', '들', '침묵', '분통', '한중일', '우편', '고위급', '회의', '개최', '신사업', '모델', '발굴', '논의', '국내', '두', '번', '째', '반도체', '대학원', '에', '문', '열어', '방통', '위', '방', '문진', '이사', '청탁', '금지법', '위반', '관련', '조사', '직원', '폭언', '논란', '휩싸인', '카카오', '김정호', '경영', '실태', '폭로', '로', '맞불', '임원회', '의서', '욕설', '한', '카카오', '고위', '임원', '업무', '관행', '문제', '지적', '하', '다', '실수', '문', '이', '과', '최고', '엘리트', '일자리', '도', '줄어든다고', '인간', '떨', '게', '하', '는', '이것', '화학', '연구원', '어디', '든', '붙이', '고', '모양', '바꾸', '는', '스피커', '개발', '민주당', '이동관', '방통', '위원장', '탄핵', '소', '추안', '재발', '의', '욕설', '논란', '카카오', '김정호', '업무', '관행', '지적', '중', '실수', '책임지', '겠', '다', '억', '공사', '업체', '바꾸', '는', '게', '말', '이', '되', '나', '카카오', '레벨', '의', '폭', '로', '전', '대체', '무슨', '일', '카카오', '데이터', '센터', '비리', '제보', '감사', '착수', '김정호', '카카오', '이사장', '욕설', '사건', '전말', '굳이', '외부', '업체', '쓰', '는', '게', '말', '되', '나', '분노', '내년', '월', '디지털', '플랫', '폼', '정부', '특별법', '입법', '추진', '데이터', '칸막이', '없앤다', '아이폰', '샷', '유명', '여배우', '도', '몰랐', '다', '알', '고', '보', '면', '사진', '은', '삼성', '이', '낫', '다', '트리', '센', '티스', '기업', '앱', '서비스', '오류', '테스트', '자동', '화', '해결', '인사', '행정', '안', '전부', '방통', '위', '방', '문진', '이사', '청탁', '금지법', '위반', '당사자', '의견', '조사', '여기', '는', '포항', '바이오', '기술', '선도', '포스', '텍', '혁신', '연구', '센터', '개소', '카카오', '서울', '아레나', '비리', '제보', '감사', '착수', '삼성', '바이오', '로직스', '연간', '누적', '수주', '첫', '조', '돌파', '올해', '매출', '전망', '상향', '그치', '지', '않', '는', '게임', '속', '혐오', '젠더', '갈등', '에', '불똥', '튄', '게', '임사', '여성', '과학자', '도', '결혼', '출산', '젠더', '장벽', '세계', '적', '으로', '높', '은', '수준', '유라', '클', '삼성생명', '통합', '포인트', '시스템', '구축', '완료', '과기원', '인공지능', '반도체', '대학원', '개원', '카카오', '데이터', '센터', '서울', '아레나', '일감', '몰아주', '기', '의혹', '에', '내부', '감사', '중', '미소녀', '방치', '형', '상상', '소녀', '삼국지', '수라', '전장', '참여', '이벤트', '초고', '가', '골프', '회원', '권', '으로', '호의호식', '김정호', '카카오', '비', '정상', '적', '경영', '실태', '폭', '로', '인공지능', '시대', '맞', '아', '디지털', '분야', '책임', '질', '컨트롤', '타워', '세워야', '항공', '제조업', '위기', '우주', '산업', '기회', '잡', '으려면', '우주', '항공', '청', '시급', '카카오', '데이터', '센터', '안산', '서울', '아레나', '건설', '비리', '내부', '감사', '기획', '말', '로', '만', '과기', '중시', '원칙', '기관장', '인사', '누가', '요즘', '영화', '전단지', '챙겨', '영화관', '도', '안', '가', '는데', '고스란히', '쓰레기', '신세', '지구', '뭐', '래', '조성경', '차관', '예산', '은', '미래', '를', '위한', '절박', '함', '서', '비롯', '전남', '지역', '이공', '계', '학생', '과', '릴레이', '대화', '김정호', '카카오', '이사장', '삼고초려', '끝', '에', '카카오', '합류', '볼수록', '화', '가', '나', '분기', '합계', '출산율', '도', '사상', '최저', '출생', '절벽', '현실', '화', '고성', '송지호', '관광지', '대', '규모', '복합', '리조트', '단지', '추진', '태백', '지역', '택시', '콜', '센터', '내년', '부터', '재통합', '운영', '강릉시', '커피', '산업', '지속', '성장', '플랫', '폼', '구축', '사업', '추진', '대우건설', '예멘', '에너지', '인프라', '사업', '진출', '추진', '위생', '특화', '된', '코웨이', '정수기', '토탈', '케어', '서비스', '주목', '태국', '기준', '금리', '로', '동결', '금융', '긴축', '주기', '에', '종지부', '경유지', '에서', '체류', '형', '관광지', '로', '설악동', '활성', '화', '시동', '조기', '금리', '인하', '기대', '뉴욕', '증시', '상승', '출발', '개국', '천', '여', '명', '접촉', '경제', '영토', '넓혔', '다', '넷플릭스', '넘', '어서', '나', '국내', '티빙', '웨이브', '합병', '추진', '단독', '입주', '전날', '밤', '전격', '임시', '사용', '승인', '받', '은', '개포', '주공', '단지', '입주', '대란', '피했', '다', '을지', '학원', '연합뉴스', '최', '다액', '출자자', '신청', '철회', '대', '기업', '평균', '월급', '만', '원', '중소기업', '은', '만', '원', '분기', '성장', '률', '잠정', '치', '넘', '었', '다', '상향', '종합', '년', '글로벌', '패션', '업계', '성장', '축소', '전망', '기상이변', '과제', '올해', '주택', '종부', '세', '납부', '자', '만', '명', '지난해', '분', '의', '사우디', '킹덤', '홀딩', '씨', '티', '그룹', '지분', '억', '천만', '달러', '매입', '니', '오', '지리', '자동차', '배터리', '교환', '기술', '협력', '한국', '조선', '에', '수주', '위', '내줄', '듯', '고부', '가', '가치', '선', '위주', '도요타', '공급', '업체', '덴', '소', '지분', '매각', '하포드', '시장', '변동', '성', '에', '세전', '이익', '목표', '하향', '울산', '공공', '기관', '정규직', '채용', '감소세', '올해', '도', '줄어들', '듯', '울산', '금융', '기관', '수신', '한', '달', '새', '천억', '이상', '늘', '어', '해양', '플랜트', '서비스', '산업', '기술', '컨퍼런스', '시장', '설명', '회', '부산', '개최', '고금리', '고', '물가', '에', '울산', '소비자', '심리', '찬바람', '마켓', '인', '부동산', '발목', '중소형', '증권사', '신용', '등급', '빨간', '불', '분기', '성장', '률', '로', '상향', '카드', '사', '리볼빙', '잔액', '조금', '감원', '다음', '달', '리스크', '관리', '지도', '샤넬', '에르메스', '나이키', '재판매', '금지', '등', '불', '공정', '약관', '적', '발', '이', '복현', '홍콩', '사태', '은행', '자기', '면피', '뿐', '질타', '시기상조', '하이브', '음원', '시장', '점유', '율', '서', '타', '엔터', '사', '배', '이상', '높', '아', '엔터', '주', '분기', '성장', '초기', '발표', '보다', '상향', '남동', '발전', '직원', '청렴', '윤리', '반', '부패', '의식', '강화', '에', '가', '직접', '나서', '다', '한국', '휴', '텍스', '제약', '적합', '판정', '취소', '의약품', '제조', '불가', '하이엔드', '오피스텔', '더', '파크', '사이드', '스위트', '분양', '해', '넘긴다', '내년', '월', '예정', '교보생명', '자립', '준비', '청년', '지원', '상생', '금융', '상품', '교보', '청년', '저축', '보험', '출시', '춘천', '출신', '홍경선', '삼성전자', '상무', '부사장', '승진', '연구원', '통해', '기획', '창작자', '시대', '연다', '리', '인', '벤트', '분기', '경제', '성장', '률', '잠정', '치', '로', '상향', '속보', '치', '대비', '종합', '홍콩', '항셍지수', '베이징', '거래소', '상장', '증권', '도', '지수', '범위', '포함', '분기', '성장', '률', '잠정', '치', '상향', '하승진', '전태풍', '과', '농구', '챌린지', '에', '문동', '주노', '시환', '도', '동참', '한', '화', '라이프', '플러스', '스포츠', '이벤트', '개최', '티빙', '웨이브', '합병', '초읽기', '넷플릭스', '대항마', '로', '떠오르', '나', '해', '양수산', '소식', '울산', '항만', '공', '사', '년', '항만', '보안', '혁신', '대회', '최우수', '상', '하', '면', '된다', '구호', '만', '앞세운', '한국', '맞춤', '공약', '제시', '한', '사우디', '에', '완패', '쿠알라룸푸르', '행', '대한', '항공', '비행기', '창문', '에', '금인', '천', '으로', '회항', '부유물', '감김', '사고', '가', '자주', '발생', '하', '는', '해역', '한눈', '에', '본다', '속보', '미국', '분기', '경제', '성장', '률', '잠정', '치', '상향', '조정', '분기', '성장', '률', '잠정', '치', '속보', '치', '대비', '에너지', '뉴스', '에너지', '공단', '대중', '소기업', '동반', '성장', '유공', '중기', '부', '장관', '상', '수상', '젠더', '미디어', '특별상', '에', '경향', '여성', '서사', '아카이브', '플랫', '소매', '업체', '풋', '라', '커', '뜻밖', '의', '실적', '에', '개장', '전', '주가', '급등', '종합부동산세', '납부', '대상', '만', '명', '에서', '만', '명', '으로', '감소', '감염병', '동시', '감염', '시', '면역', '반응', '원리', '밝혔', '다', '저', '금리', '갈아타', '기', '발목', '잡', '던', '중도', '상환', '수수료', '확', '낮춘다는', '데', '방통', '위', '어도비', '에', '과징금', '억', '원', '환불', '조건', '개선', '내', '목소리', '그대로', '한국어', '영어', '번역', '더빙', '마법', '같', '은', '일', '벌써', '현실', '로', '코', '로', '나', '풀리', '자', '다', '문화', '혼인', '역대', '최대', '안성', '칠', '장사', '화재', '자승', '조계종', '총무원장', '입', '적', '전', '조계종', '총무원장', '자승', '스님', '화재', '로', '사망', '사고', '전', '유서', '형식', '메모', '남겨', '경찰', '자승', '스님', '입', '적', '한', '칠', '장사', '화재', '당시', '명', '대피', '안성', '칠', '장사', '에', '불', '조계종', '전', '총무원장', '자승', '스님', '입', '적', '안성', '칠', '장사', '화재', '조계종', '자승', '전', '총무원장', '입', '적', '종', '합보', '속초', '해경', '도루묵', '불법', '포획', '특별', '단속', '시행', '동해', '삼척', '기후', '위기', '비상', '행동', '출범기', '후', '정치', '실현', '하', '라', '경기', '안성', '사찰', '서', '불', '조계종', '전', '총무원장', '자승', '스님', '숨져', '여대', '이력서', '거른다', '채용', '실무자', '글', '정부', '직접', '나선다', '상중', '도', '호수', '정원', '토지', '주', '춘천시', '상대', '로', '집단', '소송', '생태', '원', '긴급', '생태', '조사', '소양강', '남대천', '망라', '안성', '칠', '장사', '서', '화재', '발생', '자승', '스님', '숨진', '채', '발견', '강원도', '교육청', '공석', '교권', '전담', '변호사', '달', '만', '에', '채용', '종합안', '성', '칠', '장사', '에서', '화재', '발생', '전', '총무원장', '자승', '스님', '입', '적', '경기', '안성', '칠', '장사', '에서', '불', '자승', '스님', '숨진', '채', '발견', '강원도', '아파트', '스프링클러', '없', '어', '초기', '대응', '사각', '황의조', '월', '아시안', '컵', '출전', '하', '려면', '그', '전', '에', '불기소', '처분', '받', '아야', '이제', '짠', '한', '형', '못', '보', '나', '넘쳐나', '는', '유튜브', '술방', '에', '칼', '빼든', '정부', '왜', '조계종', '자승', '스님', '입', '적', '칠', '장사', '화재', '현장', '법구', '발견', '자승', '조계종', '전', '총무원장', '입', '적', '칠', '장사', '화재', '동해', '안', '산', '불', '도심', '확산', '막', '는다', '소방', '헬기', '훈련', '실시', '여대', '는', '무조건', '거른다', '채용', '성', '차별', '논란', '에', '정부', '실태', '조사', '나선다', '안성', '칠', '장사', '화재', '자승', '전', '조계종', '총무원장', '입', '적', '미군', '수송기', '규슈', '해상', '에', '추락', '탑승자', '명', '숨져', '선거', '개입', '재판부', '특정', '인', '이익', '위해', '비서실', '경찰', '조직', '사', '적', '이용', '심', '청와대', '수사', '청탁', '인정', '판결', '살펴보', '니', '자승', '전', '조계종', '총무원장', '안성', '칠', '장사', '화재', '로', '입', '적', '전교조', '경남', '지부', '도내', '교사', '최근', '년', '간', '갑', '질', '당해', '대학생', '전법', '에', '열정', '쏟', '겠', '다', '이틀', '전', '자승', '전', '총무원장', '의', '말', '조계종', '자승', '전', '총무원장', '입', '적', '칠', '장사', '화재', '현장', '서', '법구', '확인', '종합', '장생포', '고래', '문화', '특구', '년', '우수', '특구', '선정', '남구', '행복', '남', '구', '도시', '브랜드', '선', '포식', '개최', '그래픽', '일본', '규슈', '남부', '바다', '에', '미군', '수송기', '추락', '종', '합보', '자승', '전', '조계종', '총무원장', '입', '적', '칠', '장사', '화재', '현장', '서', '법구', '발견', '유흥업소', '에', '대', '고용', '모텔', '데려가', '몹쓸', '짓', '영어', '수업', '에', '로봇', '교사', '투입', '활용', '해', '공교육', '강화', '자승', '조계종', '총무원장', '입', '적', '사찰', '화재', '로', '의문', '남겨', '이태원', '참사', '해밀톤', '호텔', '대표', '에', '벌금', '고작', '불법', '증축', '일부', '만', '인정', '공', '수처', '자중지란', '부장', '검사', '정치', '편향', '폭', '로', '해안가', '음주', '차', '박하', '다', '풍덩', '안전사고', '주', '의', '자승', '조계종', '총무원장', '입', '적', '사진', '안성', '칠', '장사', '화재', '경기', '안성', '칠', '장사', '요사채', '서', '불', '자승', '스님', '숨진', '채', '발견', '복지', '부', '의', '협', '또', '신경전', '그럼', '협상', '하', '지', '말', '까요', '억', '원', '넘', '는', '혈세', '공중분해', '책임', '은', '누가', '탄소', '못', '줄이', '면', '년', '뒤', '바다', '절반', '이', '아', '열', '대', '안성', '칠', '장사', '에서', '화재', '발생', '전', '총무원장', '자승', '스님', '입', '적', '울산', '시장', '선거', '개입', '의혹', '송철호', '징역', '년', '조희연', '서이', '초', '사건', '무혐', '의', '유감', '순직', '인정', '최선', '경기', '안성', '사찰', '화재', '로', '조계종', '전', '총무원장', '입', '적', '서이', '초', '사건', '재수사', '하', '라', '교사', '등', '만', '천', '명', '서명', '입', '적', '자승', '스님', '은', '총무원장', '연임', '한', '조계종', '내', '대표', '적', '행정', '승', '이', '음식', '섭', '취량', '만', '늘', '어도', '당뇨', '확률', '증가', '한다', '테슬라', '야심작', '사이버', '트럭', '출시', '임박', '소재', '가', '가장', '큰', '문제', '속보', '안성', '칠', '장사', '화재', '자승', '전', '총무원장', '입', '적', '안성', '칠', '장사', '화재', '로', '조계종', '총무원장', '지낸', '자승', '스님', '입', '적', '뷔', '지민', '정국', '월', '에', '육군', '현역', '입대', '세븐', '틴', '뉴', '진스', '마마', '어', '워즈', '싹쓸이', '하이브', '천하', '였', '다', '속보', '조계종', '전', '총무원장', '자승', '스님', '입', '적', '안성', '칠', '장사', '화재', '현장', '서', '발견', '조계종', '자승', '전', '총무원장', '입', '적', '칠', '장사', '화재', '현장', '서', '법구', '확인', '속보', '안성', '칠', '장사', '서', '화재', '조계종', '관계자', '자승', '전', '총무원장', '입', '적', '자승', '전', '총무원장', '칠', '장사', '요사채', '화재', '로', '입', '적', '경기', '안성', '칠', '장사', '요사채', '불', '자승', '스님', '입', '적', '속보', '안성', '칠', '장사', '서', '불', '조계종', '자승', '전', '총무원장', '입', '적', '보', '조계종', '자승', '전', '총무원장', '입', '적', '칠', '장사', '화재', '현장', '서', '법구', '확인', '조계종', '전', '총무원장', '자승', '스님', '입', '적', '칠', '장사', '화재', '현장', '서', '숨진', '채', '발견', '여행', '이', '있', '는', '주말', '엔', '이런', '곳', '어때요', '제철', '맞', '은', '방어회', '이것', '찍', '어', '먹', '으면', '균', '없애', '고', '기억력', '개선', '도', '세상', '의', '이치', '화폭', '에', '담', '다', '울산', '오늘', '낮', '최고', '도', '내일', '부터', '영하', '권', '추위', '최고', '법원', '공공', '기관', '히잡', '착용', '금지', '에', '적법', '판결', '내일', '날씨', '는', '더', '춥', '다', '서울', '아침', '최저', '도', '보', '조계종', '관계자', '자승', '전', '총무원장', '입', '적', '조계종', '전', '총무원장', '자승', '스님', '입', '적', '안성', '칠', '장사', '화재', '현장', '서', '발견', '상보', '한', '남대', '새', '총장', '에', '이승철', '교수', '포토', '파리바', '게', '뜨', '생일', '케이크', '월', '개', '지원', '생활', '날씨', '중부', '등', '곳곳', '한파', '특보', '내일', '한', '겨울', '추위', '포토', '파리바', '게', '뜨', '지역', '아동', '센터', '생일', '케이크', '지원', '속보', '조계종', '전', '총무원장', '자승', '스님', '사망', '경기', '안성', '칠', '장사', '화재', '현장', '서', '발견', '두통', '개월', '시달린', '남성', '머리', '에', '젓가락', '박히', '고', '도', '몰랐', '다', '세상', '에', '무슨', '일', '현대', '문학상', '에', '소설', '정영수', '시', '김복희', '평론', '양윤', '의', '덕수궁', '석조전', '에서', '열린', '석조전', '음악회', '뉴시스', '애니메이션', '으로', '만나', '는', '예수', '시공간', '세대', '초월', '해', '복음', '전', '한다', '흐리', '고', '쌀쌀', '내일', '기온', '더', '떨어져', '안성', '칠', '장사', '화재', '에', '자승', '스님', '사망설', '조계종', '사실', '관계', '파악', '중', '찬', '바람', '동반', '하', '는', '강추', '위체', '감온', '도', '올리', '려면', '어떻게', '커피', '공화국', '수천', '씩', '버려', '지', '는', '캡슐', '들', '어디', '로', '가', '나', '봤', '더니', '현장', '이', '습관', '고치', '지', '않', '으면', '내', '몸', '에', '미세', '플라스틱', '쌓인다', '뉴스', '날씨', '내일', '더', '추워져', '출근길', '서울', '체감', '영하', '도', '안성', '칠', '장사', '요사채', '서', '불명', '숨져', '스님', '추정', '날씨', '아침', '추위', '절정', '서해안', '제주', '눈', '빙판길', '주', '의', '강풍', '속', '영하', '권', '추위', '지속', '체감', '온도', '영하', '도', '까지', '뚝', '대전', '시청', '자위', '지역', '언론', '의', '사명', '다', '해', '달', '라', '년', '월', '일', '출근길', '영하', '서해안', '눈비', '오늘', '의', '날씨', '화', '양연', '화', '주년', '에', '완전체', '컴백', '뷔', '지민', '정국', '입대', '날짜', '나왔', '다', '날씨', '북극', '발', '한파', '속', '곳곳', '눈', '빙판', '비상', '내일', '추위', '절정', '뉴질랜드', '쿠메', '우', '필름', '스튜디오', '전주', '찾', '아', '영화', '산업', '논의', '강원', '디자인', '페스타', '개막', '개', '분야', '전시관', '운영', '종교', '시민', '사회', '대법원', '강제', '동원', '전범', '기업', '자산', '강제', '매각', '즉시', '명령', '하', '라', '디캠프', '올스타', '전', '스타트업', '한', '자리', '포스코', '어', '디데이', '통합', '우승', '스타트업', '혁신', '기업', '연구원', '이미지', '캡', '셔', '닝', '선', '봬', '텍스트', '서', '이미지', '로', '변환', '된다', '글로벌', '생성', '플랫폼', '에', '첫', '토종', '연구원', '과', '맞손', '연구원', '이미지', '텍스트', '로', '바꿔', '주', '는', '서비스', '내놨', '다', '을지', '학원', '연합뉴스', '인수', '철회', '방통', '위', '심사', '존중', '구글', '년', '간', '접속', '안', '한', '개인', '계정', '다음', '달', '부터', '삭제', '예산', '대거', '삭감', '이공', '계', '달래', '기', '에', '학생', '들', '은', '글쎄', '모바일', '감염병', '아시나', '요', '부고', '문자', '신종', '스미', '싱', '주', '의', '보', '을지', '학원', '방통', '위', '사실', '상', '불허', '에', '연합뉴스', '인수', '철회', '여성', '리더', '에', '김은영', '배', '순민', '오순', '영채', '상미', '인', '네이버', '는', '이미', '공개', '했', '는데', '카카오', '생성', '형', '깜깜무소식', '구글', '년', '간', '접속', '안', '한', '개인', '계정', '다음', '달', '부터', '삭제', '카카오', '게임즈', '장애', '인', '스포츠', '대회', '서', '사회', '공헌', '캠페인', '씰', '국내', '상륙', '대만', '서', '흥행', '돌풍', '일으킨', '꾀돌이', '토끼', '떴', '다', '조성경', '과기부', '차관', '영남', '권', '연구', '현장', '방문', '글로벌', '소통', '신작', '박자', '세계', '사로잡', '은', '넥슨', '게임즈', '박대연', '티맥스', '회장', '클라우드', '로', '글로벌', '공략', '박차', '세', '허준', '이', '교수', '한림원', '정회원', '됐', '다', '한국', '첫', '필즈상', '허준', '이', '교수', '등', '과기', '한림원', '정회원', '명', '선출', '질병', '청', '코로나', '변이', '대응', '위해', '노바', '백스', '백신', '만', '회분', '도입', '인스', '웨이브', '시스템즈', '앱', '빌드', '배포', '서비스', '하이브', '출시', '혁신', '적', '인', '앱', '개발', '배포', '드림', '어스', '컴퍼니', '전', '대표', '리아킴', '이', '창업', '한', '타이탄', '콘텐츠', '투자', '카카오', '게임즈', '올해', '장애', '인', '먼저', '실천', '상서', '우수', '실천', '상', '수상', '기업', '용', '챗', '봇', '아마존', '공개', '구글', '에', '맞불', '리', '인', '벤트', '라이엇', '게임즈', '사회', '공헌', '누적', '모', '금액', '만', '돌파', '엔', '씨', '소프트', '플레이', '스테이션', '소니', '와', '전략', '적', '파트너', '십', '체결', '영상', '방통', '위', '을지', '학원', '연합뉴스', '최', '대주주', '변경', '신청', '불승', '인', '드래곤', '플라이', '아도', '르', '수호', '의', '여신', '공식', '영상', '공개', '년', '연구', '공로', '인정받', '은', '세', '허준', '이', '교수', '이곳', '정회원', '됐', '다는', '데', '게임', '속', '캐릭터', '직접', '만난다', '카페', '팝업', '스토어', '눈길', '포', '티투', '마루', '김동환', '대표', '산업', '발전', '기여', '국무총리', '표창', '스퀘어', '드림', '어스', '미국', '기반', '팝', '기획사', '타이탄', '콘텐츠', '에', '투자', '근현대', '미술', '거장', '오승우', '화백', '작품', '특별', '전시', '넷플릭스', '에', '못', '하', '는', '규제', '플랫폼', '에', '하', '면', '안', '돼', '법제', '개편', '필요', '이노베이션', '아카데미', '대구', '네트', '워킹', '데이', '열', '어', '새만금', '에', '이', '차', '전지', '소재', '공장', '건설', '조억', '원', '투자', '오픈', '놀', '활동', '으로', '청년', '에', '일', '경험', '기회', '제공', '어떻게', '팔', '까', '고민', '말', '고', '어떡', '하', '면', '팔릴지', '고민', '해라', '방통', '위', '년', '방송', '평가', '매체', '별', '최고점', '받', '아', '방통', '위', '방송', '평가', '종편', '위', '을지', '학원', '방통', '위', '불허', '에', '연합뉴스', '인수', '빠르', '게', '철회', '이상', '헌', '의원', '게임', '속', '남성혐오', '게', '임사', '호들갑', '아니', '다', '방통', '위', '어도비', '에', '과징금', '억만', '원', '부과', '조선', '협객', '전', '겨울맞이', '일', '출석', '이벤트', '시작', '방통', '위', '어도비', '에', '과징금', '억', '만', '원', '환불', '조건', '개선', '서울', '디지털', '재단', '인도', '정부', '스마트', '시티', '협력', '간담회', '최상', '의', '컨디션', '찾아내', '는', '꿀잠', '방정식', '생체', '리듬', '에', '답', '있', '다', '생존', '력', '최강', '그린란드', '이끼', '서', '신종', '물', '곰', '발견', '퀄컴', '이노베이션', '펠로우', '십', '코리아', '성', '료', '년', '뮤', '저력', '입증', '한', '웹젠', '신규', '투자', '더', '해', '투트', '랙', '전략', '대놓고', '아이폰', '자랑', '하', '더니', '유명', '아이돌', '애플', '사랑', '이유', '있', '었', '네', '스마일게이트', '그랜드', '파이널', '개막', '조성경', '차관', '연구', '장비', '운영', '인력', '전폭', '지원', '할', '것', '도', '입', '기간', '일', '로', '단축']\n"
     ]
    }
   ],
   "source": [
    "from konlpy.tag import Mecab\n",
    "\n",
    "tokenizer = Mecab()\n",
    "\n",
    "#- kor_text에 csv 파일 내용 넣기\n",
    "kor_text = df['news'].to_string(index=False)\n",
    "\n",
    "#- 형태소 분석, 즉 토큰화(tokenization)를 합니다.\n",
    "print(tokenizer.morphs(kor_text))"
   ]
  },
  {
   "cell_type": "code",
   "execution_count": 25,
   "id": "dc9c70ae",
   "metadata": {},
   "outputs": [],
   "source": [
    "stopwords = ['에','는','은','을','했','에게','있','이','의','하','한','다','과','때문','할','수','무단','따른','및','금지','전재','경향신문','기자','는데','가','등','들','파이낸셜','저작','등','뉴스', '도',  '인', '서', '올', '와', '내일’, ‘형’, ‘로’, ‘시대’, ’곳', '과', '또', '하는', '하', '는', '속' ,'제' ,'도' ,'덜' ,'본', '부터', '전', '지역', '새', '까지', ]"
   ]
  },
  {
   "cell_type": "code",
   "execution_count": 26,
   "id": "d60d3600",
   "metadata": {},
   "outputs": [
    {
     "name": "stdout",
     "output_type": "stream",
     "text": [
      "52\n"
     ]
    }
   ],
   "source": [
    "#불용어 개수 확인\n",
    "print(len(stopwords))"
   ]
  },
  {
   "cell_type": "code",
   "execution_count": 27,
   "id": "ef1314dc",
   "metadata": {},
   "outputs": [],
   "source": [
    "# 토큰화 및 토큰화 과정에서 불용어를 제거하는 함수입니다.\n",
    "def preprocessing(data):\n",
    "  text_data = []\n",
    "\n",
    "  for sentence in data:\n",
    "    temp_data = []\n",
    "    #- 토큰화\n",
    "    temp_data = tokenizer.morphs(sentence) \n",
    "    #- 불용어 제거\n",
    "    temp_data = [word for word in temp_data if not word in stopwords] \n",
    "    text_data.append(temp_data)\n",
    "\n",
    "  text_data = list(map(' '.join, text_data))\n",
    "\n",
    "  return text_data"
   ]
  },
  {
   "cell_type": "code",
   "execution_count": 28,
   "id": "ba19c746",
   "metadata": {},
   "outputs": [
    {
     "name": "stdout",
     "output_type": "stream",
     "text": [
      "오뚜기 가격 인상 계획 철회 물가 안정 기조 동참\n"
     ]
    }
   ],
   "source": [
    "text_data = preprocessing(df['news'])\n",
    "print(text_data[0])"
   ]
  },
  {
   "cell_type": "markdown",
   "id": "cda957f3",
   "metadata": {},
   "source": [
    "## Modeling"
   ]
  },
  {
   "cell_type": "code",
   "execution_count": 29,
   "id": "1d7d4692",
   "metadata": {},
   "outputs": [],
   "source": [
    "from sklearn.model_selection import train_test_split\n",
    "from sklearn.feature_extraction.text import CountVectorizer\n",
    "from sklearn.feature_extraction.text import TfidfTransformer\n",
    "from sklearn.naive_bayes import MultinomialNB\n",
    "from sklearn import metrics"
   ]
  },
  {
   "cell_type": "code",
   "execution_count": 30,
   "id": "7db4f4da",
   "metadata": {},
   "outputs": [],
   "source": [
    "#- 훈련 데이터와 테스트 데이터를 분리합니다.\n",
    "X_train, X_test, y_train, y_test = train_test_split(text_data, df['code'], random_state = 0)"
   ]
  },
  {
   "cell_type": "code",
   "execution_count": 31,
   "id": "bae2afe2",
   "metadata": {},
   "outputs": [
    {
     "name": "stdout",
     "output_type": "stream",
     "text": [
      "훈련용 뉴스 기사의 개수 : 486\n",
      "테스트용 뉴스 기사의 개수 :  163\n",
      "훈련용 레이블의 개수 :  486\n",
      "테스트용 레이블의 개수 :  163\n"
     ]
    }
   ],
   "source": [
    "print('훈련용 뉴스 기사의 개수 :', len(X_train))\n",
    "print('테스트용 뉴스 기사의 개수 : ', len(X_test))\n",
    "print('훈련용 레이블의 개수 : ', len(y_train))\n",
    "print('테스트용 레이블의 개수 : ', len(y_test))"
   ]
  },
  {
   "cell_type": "code",
   "execution_count": 32,
   "id": "050c90ad",
   "metadata": {},
   "outputs": [],
   "source": [
    "count_vect = CountVectorizer()\n",
    "X_train_counts = count_vect.fit_transform(X_train)\n",
    "\n",
    "tfidf_transformer = TfidfTransformer()\n",
    "X_train_tfidf = tfidf_transformer.fit_transform(X_train_counts)\n",
    "\n",
    "clf = MultinomialNB().fit(X_train_tfidf, y_train)"
   ]
  },
  {
   "cell_type": "code",
   "execution_count": 33,
   "id": "b5e61776",
   "metadata": {},
   "outputs": [],
   "source": [
    "def tfidf_vectorizer(data):\n",
    "  data_counts = count_vect.transform(data)\n",
    "  data_tfidf = tfidf_transformer.transform(data_counts)\n",
    "  return data_tfidf"
   ]
  },
  {
   "cell_type": "code",
   "execution_count": 34,
   "id": "d1e4bf33",
   "metadata": {},
   "outputs": [
    {
     "name": "stdout",
     "output_type": "stream",
     "text": [
      "              precision    recall  f1-score   support\n",
      "\n",
      "       IT/과학       0.63      0.66      0.64        41\n",
      "          경제       0.74      0.61      0.67        51\n",
      "          사회       0.52      0.44      0.47        39\n",
      "       생활/문화       0.38      0.53      0.44        32\n",
      "\n",
      "    accuracy                           0.56       163\n",
      "   macro avg       0.56      0.56      0.56       163\n",
      "weighted avg       0.59      0.56      0.57       163\n",
      "\n"
     ]
    }
   ],
   "source": [
    "y_pred = clf.predict(tfidf_vectorizer(X_test))\n",
    "print(metrics.classification_report(y_test, y_pred))"
   ]
  },
  {
   "cell_type": "markdown",
   "id": "28178c91",
   "metadata": {},
   "source": [
    "# Retrospective\n",
    "\n",
    "처음 진행해본 프로젝트였는데, \n",
    "크롤링에서 HTML을 읽어 원하는 부분을 추출하는 것이 익숙하지 않아 시간이 오래 걸리는 것 같다.<br/>\n",
    "하지만 코드는 생각보다 길지 않은 코드로 크롤링과 모델링까지 진행할 수 있어 놀라웠다.<br/>\n",
    "아직 코드는 천천히 익숙해져야 할 것 같다.<br/>\n",
    "<br/>\n",
    "IT/과학, 경제의 f1-score가 사회, 생활/문화 보다 높은 점수가 나왔는데<br/>\n",
    "전문 용어의 사용 비중이 있는 카테고리와 일반적인 단어가 많이 나오는 카테고리의 차이가 아닐까 생각이 들었다.<br/>\n",
    "\n",
    "모델의 점수를 높이기 위해 Stopword와 Tokenizer에 다양한 변화를 주었으나 f1-score를 80점까지 끌어올리지 못했지만<br/>\n",
    "모델링까지 진행해보았던 것에 만족했다."
   ]
  },
  {
   "cell_type": "code",
   "execution_count": null,
   "id": "24b2f4f5",
   "metadata": {},
   "outputs": [],
   "source": []
  }
 ],
 "metadata": {
  "kernelspec": {
   "display_name": "Python 3 (ipykernel)",
   "language": "python",
   "name": "python3"
  },
  "language_info": {
   "codemirror_mode": {
    "name": "ipython",
    "version": 3
   },
   "file_extension": ".py",
   "mimetype": "text/x-python",
   "name": "python",
   "nbconvert_exporter": "python",
   "pygments_lexer": "ipython3",
   "version": "3.9.7"
  }
 },
 "nbformat": 4,
 "nbformat_minor": 5
}
