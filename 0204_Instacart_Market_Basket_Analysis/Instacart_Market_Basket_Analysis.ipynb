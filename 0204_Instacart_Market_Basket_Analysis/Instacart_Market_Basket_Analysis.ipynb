{
  "cells": [
    {
      "cell_type": "markdown",
      "metadata": {
        "id": "eSg42dHFgCHo"
      },
      "source": [
        "# Load Files"
      ]
    },
    {
      "cell_type": "code",
      "execution_count": 2,
      "metadata": {
        "id": "IwPguBXVX1QA"
      },
      "outputs": [
        {
          "name": "stderr",
          "output_type": "stream",
          "text": [
            "/var/folders/h0/rz02629x2b535_x0qf1h70zm0000gn/T/ipykernel_51416/3838270479.py:1: DeprecationWarning: \n",
            "Pyarrow will become a required dependency of pandas in the next major release of pandas (pandas 3.0),\n",
            "(to allow more performant data types, such as the Arrow string type, and better interoperability with other libraries)\n",
            "but was not found to be installed on your system.\n",
            "If this would cause problems for you,\n",
            "please provide us feedback at https://github.com/pandas-dev/pandas/issues/54466\n",
            "        \n",
            "  import pandas as pd\n"
          ]
        }
      ],
      "source": [
        "import pandas as pd\n",
        "from pathlib import Path\n"
      ]
    },
    {
      "cell_type": "code",
      "execution_count": 3,
      "metadata": {},
      "outputs": [],
      "source": [
        "\n",
        "directory_path = Path('/Users/yangdong-yeong/Downloads/instacart-market-basket-analysis')\n",
        "\n",
        "csv_files = directory_path.glob('*.csv')\n",
        "\n",
        "dataframes = {file.name: pd.read_csv(file) for file in csv_files}\n",
        "\n"
      ]
    },
    {
      "cell_type": "code",
      "execution_count": 4,
      "metadata": {
        "id": "jwsZdgc9auYF"
      },
      "outputs": [],
      "source": [
        "aisles = dataframes['aisles.csv']\n",
        "departments = dataframes['departments.csv']\n",
        "order_products__train = dataframes['order_products__train.csv']\n",
        "sample_submission = dataframes['sample_submission.csv']\n",
        "order_products__prior = dataframes['order_products__prior.csv']\n",
        "products = dataframes['products.csv']\n",
        "orders = dataframes['orders.csv']"
      ]
    },
    {
      "cell_type": "markdown",
      "metadata": {},
      "source": [
        "# 기술 통계 및 추정\n",
        "  1. 데이터셋의 전체 구조 파악\n",
        "  2. 기술적 통계량\n",
        "  3. 결측,이상치 분석"
      ]
    },
    {
      "cell_type": "code",
      "execution_count": 5,
      "metadata": {
        "colab": {
          "base_uri": "https://localhost:8080/",
          "height": 1000
        },
        "id": "Ef1egbBWauf2",
        "outputId": "f750203b-52f5-4e8e-9d11-65be2bd1f780"
      },
      "outputs": [
        {
          "name": "stdout",
          "output_type": "stream",
          "text": [
            "aisles.head():\n"
          ]
        },
        {
          "data": {
            "text/html": [
              "<div>\n",
              "<style scoped>\n",
              "    .dataframe tbody tr th:only-of-type {\n",
              "        vertical-align: middle;\n",
              "    }\n",
              "\n",
              "    .dataframe tbody tr th {\n",
              "        vertical-align: top;\n",
              "    }\n",
              "\n",
              "    .dataframe thead th {\n",
              "        text-align: right;\n",
              "    }\n",
              "</style>\n",
              "<table border=\"1\" class=\"dataframe\">\n",
              "  <thead>\n",
              "    <tr style=\"text-align: right;\">\n",
              "      <th></th>\n",
              "      <th>aisle_id</th>\n",
              "      <th>aisle</th>\n",
              "    </tr>\n",
              "  </thead>\n",
              "  <tbody>\n",
              "    <tr>\n",
              "      <th>0</th>\n",
              "      <td>1</td>\n",
              "      <td>prepared soups salads</td>\n",
              "    </tr>\n",
              "    <tr>\n",
              "      <th>1</th>\n",
              "      <td>2</td>\n",
              "      <td>specialty cheeses</td>\n",
              "    </tr>\n",
              "    <tr>\n",
              "      <th>2</th>\n",
              "      <td>3</td>\n",
              "      <td>energy granola bars</td>\n",
              "    </tr>\n",
              "    <tr>\n",
              "      <th>3</th>\n",
              "      <td>4</td>\n",
              "      <td>instant foods</td>\n",
              "    </tr>\n",
              "    <tr>\n",
              "      <th>4</th>\n",
              "      <td>5</td>\n",
              "      <td>marinades meat preparation</td>\n",
              "    </tr>\n",
              "  </tbody>\n",
              "</table>\n",
              "</div>"
            ],
            "text/plain": [
              "   aisle_id                       aisle\n",
              "0         1       prepared soups salads\n",
              "1         2           specialty cheeses\n",
              "2         3         energy granola bars\n",
              "3         4               instant foods\n",
              "4         5  marinades meat preparation"
            ]
          },
          "metadata": {},
          "output_type": "display_data"
        },
        {
          "name": "stdout",
          "output_type": "stream",
          "text": [
            "<class 'pandas.core.frame.DataFrame'>\n",
            "RangeIndex: 134 entries, 0 to 133\n",
            "Data columns (total 2 columns):\n",
            " #   Column    Non-Null Count  Dtype \n",
            "---  ------    --------------  ----- \n",
            " 0   aisle_id  134 non-null    int64 \n",
            " 1   aisle     134 non-null    object\n",
            "dtypes: int64(1), object(1)\n",
            "memory usage: 2.2+ KB\n"
          ]
        },
        {
          "data": {
            "text/plain": [
              "None"
            ]
          },
          "metadata": {},
          "output_type": "display_data"
        },
        {
          "name": "stdout",
          "output_type": "stream",
          "text": [
            "\n",
            "\n",
            "departments.head():\n"
          ]
        },
        {
          "data": {
            "text/html": [
              "<div>\n",
              "<style scoped>\n",
              "    .dataframe tbody tr th:only-of-type {\n",
              "        vertical-align: middle;\n",
              "    }\n",
              "\n",
              "    .dataframe tbody tr th {\n",
              "        vertical-align: top;\n",
              "    }\n",
              "\n",
              "    .dataframe thead th {\n",
              "        text-align: right;\n",
              "    }\n",
              "</style>\n",
              "<table border=\"1\" class=\"dataframe\">\n",
              "  <thead>\n",
              "    <tr style=\"text-align: right;\">\n",
              "      <th></th>\n",
              "      <th>department_id</th>\n",
              "      <th>department</th>\n",
              "    </tr>\n",
              "  </thead>\n",
              "  <tbody>\n",
              "    <tr>\n",
              "      <th>0</th>\n",
              "      <td>1</td>\n",
              "      <td>frozen</td>\n",
              "    </tr>\n",
              "    <tr>\n",
              "      <th>1</th>\n",
              "      <td>2</td>\n",
              "      <td>other</td>\n",
              "    </tr>\n",
              "    <tr>\n",
              "      <th>2</th>\n",
              "      <td>3</td>\n",
              "      <td>bakery</td>\n",
              "    </tr>\n",
              "    <tr>\n",
              "      <th>3</th>\n",
              "      <td>4</td>\n",
              "      <td>produce</td>\n",
              "    </tr>\n",
              "    <tr>\n",
              "      <th>4</th>\n",
              "      <td>5</td>\n",
              "      <td>alcohol</td>\n",
              "    </tr>\n",
              "  </tbody>\n",
              "</table>\n",
              "</div>"
            ],
            "text/plain": [
              "   department_id department\n",
              "0              1     frozen\n",
              "1              2      other\n",
              "2              3     bakery\n",
              "3              4    produce\n",
              "4              5    alcohol"
            ]
          },
          "metadata": {},
          "output_type": "display_data"
        },
        {
          "name": "stdout",
          "output_type": "stream",
          "text": [
            "<class 'pandas.core.frame.DataFrame'>\n",
            "RangeIndex: 21 entries, 0 to 20\n",
            "Data columns (total 2 columns):\n",
            " #   Column         Non-Null Count  Dtype \n",
            "---  ------         --------------  ----- \n",
            " 0   department_id  21 non-null     int64 \n",
            " 1   department     21 non-null     object\n",
            "dtypes: int64(1), object(1)\n",
            "memory usage: 468.0+ bytes\n"
          ]
        },
        {
          "data": {
            "text/plain": [
              "None"
            ]
          },
          "metadata": {},
          "output_type": "display_data"
        },
        {
          "name": "stdout",
          "output_type": "stream",
          "text": [
            "\n",
            "\n",
            "order_products__train.head():\n"
          ]
        },
        {
          "data": {
            "text/html": [
              "<div>\n",
              "<style scoped>\n",
              "    .dataframe tbody tr th:only-of-type {\n",
              "        vertical-align: middle;\n",
              "    }\n",
              "\n",
              "    .dataframe tbody tr th {\n",
              "        vertical-align: top;\n",
              "    }\n",
              "\n",
              "    .dataframe thead th {\n",
              "        text-align: right;\n",
              "    }\n",
              "</style>\n",
              "<table border=\"1\" class=\"dataframe\">\n",
              "  <thead>\n",
              "    <tr style=\"text-align: right;\">\n",
              "      <th></th>\n",
              "      <th>order_id</th>\n",
              "      <th>product_id</th>\n",
              "      <th>add_to_cart_order</th>\n",
              "      <th>reordered</th>\n",
              "    </tr>\n",
              "  </thead>\n",
              "  <tbody>\n",
              "    <tr>\n",
              "      <th>0</th>\n",
              "      <td>1</td>\n",
              "      <td>49302</td>\n",
              "      <td>1</td>\n",
              "      <td>1</td>\n",
              "    </tr>\n",
              "    <tr>\n",
              "      <th>1</th>\n",
              "      <td>1</td>\n",
              "      <td>11109</td>\n",
              "      <td>2</td>\n",
              "      <td>1</td>\n",
              "    </tr>\n",
              "    <tr>\n",
              "      <th>2</th>\n",
              "      <td>1</td>\n",
              "      <td>10246</td>\n",
              "      <td>3</td>\n",
              "      <td>0</td>\n",
              "    </tr>\n",
              "    <tr>\n",
              "      <th>3</th>\n",
              "      <td>1</td>\n",
              "      <td>49683</td>\n",
              "      <td>4</td>\n",
              "      <td>0</td>\n",
              "    </tr>\n",
              "    <tr>\n",
              "      <th>4</th>\n",
              "      <td>1</td>\n",
              "      <td>43633</td>\n",
              "      <td>5</td>\n",
              "      <td>1</td>\n",
              "    </tr>\n",
              "  </tbody>\n",
              "</table>\n",
              "</div>"
            ],
            "text/plain": [
              "   order_id  product_id  add_to_cart_order  reordered\n",
              "0         1       49302                  1          1\n",
              "1         1       11109                  2          1\n",
              "2         1       10246                  3          0\n",
              "3         1       49683                  4          0\n",
              "4         1       43633                  5          1"
            ]
          },
          "metadata": {},
          "output_type": "display_data"
        },
        {
          "name": "stdout",
          "output_type": "stream",
          "text": [
            "<class 'pandas.core.frame.DataFrame'>\n",
            "RangeIndex: 1384617 entries, 0 to 1384616\n",
            "Data columns (total 4 columns):\n",
            " #   Column             Non-Null Count    Dtype\n",
            "---  ------             --------------    -----\n",
            " 0   order_id           1384617 non-null  int64\n",
            " 1   product_id         1384617 non-null  int64\n",
            " 2   add_to_cart_order  1384617 non-null  int64\n",
            " 3   reordered          1384617 non-null  int64\n",
            "dtypes: int64(4)\n",
            "memory usage: 42.3 MB\n"
          ]
        },
        {
          "data": {
            "text/plain": [
              "None"
            ]
          },
          "metadata": {},
          "output_type": "display_data"
        },
        {
          "name": "stdout",
          "output_type": "stream",
          "text": [
            "\n",
            "\n",
            "sample_submission.head():\n"
          ]
        },
        {
          "data": {
            "text/html": [
              "<div>\n",
              "<style scoped>\n",
              "    .dataframe tbody tr th:only-of-type {\n",
              "        vertical-align: middle;\n",
              "    }\n",
              "\n",
              "    .dataframe tbody tr th {\n",
              "        vertical-align: top;\n",
              "    }\n",
              "\n",
              "    .dataframe thead th {\n",
              "        text-align: right;\n",
              "    }\n",
              "</style>\n",
              "<table border=\"1\" class=\"dataframe\">\n",
              "  <thead>\n",
              "    <tr style=\"text-align: right;\">\n",
              "      <th></th>\n",
              "      <th>order_id</th>\n",
              "      <th>products</th>\n",
              "    </tr>\n",
              "  </thead>\n",
              "  <tbody>\n",
              "    <tr>\n",
              "      <th>0</th>\n",
              "      <td>17</td>\n",
              "      <td>39276 29259</td>\n",
              "    </tr>\n",
              "    <tr>\n",
              "      <th>1</th>\n",
              "      <td>34</td>\n",
              "      <td>39276 29259</td>\n",
              "    </tr>\n",
              "    <tr>\n",
              "      <th>2</th>\n",
              "      <td>137</td>\n",
              "      <td>39276 29259</td>\n",
              "    </tr>\n",
              "    <tr>\n",
              "      <th>3</th>\n",
              "      <td>182</td>\n",
              "      <td>39276 29259</td>\n",
              "    </tr>\n",
              "    <tr>\n",
              "      <th>4</th>\n",
              "      <td>257</td>\n",
              "      <td>39276 29259</td>\n",
              "    </tr>\n",
              "  </tbody>\n",
              "</table>\n",
              "</div>"
            ],
            "text/plain": [
              "   order_id     products\n",
              "0        17  39276 29259\n",
              "1        34  39276 29259\n",
              "2       137  39276 29259\n",
              "3       182  39276 29259\n",
              "4       257  39276 29259"
            ]
          },
          "metadata": {},
          "output_type": "display_data"
        },
        {
          "name": "stdout",
          "output_type": "stream",
          "text": [
            "<class 'pandas.core.frame.DataFrame'>\n",
            "RangeIndex: 75000 entries, 0 to 74999\n",
            "Data columns (total 2 columns):\n",
            " #   Column    Non-Null Count  Dtype \n",
            "---  ------    --------------  ----- \n",
            " 0   order_id  75000 non-null  int64 \n",
            " 1   products  75000 non-null  object\n",
            "dtypes: int64(1), object(1)\n",
            "memory usage: 1.1+ MB\n"
          ]
        },
        {
          "data": {
            "text/plain": [
              "None"
            ]
          },
          "metadata": {},
          "output_type": "display_data"
        },
        {
          "name": "stdout",
          "output_type": "stream",
          "text": [
            "\n",
            "\n",
            "order_products__prior.head():\n"
          ]
        },
        {
          "data": {
            "text/html": [
              "<div>\n",
              "<style scoped>\n",
              "    .dataframe tbody tr th:only-of-type {\n",
              "        vertical-align: middle;\n",
              "    }\n",
              "\n",
              "    .dataframe tbody tr th {\n",
              "        vertical-align: top;\n",
              "    }\n",
              "\n",
              "    .dataframe thead th {\n",
              "        text-align: right;\n",
              "    }\n",
              "</style>\n",
              "<table border=\"1\" class=\"dataframe\">\n",
              "  <thead>\n",
              "    <tr style=\"text-align: right;\">\n",
              "      <th></th>\n",
              "      <th>order_id</th>\n",
              "      <th>product_id</th>\n",
              "      <th>add_to_cart_order</th>\n",
              "      <th>reordered</th>\n",
              "    </tr>\n",
              "  </thead>\n",
              "  <tbody>\n",
              "    <tr>\n",
              "      <th>0</th>\n",
              "      <td>2</td>\n",
              "      <td>33120</td>\n",
              "      <td>1</td>\n",
              "      <td>1</td>\n",
              "    </tr>\n",
              "    <tr>\n",
              "      <th>1</th>\n",
              "      <td>2</td>\n",
              "      <td>28985</td>\n",
              "      <td>2</td>\n",
              "      <td>1</td>\n",
              "    </tr>\n",
              "    <tr>\n",
              "      <th>2</th>\n",
              "      <td>2</td>\n",
              "      <td>9327</td>\n",
              "      <td>3</td>\n",
              "      <td>0</td>\n",
              "    </tr>\n",
              "    <tr>\n",
              "      <th>3</th>\n",
              "      <td>2</td>\n",
              "      <td>45918</td>\n",
              "      <td>4</td>\n",
              "      <td>1</td>\n",
              "    </tr>\n",
              "    <tr>\n",
              "      <th>4</th>\n",
              "      <td>2</td>\n",
              "      <td>30035</td>\n",
              "      <td>5</td>\n",
              "      <td>0</td>\n",
              "    </tr>\n",
              "  </tbody>\n",
              "</table>\n",
              "</div>"
            ],
            "text/plain": [
              "   order_id  product_id  add_to_cart_order  reordered\n",
              "0         2       33120                  1          1\n",
              "1         2       28985                  2          1\n",
              "2         2        9327                  3          0\n",
              "3         2       45918                  4          1\n",
              "4         2       30035                  5          0"
            ]
          },
          "metadata": {},
          "output_type": "display_data"
        },
        {
          "name": "stdout",
          "output_type": "stream",
          "text": [
            "<class 'pandas.core.frame.DataFrame'>\n",
            "RangeIndex: 32434489 entries, 0 to 32434488\n",
            "Data columns (total 4 columns):\n",
            " #   Column             Dtype\n",
            "---  ------             -----\n",
            " 0   order_id           int64\n",
            " 1   product_id         int64\n",
            " 2   add_to_cart_order  int64\n",
            " 3   reordered          int64\n",
            "dtypes: int64(4)\n",
            "memory usage: 989.8 MB\n"
          ]
        },
        {
          "data": {
            "text/plain": [
              "None"
            ]
          },
          "metadata": {},
          "output_type": "display_data"
        },
        {
          "name": "stdout",
          "output_type": "stream",
          "text": [
            "\n",
            "\n",
            "products.head():\n"
          ]
        },
        {
          "data": {
            "text/html": [
              "<div>\n",
              "<style scoped>\n",
              "    .dataframe tbody tr th:only-of-type {\n",
              "        vertical-align: middle;\n",
              "    }\n",
              "\n",
              "    .dataframe tbody tr th {\n",
              "        vertical-align: top;\n",
              "    }\n",
              "\n",
              "    .dataframe thead th {\n",
              "        text-align: right;\n",
              "    }\n",
              "</style>\n",
              "<table border=\"1\" class=\"dataframe\">\n",
              "  <thead>\n",
              "    <tr style=\"text-align: right;\">\n",
              "      <th></th>\n",
              "      <th>product_id</th>\n",
              "      <th>product_name</th>\n",
              "      <th>aisle_id</th>\n",
              "      <th>department_id</th>\n",
              "    </tr>\n",
              "  </thead>\n",
              "  <tbody>\n",
              "    <tr>\n",
              "      <th>0</th>\n",
              "      <td>1</td>\n",
              "      <td>Chocolate Sandwich Cookies</td>\n",
              "      <td>61</td>\n",
              "      <td>19</td>\n",
              "    </tr>\n",
              "    <tr>\n",
              "      <th>1</th>\n",
              "      <td>2</td>\n",
              "      <td>All-Seasons Salt</td>\n",
              "      <td>104</td>\n",
              "      <td>13</td>\n",
              "    </tr>\n",
              "    <tr>\n",
              "      <th>2</th>\n",
              "      <td>3</td>\n",
              "      <td>Robust Golden Unsweetened Oolong Tea</td>\n",
              "      <td>94</td>\n",
              "      <td>7</td>\n",
              "    </tr>\n",
              "    <tr>\n",
              "      <th>3</th>\n",
              "      <td>4</td>\n",
              "      <td>Smart Ones Classic Favorites Mini Rigatoni Wit...</td>\n",
              "      <td>38</td>\n",
              "      <td>1</td>\n",
              "    </tr>\n",
              "    <tr>\n",
              "      <th>4</th>\n",
              "      <td>5</td>\n",
              "      <td>Green Chile Anytime Sauce</td>\n",
              "      <td>5</td>\n",
              "      <td>13</td>\n",
              "    </tr>\n",
              "  </tbody>\n",
              "</table>\n",
              "</div>"
            ],
            "text/plain": [
              "   product_id                                       product_name  aisle_id  \\\n",
              "0           1                         Chocolate Sandwich Cookies        61   \n",
              "1           2                                   All-Seasons Salt       104   \n",
              "2           3               Robust Golden Unsweetened Oolong Tea        94   \n",
              "3           4  Smart Ones Classic Favorites Mini Rigatoni Wit...        38   \n",
              "4           5                          Green Chile Anytime Sauce         5   \n",
              "\n",
              "   department_id  \n",
              "0             19  \n",
              "1             13  \n",
              "2              7  \n",
              "3              1  \n",
              "4             13  "
            ]
          },
          "metadata": {},
          "output_type": "display_data"
        },
        {
          "name": "stdout",
          "output_type": "stream",
          "text": [
            "<class 'pandas.core.frame.DataFrame'>\n",
            "RangeIndex: 49688 entries, 0 to 49687\n",
            "Data columns (total 4 columns):\n",
            " #   Column         Non-Null Count  Dtype \n",
            "---  ------         --------------  ----- \n",
            " 0   product_id     49688 non-null  int64 \n",
            " 1   product_name   49688 non-null  object\n",
            " 2   aisle_id       49688 non-null  int64 \n",
            " 3   department_id  49688 non-null  int64 \n",
            "dtypes: int64(3), object(1)\n",
            "memory usage: 1.5+ MB\n"
          ]
        },
        {
          "data": {
            "text/plain": [
              "None"
            ]
          },
          "metadata": {},
          "output_type": "display_data"
        },
        {
          "name": "stdout",
          "output_type": "stream",
          "text": [
            "\n",
            "\n",
            "orders.head():\n"
          ]
        },
        {
          "data": {
            "text/html": [
              "<div>\n",
              "<style scoped>\n",
              "    .dataframe tbody tr th:only-of-type {\n",
              "        vertical-align: middle;\n",
              "    }\n",
              "\n",
              "    .dataframe tbody tr th {\n",
              "        vertical-align: top;\n",
              "    }\n",
              "\n",
              "    .dataframe thead th {\n",
              "        text-align: right;\n",
              "    }\n",
              "</style>\n",
              "<table border=\"1\" class=\"dataframe\">\n",
              "  <thead>\n",
              "    <tr style=\"text-align: right;\">\n",
              "      <th></th>\n",
              "      <th>order_id</th>\n",
              "      <th>user_id</th>\n",
              "      <th>eval_set</th>\n",
              "      <th>order_number</th>\n",
              "      <th>order_dow</th>\n",
              "      <th>order_hour_of_day</th>\n",
              "      <th>days_since_prior_order</th>\n",
              "    </tr>\n",
              "  </thead>\n",
              "  <tbody>\n",
              "    <tr>\n",
              "      <th>0</th>\n",
              "      <td>2539329</td>\n",
              "      <td>1</td>\n",
              "      <td>prior</td>\n",
              "      <td>1</td>\n",
              "      <td>2</td>\n",
              "      <td>8</td>\n",
              "      <td>NaN</td>\n",
              "    </tr>\n",
              "    <tr>\n",
              "      <th>1</th>\n",
              "      <td>2398795</td>\n",
              "      <td>1</td>\n",
              "      <td>prior</td>\n",
              "      <td>2</td>\n",
              "      <td>3</td>\n",
              "      <td>7</td>\n",
              "      <td>15.0</td>\n",
              "    </tr>\n",
              "    <tr>\n",
              "      <th>2</th>\n",
              "      <td>473747</td>\n",
              "      <td>1</td>\n",
              "      <td>prior</td>\n",
              "      <td>3</td>\n",
              "      <td>3</td>\n",
              "      <td>12</td>\n",
              "      <td>21.0</td>\n",
              "    </tr>\n",
              "    <tr>\n",
              "      <th>3</th>\n",
              "      <td>2254736</td>\n",
              "      <td>1</td>\n",
              "      <td>prior</td>\n",
              "      <td>4</td>\n",
              "      <td>4</td>\n",
              "      <td>7</td>\n",
              "      <td>29.0</td>\n",
              "    </tr>\n",
              "    <tr>\n",
              "      <th>4</th>\n",
              "      <td>431534</td>\n",
              "      <td>1</td>\n",
              "      <td>prior</td>\n",
              "      <td>5</td>\n",
              "      <td>4</td>\n",
              "      <td>15</td>\n",
              "      <td>28.0</td>\n",
              "    </tr>\n",
              "  </tbody>\n",
              "</table>\n",
              "</div>"
            ],
            "text/plain": [
              "   order_id  user_id eval_set  order_number  order_dow  order_hour_of_day  \\\n",
              "0   2539329        1    prior             1          2                  8   \n",
              "1   2398795        1    prior             2          3                  7   \n",
              "2    473747        1    prior             3          3                 12   \n",
              "3   2254736        1    prior             4          4                  7   \n",
              "4    431534        1    prior             5          4                 15   \n",
              "\n",
              "   days_since_prior_order  \n",
              "0                     NaN  \n",
              "1                    15.0  \n",
              "2                    21.0  \n",
              "3                    29.0  \n",
              "4                    28.0  "
            ]
          },
          "metadata": {},
          "output_type": "display_data"
        },
        {
          "name": "stdout",
          "output_type": "stream",
          "text": [
            "<class 'pandas.core.frame.DataFrame'>\n",
            "RangeIndex: 3421083 entries, 0 to 3421082\n",
            "Data columns (total 7 columns):\n",
            " #   Column                  Dtype  \n",
            "---  ------                  -----  \n",
            " 0   order_id                int64  \n",
            " 1   user_id                 int64  \n",
            " 2   eval_set                object \n",
            " 3   order_number            int64  \n",
            " 4   order_dow               int64  \n",
            " 5   order_hour_of_day       int64  \n",
            " 6   days_since_prior_order  float64\n",
            "dtypes: float64(1), int64(5), object(1)\n",
            "memory usage: 182.7+ MB\n"
          ]
        },
        {
          "data": {
            "text/plain": [
              "None"
            ]
          },
          "metadata": {},
          "output_type": "display_data"
        },
        {
          "name": "stdout",
          "output_type": "stream",
          "text": [
            "\n",
            "\n"
          ]
        }
      ],
      "source": [
        "from IPython.display import display\n",
        "\n",
        "# 각 데이터프레임의 .head()를 순차적으로 표시\n",
        "dataframe_names = ['aisles', 'departments', 'order_products__train', 'sample_submission', 'order_products__prior', 'products', 'orders']\n",
        "\n",
        "# 정의된 데이터프레임 리스트를 순회하며 display 함수로 출력\n",
        "for name in dataframe_names:\n",
        "    print(f\"{name}.head():\")\n",
        "    display(eval(name).head())\n",
        "    display(eval(name).info())\n",
        "    print(\"\\n\")  # 데이터프레임 사이에 공백 줄 추가"
      ]
    },
    {
      "cell_type": "code",
      "execution_count": 6,
      "metadata": {
        "id": "fFWdPZHTKE_n"
      },
      "outputs": [],
      "source": [
        "# 전체 데이터 분석을 위해 병합\n",
        "order_products = pd.concat([order_products__train, order_products__prior])\n",
        "order_products = order_products.merge(products, on='product_id', how='left').merge(orders, on='order_id', how='left').merge(departments, on='department_id').merge(aisles, on='aisle_id')\n"
      ]
    },
    {
      "cell_type": "code",
      "execution_count": 7,
      "metadata": {},
      "outputs": [
        {
          "data": {
            "text/html": [
              "<div>\n",
              "<style scoped>\n",
              "    .dataframe tbody tr th:only-of-type {\n",
              "        vertical-align: middle;\n",
              "    }\n",
              "\n",
              "    .dataframe tbody tr th {\n",
              "        vertical-align: top;\n",
              "    }\n",
              "\n",
              "    .dataframe thead th {\n",
              "        text-align: right;\n",
              "    }\n",
              "</style>\n",
              "<table border=\"1\" class=\"dataframe\">\n",
              "  <thead>\n",
              "    <tr style=\"text-align: right;\">\n",
              "      <th></th>\n",
              "      <th>order_id</th>\n",
              "      <th>product_id</th>\n",
              "      <th>add_to_cart_order</th>\n",
              "      <th>reordered</th>\n",
              "      <th>product_name</th>\n",
              "      <th>aisle_id</th>\n",
              "      <th>department_id</th>\n",
              "      <th>user_id</th>\n",
              "      <th>eval_set</th>\n",
              "      <th>order_number</th>\n",
              "      <th>order_dow</th>\n",
              "      <th>order_hour_of_day</th>\n",
              "      <th>days_since_prior_order</th>\n",
              "      <th>department</th>\n",
              "      <th>aisle</th>\n",
              "    </tr>\n",
              "  </thead>\n",
              "  <tbody>\n",
              "    <tr>\n",
              "      <th>0</th>\n",
              "      <td>1</td>\n",
              "      <td>49302</td>\n",
              "      <td>1</td>\n",
              "      <td>1</td>\n",
              "      <td>Bulgarian Yogurt</td>\n",
              "      <td>120</td>\n",
              "      <td>16</td>\n",
              "      <td>112108</td>\n",
              "      <td>train</td>\n",
              "      <td>4</td>\n",
              "      <td>4</td>\n",
              "      <td>10</td>\n",
              "      <td>9.0</td>\n",
              "      <td>dairy eggs</td>\n",
              "      <td>yogurt</td>\n",
              "    </tr>\n",
              "    <tr>\n",
              "      <th>1</th>\n",
              "      <td>1</td>\n",
              "      <td>11109</td>\n",
              "      <td>2</td>\n",
              "      <td>1</td>\n",
              "      <td>Organic 4% Milk Fat Whole Milk Cottage Cheese</td>\n",
              "      <td>108</td>\n",
              "      <td>16</td>\n",
              "      <td>112108</td>\n",
              "      <td>train</td>\n",
              "      <td>4</td>\n",
              "      <td>4</td>\n",
              "      <td>10</td>\n",
              "      <td>9.0</td>\n",
              "      <td>dairy eggs</td>\n",
              "      <td>other creams cheeses</td>\n",
              "    </tr>\n",
              "    <tr>\n",
              "      <th>2</th>\n",
              "      <td>1</td>\n",
              "      <td>10246</td>\n",
              "      <td>3</td>\n",
              "      <td>0</td>\n",
              "      <td>Organic Celery Hearts</td>\n",
              "      <td>83</td>\n",
              "      <td>4</td>\n",
              "      <td>112108</td>\n",
              "      <td>train</td>\n",
              "      <td>4</td>\n",
              "      <td>4</td>\n",
              "      <td>10</td>\n",
              "      <td>9.0</td>\n",
              "      <td>produce</td>\n",
              "      <td>fresh vegetables</td>\n",
              "    </tr>\n",
              "    <tr>\n",
              "      <th>3</th>\n",
              "      <td>1</td>\n",
              "      <td>49683</td>\n",
              "      <td>4</td>\n",
              "      <td>0</td>\n",
              "      <td>Cucumber Kirby</td>\n",
              "      <td>83</td>\n",
              "      <td>4</td>\n",
              "      <td>112108</td>\n",
              "      <td>train</td>\n",
              "      <td>4</td>\n",
              "      <td>4</td>\n",
              "      <td>10</td>\n",
              "      <td>9.0</td>\n",
              "      <td>produce</td>\n",
              "      <td>fresh vegetables</td>\n",
              "    </tr>\n",
              "    <tr>\n",
              "      <th>4</th>\n",
              "      <td>1</td>\n",
              "      <td>43633</td>\n",
              "      <td>5</td>\n",
              "      <td>1</td>\n",
              "      <td>Lightly Smoked Sardines in Olive Oil</td>\n",
              "      <td>95</td>\n",
              "      <td>15</td>\n",
              "      <td>112108</td>\n",
              "      <td>train</td>\n",
              "      <td>4</td>\n",
              "      <td>4</td>\n",
              "      <td>10</td>\n",
              "      <td>9.0</td>\n",
              "      <td>canned goods</td>\n",
              "      <td>canned meat seafood</td>\n",
              "    </tr>\n",
              "  </tbody>\n",
              "</table>\n",
              "</div>"
            ],
            "text/plain": [
              "   order_id  product_id  add_to_cart_order  reordered  \\\n",
              "0         1       49302                  1          1   \n",
              "1         1       11109                  2          1   \n",
              "2         1       10246                  3          0   \n",
              "3         1       49683                  4          0   \n",
              "4         1       43633                  5          1   \n",
              "\n",
              "                                    product_name  aisle_id  department_id  \\\n",
              "0                               Bulgarian Yogurt       120             16   \n",
              "1  Organic 4% Milk Fat Whole Milk Cottage Cheese       108             16   \n",
              "2                          Organic Celery Hearts        83              4   \n",
              "3                                 Cucumber Kirby        83              4   \n",
              "4           Lightly Smoked Sardines in Olive Oil        95             15   \n",
              "\n",
              "   user_id eval_set  order_number  order_dow  order_hour_of_day  \\\n",
              "0   112108    train             4          4                 10   \n",
              "1   112108    train             4          4                 10   \n",
              "2   112108    train             4          4                 10   \n",
              "3   112108    train             4          4                 10   \n",
              "4   112108    train             4          4                 10   \n",
              "\n",
              "   days_since_prior_order    department                 aisle  \n",
              "0                     9.0    dairy eggs                yogurt  \n",
              "1                     9.0    dairy eggs  other creams cheeses  \n",
              "2                     9.0       produce      fresh vegetables  \n",
              "3                     9.0       produce      fresh vegetables  \n",
              "4                     9.0  canned goods   canned meat seafood  "
            ]
          },
          "execution_count": 7,
          "metadata": {},
          "output_type": "execute_result"
        }
      ],
      "source": [
        "order_products.head()"
      ]
    },
    {
      "cell_type": "code",
      "execution_count": 8,
      "metadata": {},
      "outputs": [
        {
          "data": {
            "text/html": [
              "<div>\n",
              "<style scoped>\n",
              "    .dataframe tbody tr th:only-of-type {\n",
              "        vertical-align: middle;\n",
              "    }\n",
              "\n",
              "    .dataframe tbody tr th {\n",
              "        vertical-align: top;\n",
              "    }\n",
              "\n",
              "    .dataframe thead th {\n",
              "        text-align: right;\n",
              "    }\n",
              "</style>\n",
              "<table border=\"1\" class=\"dataframe\">\n",
              "  <thead>\n",
              "    <tr style=\"text-align: right;\">\n",
              "      <th></th>\n",
              "      <th>order_id</th>\n",
              "      <th>product_id</th>\n",
              "      <th>add_to_cart_order</th>\n",
              "      <th>reordered</th>\n",
              "      <th>aisle_id</th>\n",
              "      <th>department_id</th>\n",
              "      <th>user_id</th>\n",
              "      <th>order_number</th>\n",
              "      <th>order_dow</th>\n",
              "      <th>order_hour_of_day</th>\n",
              "      <th>days_since_prior_order</th>\n",
              "    </tr>\n",
              "  </thead>\n",
              "  <tbody>\n",
              "    <tr>\n",
              "      <th>count</th>\n",
              "      <td>3.381911e+07</td>\n",
              "      <td>3.381911e+07</td>\n",
              "      <td>3.381911e+07</td>\n",
              "      <td>3.381911e+07</td>\n",
              "      <td>3.381911e+07</td>\n",
              "      <td>3.381911e+07</td>\n",
              "      <td>3.381911e+07</td>\n",
              "      <td>3.381911e+07</td>\n",
              "      <td>3.381911e+07</td>\n",
              "      <td>3.381911e+07</td>\n",
              "      <td>3.174104e+07</td>\n",
              "    </tr>\n",
              "    <tr>\n",
              "      <th>mean</th>\n",
              "      <td>1.710566e+06</td>\n",
              "      <td>2.557551e+04</td>\n",
              "      <td>8.367738e+00</td>\n",
              "      <td>5.900617e-01</td>\n",
              "      <td>7.121799e+01</td>\n",
              "      <td>9.918544e+00</td>\n",
              "      <td>1.029444e+05</td>\n",
              "      <td>1.713998e+01</td>\n",
              "      <td>2.737285e+00</td>\n",
              "      <td>1.343123e+01</td>\n",
              "      <td>1.136415e+01</td>\n",
              "    </tr>\n",
              "    <tr>\n",
              "      <th>std</th>\n",
              "      <td>9.874008e+05</td>\n",
              "      <td>1.409770e+04</td>\n",
              "      <td>7.139540e+00</td>\n",
              "      <td>4.918220e-01</td>\n",
              "      <td>3.819898e+01</td>\n",
              "      <td>6.281655e+00</td>\n",
              "      <td>5.946733e+04</td>\n",
              "      <td>1.749829e+01</td>\n",
              "      <td>2.093296e+00</td>\n",
              "      <td>4.246149e+00</td>\n",
              "      <td>8.940500e+00</td>\n",
              "    </tr>\n",
              "    <tr>\n",
              "      <th>min</th>\n",
              "      <td>1.000000e+00</td>\n",
              "      <td>1.000000e+00</td>\n",
              "      <td>1.000000e+00</td>\n",
              "      <td>0.000000e+00</td>\n",
              "      <td>1.000000e+00</td>\n",
              "      <td>1.000000e+00</td>\n",
              "      <td>1.000000e+00</td>\n",
              "      <td>1.000000e+00</td>\n",
              "      <td>0.000000e+00</td>\n",
              "      <td>0.000000e+00</td>\n",
              "      <td>0.000000e+00</td>\n",
              "    </tr>\n",
              "    <tr>\n",
              "      <th>25%</th>\n",
              "      <td>8.554130e+05</td>\n",
              "      <td>1.351900e+04</td>\n",
              "      <td>3.000000e+00</td>\n",
              "      <td>0.000000e+00</td>\n",
              "      <td>3.100000e+01</td>\n",
              "      <td>4.000000e+00</td>\n",
              "      <td>5.143500e+04</td>\n",
              "      <td>5.000000e+00</td>\n",
              "      <td>1.000000e+00</td>\n",
              "      <td>1.000000e+01</td>\n",
              "      <td>5.000000e+00</td>\n",
              "    </tr>\n",
              "    <tr>\n",
              "      <th>50%</th>\n",
              "      <td>1.710660e+06</td>\n",
              "      <td>2.525600e+04</td>\n",
              "      <td>6.000000e+00</td>\n",
              "      <td>1.000000e+00</td>\n",
              "      <td>8.300000e+01</td>\n",
              "      <td>9.000000e+00</td>\n",
              "      <td>1.026260e+05</td>\n",
              "      <td>1.100000e+01</td>\n",
              "      <td>3.000000e+00</td>\n",
              "      <td>1.300000e+01</td>\n",
              "      <td>8.000000e+00</td>\n",
              "    </tr>\n",
              "    <tr>\n",
              "      <th>75%</th>\n",
              "      <td>2.565587e+06</td>\n",
              "      <td>3.793500e+04</td>\n",
              "      <td>1.100000e+01</td>\n",
              "      <td>1.000000e+00</td>\n",
              "      <td>1.070000e+02</td>\n",
              "      <td>1.600000e+01</td>\n",
              "      <td>1.544120e+05</td>\n",
              "      <td>2.400000e+01</td>\n",
              "      <td>5.000000e+00</td>\n",
              "      <td>1.600000e+01</td>\n",
              "      <td>1.500000e+01</td>\n",
              "    </tr>\n",
              "    <tr>\n",
              "      <th>max</th>\n",
              "      <td>3.421083e+06</td>\n",
              "      <td>4.968800e+04</td>\n",
              "      <td>1.450000e+02</td>\n",
              "      <td>1.000000e+00</td>\n",
              "      <td>1.340000e+02</td>\n",
              "      <td>2.100000e+01</td>\n",
              "      <td>2.062090e+05</td>\n",
              "      <td>1.000000e+02</td>\n",
              "      <td>6.000000e+00</td>\n",
              "      <td>2.300000e+01</td>\n",
              "      <td>3.000000e+01</td>\n",
              "    </tr>\n",
              "  </tbody>\n",
              "</table>\n",
              "</div>"
            ],
            "text/plain": [
              "           order_id    product_id  add_to_cart_order     reordered  \\\n",
              "count  3.381911e+07  3.381911e+07       3.381911e+07  3.381911e+07   \n",
              "mean   1.710566e+06  2.557551e+04       8.367738e+00  5.900617e-01   \n",
              "std    9.874008e+05  1.409770e+04       7.139540e+00  4.918220e-01   \n",
              "min    1.000000e+00  1.000000e+00       1.000000e+00  0.000000e+00   \n",
              "25%    8.554130e+05  1.351900e+04       3.000000e+00  0.000000e+00   \n",
              "50%    1.710660e+06  2.525600e+04       6.000000e+00  1.000000e+00   \n",
              "75%    2.565587e+06  3.793500e+04       1.100000e+01  1.000000e+00   \n",
              "max    3.421083e+06  4.968800e+04       1.450000e+02  1.000000e+00   \n",
              "\n",
              "           aisle_id  department_id       user_id  order_number     order_dow  \\\n",
              "count  3.381911e+07   3.381911e+07  3.381911e+07  3.381911e+07  3.381911e+07   \n",
              "mean   7.121799e+01   9.918544e+00  1.029444e+05  1.713998e+01  2.737285e+00   \n",
              "std    3.819898e+01   6.281655e+00  5.946733e+04  1.749829e+01  2.093296e+00   \n",
              "min    1.000000e+00   1.000000e+00  1.000000e+00  1.000000e+00  0.000000e+00   \n",
              "25%    3.100000e+01   4.000000e+00  5.143500e+04  5.000000e+00  1.000000e+00   \n",
              "50%    8.300000e+01   9.000000e+00  1.026260e+05  1.100000e+01  3.000000e+00   \n",
              "75%    1.070000e+02   1.600000e+01  1.544120e+05  2.400000e+01  5.000000e+00   \n",
              "max    1.340000e+02   2.100000e+01  2.062090e+05  1.000000e+02  6.000000e+00   \n",
              "\n",
              "       order_hour_of_day  days_since_prior_order  \n",
              "count       3.381911e+07            3.174104e+07  \n",
              "mean        1.343123e+01            1.136415e+01  \n",
              "std         4.246149e+00            8.940500e+00  \n",
              "min         0.000000e+00            0.000000e+00  \n",
              "25%         1.000000e+01            5.000000e+00  \n",
              "50%         1.300000e+01            8.000000e+00  \n",
              "75%         1.600000e+01            1.500000e+01  \n",
              "max         2.300000e+01            3.000000e+01  "
            ]
          },
          "execution_count": 8,
          "metadata": {},
          "output_type": "execute_result"
        }
      ],
      "source": [
        "order_products.describe()"
      ]
    },
    {
      "cell_type": "markdown",
      "metadata": {},
      "source": [
        "1. reordered : 0과 1로 구분되어 평균값이 0.59로 재구매 비율이 높은 마켓인 것 같습니다.\n",
        "2. order_dow : 0 ~ 6까지로 구성되어 '일월화수목금토'로 구성된 것으로 보여집니다.\n",
        "3. order_hour_of_day : 0 ~ 23시 까지로 24시간으로 구성되어 있는 것으로 보여집니다.\n",
        "4. days_since_prior_order : 0일부터 30일까지로 평균적으로 11일 내 재구매가 되는 것으로 보여집니다.\n",
        "\n",
        "전체적으로 이상치는 확인되지 않습니다."
      ]
    },
    {
      "cell_type": "markdown",
      "metadata": {
        "id": "I0RQ2MgORtkt"
      },
      "source": [
        "# 상관관계\n",
        "1. 제품\n",
        "2. 날짜,시간\n",
        "3. 유저"
      ]
    },
    {
      "cell_type": "markdown",
      "metadata": {},
      "source": [
        "### 제품 별 상관관계"
      ]
    },
    {
      "cell_type": "code",
      "execution_count": 15,
      "metadata": {},
      "outputs": [],
      "source": [
        "import matplotlib.pyplot as plt\n",
        "import seaborn as sns"
      ]
    },
    {
      "cell_type": "code",
      "execution_count": 69,
      "metadata": {},
      "outputs": [],
      "source": [
        "# 제품 별 데이터 프레임 생성\n",
        "df = order_products.groupby('product_name')['reordered'].mean().round(2)\n",
        "df = df.reset_index()\n",
        "\n",
        "product_df = df.sort_values('reordered', ascending=False)"
      ]
    },
    {
      "cell_type": "code",
      "execution_count": 70,
      "metadata": {},
      "outputs": [],
      "source": [
        "# 판매량 추가\n",
        "product_df['sales_volume'] = order_products.groupby('product_name')['order_id'].transform('count')\n",
        "# 평균 재구매 주기 추가\n",
        "product_df['average_days_since_prior_order'] = order_products.groupby('product_name')['days_since_prior_order'].transform('mean').round(2)\n",
        "# 카트에 담긴 순서 평균 추가\n",
        "product_df['average_add_to_cart_order'] = order_products.groupby('product_name')['add_to_cart_order'].transform('mean').round(2)"
      ]
    },
    {
      "cell_type": "code",
      "execution_count": 71,
      "metadata": {},
      "outputs": [
        {
          "data": {
            "text/html": [
              "<div>\n",
              "<style scoped>\n",
              "    .dataframe tbody tr th:only-of-type {\n",
              "        vertical-align: middle;\n",
              "    }\n",
              "\n",
              "    .dataframe tbody tr th {\n",
              "        vertical-align: top;\n",
              "    }\n",
              "\n",
              "    .dataframe thead th {\n",
              "        text-align: right;\n",
              "    }\n",
              "</style>\n",
              "<table border=\"1\" class=\"dataframe\">\n",
              "  <thead>\n",
              "    <tr style=\"text-align: right;\">\n",
              "      <th></th>\n",
              "      <th>product_name</th>\n",
              "      <th>reordered</th>\n",
              "      <th>sales_volume</th>\n",
              "      <th>average_days_since_prior_order</th>\n",
              "      <th>average_add_to_cart_order</th>\n",
              "    </tr>\n",
              "  </thead>\n",
              "  <tbody>\n",
              "    <tr>\n",
              "      <th>37379</th>\n",
              "      <td>Raw Veggie Wrappers</td>\n",
              "      <td>0.94</td>\n",
              "      <td>740</td>\n",
              "      <td>11.16</td>\n",
              "      <td>10.20</td>\n",
              "    </tr>\n",
              "    <tr>\n",
              "      <th>39870</th>\n",
              "      <td>Serenity Ultimate Extrema Overnight Pads</td>\n",
              "      <td>0.93</td>\n",
              "      <td>11610</td>\n",
              "      <td>10.73</td>\n",
              "      <td>10.24</td>\n",
              "    </tr>\n",
              "    <tr>\n",
              "      <th>8537</th>\n",
              "      <td>Chocolate Love Bar</td>\n",
              "      <td>0.92</td>\n",
              "      <td>4132</td>\n",
              "      <td>11.70</td>\n",
              "      <td>9.84</td>\n",
              "    </tr>\n",
              "    <tr>\n",
              "      <th>28415</th>\n",
              "      <td>Orange Energy Shots</td>\n",
              "      <td>0.92</td>\n",
              "      <td>2648</td>\n",
              "      <td>12.00</td>\n",
              "      <td>9.60</td>\n",
              "    </tr>\n",
              "    <tr>\n",
              "      <th>13844</th>\n",
              "      <td>Energy Shot, Grape Flavor</td>\n",
              "      <td>0.91</td>\n",
              "      <td>27679</td>\n",
              "      <td>11.30</td>\n",
              "      <td>8.93</td>\n",
              "    </tr>\n",
              "  </tbody>\n",
              "</table>\n",
              "</div>"
            ],
            "text/plain": [
              "                                   product_name  reordered  sales_volume  \\\n",
              "37379                       Raw Veggie Wrappers       0.94           740   \n",
              "39870  Serenity Ultimate Extrema Overnight Pads       0.93         11610   \n",
              "8537                         Chocolate Love Bar       0.92          4132   \n",
              "28415                       Orange Energy Shots       0.92          2648   \n",
              "13844                 Energy Shot, Grape Flavor       0.91         27679   \n",
              "\n",
              "       average_days_since_prior_order  average_add_to_cart_order  \n",
              "37379                           11.16                      10.20  \n",
              "39870                           10.73                      10.24  \n",
              "8537                            11.70                       9.84  \n",
              "28415                           12.00                       9.60  \n",
              "13844                           11.30                       8.93  "
            ]
          },
          "execution_count": 71,
          "metadata": {},
          "output_type": "execute_result"
        }
      ],
      "source": [
        "# 데이터프레임 확인\n",
        "product_df.head()"
      ]
    },
    {
      "cell_type": "code",
      "execution_count": 12,
      "metadata": {},
      "outputs": [],
      "source": [
        "# correlation 확인을 위해 pruduct_name 열 drop\n",
        "corr = product_df.drop(columns= 'product_name')"
      ]
    },
    {
      "cell_type": "markdown",
      "metadata": {},
      "source": [
        "### T- Test\n",
        "  - 판매량이 높을수록 카트에 담기는 순서가 빠를까?"
      ]
    },
    {
      "cell_type": "code",
      "execution_count": 57,
      "metadata": {},
      "outputs": [],
      "source": [
        "# 'average_add_to_cart_order' 표본추출\n",
        "# 중심극한정리를 시연하기 위해, 여러 번에 걸쳐서 표본 평균을 계산합니다.\n",
        "average_add_to_cart_order_means = []\n",
        "n_samples = 1000  # 표본 추출 횟수\n",
        "sample_size = 50   # 각 표본의 크기\n",
        "\n",
        "for _ in range(n_samples):\n",
        "  sample = product_df['average_add_to_cart_order'].sample(n = sample_size)\n",
        "  average_add_to_cart_order_means.append(sample.mean())"
      ]
    },
    {
      "cell_type": "code",
      "execution_count": 58,
      "metadata": {},
      "outputs": [
        {
          "data": {
            "image/png": "[encoded data removed]",
            "text/plain": [
              "<Figure size 640x480 with 1 Axes>"
            ]
          },
          "metadata": {},
          "output_type": "display_data"
        }
      ],
      "source": [
        "#시각화\n",
        "plt.hist(average_add_to_cart_order_means, bins=50, edgecolor='black')\n",
        "plt.title('Distribution of sales_volume Means')\n",
        "plt.xlabel('Sample Mean')\n",
        "plt.ylabel('Frequency')\n",
        "plt.show()"
      ]
    },
    {
      "cell_type": "code",
      "execution_count": 59,
      "metadata": {},
      "outputs": [],
      "source": [
        "# 'sales_volume' 표본 추출\n",
        "# 중심극한정리를 시연하기 위해, 여러 번에 걸쳐서 표본 평균을 계산합니다.\n",
        "sales_volume_means = []\n",
        "n_samples = 1000  # 표본 추출 횟수\n",
        "sample_size = 50   # 각 표본의 크기\n",
        "\n",
        "for _ in range(n_samples):\n",
        "  sample = product_df['sales_volume'].sample(n = sample_size)\n",
        "  sales_volume_means.append(sample.mean())"
      ]
    },
    {
      "cell_type": "code",
      "execution_count": 60,
      "metadata": {},
      "outputs": [
        {
          "data": {
            "image/png": "[encoded data removed]",
            "text/plain": [
              "<Figure size 640x480 with 1 Axes>"
            ]
          },
          "metadata": {},
          "output_type": "display_data"
        }
      ],
      "source": [
        "# 시각화\n",
        "plt.hist(sales_volume_means, bins=50, edgecolor='black')\n",
        "plt.title('Distribution of sales_volume Means')\n",
        "plt.xlabel('Sample Mean')\n",
        "plt.ylabel('Frequency')\n",
        "plt.show()"
      ]
    },
    {
      "cell_type": "code",
      "execution_count": 61,
      "metadata": {},
      "outputs": [
        {
          "name": "stdout",
          "output_type": "stream",
          "text": [
            "t-statistic: -98.13305230541451, p-value: 0.0\n"
          ]
        }
      ],
      "source": [
        "from scipy import stats\n",
        "\n",
        "# 두 표본 간의 t-test 수행\n",
        "t_stat, p_val = stats.ttest_ind(average_add_to_cart_order_means, sales_volume_means)\n",
        "\n",
        "print(f't-statistic: {t_stat}, p-value: {p_val}')"
      ]
    },
    {
      "cell_type": "markdown",
      "metadata": {},
      "source": [
        "t-statistic가 -98로 판매량이 증가함에 따라 카트에 담기는 순서가 빠른 음의 관계에 있으며 p-value가 0.0으로 통계적으로 유의미한 것으로 확인됩니다."
      ]
    },
    {
      "cell_type": "code",
      "execution_count": 18,
      "metadata": {},
      "outputs": [
        {
          "data": {
            "image/png": "[encoded data removed]",
            "text/plain": [
              "<Figure size 500x500 with 2 Axes>"
            ]
          },
          "metadata": {},
          "output_type": "display_data"
        }
      ],
      "source": [
        "# 피처 간 상관관계 히트맵\n",
        "correlation_matrix = corr.corr()\n",
        "plt.figure(figsize=(5, 5))\n",
        "sns.heatmap(correlation_matrix, annot=True, cmap='coolwarm', linewidths=0.5)\n",
        "plt.title('Correlation Heatmap')\n",
        "plt.show()"
      ]
    },
    {
      "cell_type": "markdown",
      "metadata": {},
      "source": [
        "판매량이 높을수록 카트에 담기는 순서가 빠르며 구매주기가 짧아지지만 <br/>\n",
        "판매량이 높더라도 재구매율과는 상관관계가 적은 것으로 보여집니다."
      ]
    },
    {
      "cell_type": "markdown",
      "metadata": {},
      "source": [
        "### 날짜 시간 별 상관관계"
      ]
    },
    {
      "cell_type": "code",
      "execution_count": 19,
      "metadata": {
        "colab": {
          "base_uri": "https://localhost:8080/",
          "height": 833
        },
        "id": "cHGvjyOernxN",
        "outputId": "58e096ee-fc00-4744-81fc-17bf61659383"
      },
      "outputs": [
        {
          "data": {
            "text/html": [
              "<div>\n",
              "<style scoped>\n",
              "    .dataframe tbody tr th:only-of-type {\n",
              "        vertical-align: middle;\n",
              "    }\n",
              "\n",
              "    .dataframe tbody tr th {\n",
              "        vertical-align: top;\n",
              "    }\n",
              "\n",
              "    .dataframe thead th {\n",
              "        text-align: right;\n",
              "    }\n",
              "</style>\n",
              "<table border=\"1\" class=\"dataframe\">\n",
              "  <thead>\n",
              "    <tr style=\"text-align: right;\">\n",
              "      <th></th>\n",
              "      <th>0</th>\n",
              "      <th>1</th>\n",
              "      <th>2</th>\n",
              "      <th>3</th>\n",
              "      <th>4</th>\n",
              "      <th>5</th>\n",
              "      <th>6</th>\n",
              "    </tr>\n",
              "    <tr>\n",
              "      <th>order_hour_of_day</th>\n",
              "      <th></th>\n",
              "      <th></th>\n",
              "      <th></th>\n",
              "      <th></th>\n",
              "      <th></th>\n",
              "      <th></th>\n",
              "      <th></th>\n",
              "    </tr>\n",
              "  </thead>\n",
              "  <tbody>\n",
              "    <tr>\n",
              "      <th>0</th>\n",
              "      <td>3936</td>\n",
              "      <td>3674</td>\n",
              "      <td>3059</td>\n",
              "      <td>2952</td>\n",
              "      <td>2642</td>\n",
              "      <td>3189</td>\n",
              "      <td>3306</td>\n",
              "    </tr>\n",
              "    <tr>\n",
              "      <th>1</th>\n",
              "      <td>2398</td>\n",
              "      <td>1830</td>\n",
              "      <td>1572</td>\n",
              "      <td>1495</td>\n",
              "      <td>1512</td>\n",
              "      <td>1672</td>\n",
              "      <td>1919</td>\n",
              "    </tr>\n",
              "    <tr>\n",
              "      <th>2</th>\n",
              "      <td>1409</td>\n",
              "      <td>1105</td>\n",
              "      <td>943</td>\n",
              "      <td>953</td>\n",
              "      <td>899</td>\n",
              "      <td>1016</td>\n",
              "      <td>1214</td>\n",
              "    </tr>\n",
              "    <tr>\n",
              "      <th>3</th>\n",
              "      <td>963</td>\n",
              "      <td>748</td>\n",
              "      <td>719</td>\n",
              "      <td>654</td>\n",
              "      <td>686</td>\n",
              "      <td>841</td>\n",
              "      <td>863</td>\n",
              "    </tr>\n",
              "    <tr>\n",
              "      <th>4</th>\n",
              "      <td>813</td>\n",
              "      <td>809</td>\n",
              "      <td>744</td>\n",
              "      <td>719</td>\n",
              "      <td>730</td>\n",
              "      <td>910</td>\n",
              "      <td>802</td>\n",
              "    </tr>\n",
              "    <tr>\n",
              "      <th>5</th>\n",
              "      <td>1168</td>\n",
              "      <td>1607</td>\n",
              "      <td>1399</td>\n",
              "      <td>1355</td>\n",
              "      <td>1330</td>\n",
              "      <td>1574</td>\n",
              "      <td>1136</td>\n",
              "    </tr>\n",
              "    <tr>\n",
              "      <th>6</th>\n",
              "      <td>3329</td>\n",
              "      <td>5370</td>\n",
              "      <td>4758</td>\n",
              "      <td>4562</td>\n",
              "      <td>4401</td>\n",
              "      <td>4866</td>\n",
              "      <td>3243</td>\n",
              "    </tr>\n",
              "    <tr>\n",
              "      <th>7</th>\n",
              "      <td>12410</td>\n",
              "      <td>16571</td>\n",
              "      <td>13245</td>\n",
              "      <td>12396</td>\n",
              "      <td>12493</td>\n",
              "      <td>13434</td>\n",
              "      <td>11319</td>\n",
              "    </tr>\n",
              "    <tr>\n",
              "      <th>8</th>\n",
              "      <td>28108</td>\n",
              "      <td>34116</td>\n",
              "      <td>24635</td>\n",
              "      <td>22553</td>\n",
              "      <td>21814</td>\n",
              "      <td>24015</td>\n",
              "      <td>22960</td>\n",
              "    </tr>\n",
              "    <tr>\n",
              "      <th>9</th>\n",
              "      <td>40798</td>\n",
              "      <td>51908</td>\n",
              "      <td>36314</td>\n",
              "      <td>32312</td>\n",
              "      <td>31409</td>\n",
              "      <td>34232</td>\n",
              "      <td>30839</td>\n",
              "    </tr>\n",
              "    <tr>\n",
              "      <th>10</th>\n",
              "      <td>48465</td>\n",
              "      <td>55671</td>\n",
              "      <td>39230</td>\n",
              "      <td>36040</td>\n",
              "      <td>35034</td>\n",
              "      <td>38313</td>\n",
              "      <td>35665</td>\n",
              "    </tr>\n",
              "    <tr>\n",
              "      <th>11</th>\n",
              "      <td>51035</td>\n",
              "      <td>51584</td>\n",
              "      <td>38128</td>\n",
              "      <td>35215</td>\n",
              "      <td>33857</td>\n",
              "      <td>37915</td>\n",
              "      <td>36994</td>\n",
              "    </tr>\n",
              "    <tr>\n",
              "      <th>12</th>\n",
              "      <td>51443</td>\n",
              "      <td>47079</td>\n",
              "      <td>35780</td>\n",
              "      <td>33455</td>\n",
              "      <td>32249</td>\n",
              "      <td>35714</td>\n",
              "      <td>37121</td>\n",
              "    </tr>\n",
              "    <tr>\n",
              "      <th>13</th>\n",
              "      <td>53849</td>\n",
              "      <td>46728</td>\n",
              "      <td>36650</td>\n",
              "      <td>34161</td>\n",
              "      <td>32751</td>\n",
              "      <td>36296</td>\n",
              "      <td>37564</td>\n",
              "    </tr>\n",
              "    <tr>\n",
              "      <th>14</th>\n",
              "      <td>54552</td>\n",
              "      <td>46764</td>\n",
              "      <td>37173</td>\n",
              "      <td>34773</td>\n",
              "      <td>33625</td>\n",
              "      <td>37407</td>\n",
              "      <td>38748</td>\n",
              "    </tr>\n",
              "    <tr>\n",
              "      <th>15</th>\n",
              "      <td>53954</td>\n",
              "      <td>46403</td>\n",
              "      <td>37469</td>\n",
              "      <td>35990</td>\n",
              "      <td>34222</td>\n",
              "      <td>37508</td>\n",
              "      <td>38093</td>\n",
              "    </tr>\n",
              "    <tr>\n",
              "      <th>16</th>\n",
              "      <td>49463</td>\n",
              "      <td>44761</td>\n",
              "      <td>37541</td>\n",
              "      <td>35273</td>\n",
              "      <td>34093</td>\n",
              "      <td>35860</td>\n",
              "      <td>35562</td>\n",
              "    </tr>\n",
              "    <tr>\n",
              "      <th>17</th>\n",
              "      <td>39753</td>\n",
              "      <td>36792</td>\n",
              "      <td>32151</td>\n",
              "      <td>30368</td>\n",
              "      <td>29378</td>\n",
              "      <td>29955</td>\n",
              "      <td>30398</td>\n",
              "    </tr>\n",
              "    <tr>\n",
              "      <th>18</th>\n",
              "      <td>29572</td>\n",
              "      <td>28977</td>\n",
              "      <td>26470</td>\n",
              "      <td>25001</td>\n",
              "      <td>24425</td>\n",
              "      <td>24310</td>\n",
              "      <td>24157</td>\n",
              "    </tr>\n",
              "    <tr>\n",
              "      <th>19</th>\n",
              "      <td>22654</td>\n",
              "      <td>22145</td>\n",
              "      <td>20084</td>\n",
              "      <td>19249</td>\n",
              "      <td>19350</td>\n",
              "      <td>18741</td>\n",
              "      <td>18346</td>\n",
              "    </tr>\n",
              "    <tr>\n",
              "      <th>20</th>\n",
              "      <td>18277</td>\n",
              "      <td>16281</td>\n",
              "      <td>15039</td>\n",
              "      <td>13795</td>\n",
              "      <td>14186</td>\n",
              "      <td>13322</td>\n",
              "      <td>13392</td>\n",
              "    </tr>\n",
              "    <tr>\n",
              "      <th>21</th>\n",
              "      <td>14423</td>\n",
              "      <td>11943</td>\n",
              "      <td>10653</td>\n",
              "      <td>10278</td>\n",
              "      <td>10796</td>\n",
              "      <td>9515</td>\n",
              "      <td>10501</td>\n",
              "    </tr>\n",
              "    <tr>\n",
              "      <th>22</th>\n",
              "      <td>11246</td>\n",
              "      <td>8992</td>\n",
              "      <td>8146</td>\n",
              "      <td>8242</td>\n",
              "      <td>8812</td>\n",
              "      <td>7498</td>\n",
              "      <td>8532</td>\n",
              "    </tr>\n",
              "    <tr>\n",
              "      <th>23</th>\n",
              "      <td>6887</td>\n",
              "      <td>5620</td>\n",
              "      <td>5358</td>\n",
              "      <td>5181</td>\n",
              "      <td>5645</td>\n",
              "      <td>5265</td>\n",
              "      <td>6087</td>\n",
              "    </tr>\n",
              "  </tbody>\n",
              "</table>\n",
              "</div>"
            ],
            "text/plain": [
              "                       0      1      2      3      4      5      6\n",
              "order_hour_of_day                                                 \n",
              "0                   3936   3674   3059   2952   2642   3189   3306\n",
              "1                   2398   1830   1572   1495   1512   1672   1919\n",
              "2                   1409   1105    943    953    899   1016   1214\n",
              "3                    963    748    719    654    686    841    863\n",
              "4                    813    809    744    719    730    910    802\n",
              "5                   1168   1607   1399   1355   1330   1574   1136\n",
              "6                   3329   5370   4758   4562   4401   4866   3243\n",
              "7                  12410  16571  13245  12396  12493  13434  11319\n",
              "8                  28108  34116  24635  22553  21814  24015  22960\n",
              "9                  40798  51908  36314  32312  31409  34232  30839\n",
              "10                 48465  55671  39230  36040  35034  38313  35665\n",
              "11                 51035  51584  38128  35215  33857  37915  36994\n",
              "12                 51443  47079  35780  33455  32249  35714  37121\n",
              "13                 53849  46728  36650  34161  32751  36296  37564\n",
              "14                 54552  46764  37173  34773  33625  37407  38748\n",
              "15                 53954  46403  37469  35990  34222  37508  38093\n",
              "16                 49463  44761  37541  35273  34093  35860  35562\n",
              "17                 39753  36792  32151  30368  29378  29955  30398\n",
              "18                 29572  28977  26470  25001  24425  24310  24157\n",
              "19                 22654  22145  20084  19249  19350  18741  18346\n",
              "20                 18277  16281  15039  13795  14186  13322  13392\n",
              "21                 14423  11943  10653  10278  10796   9515  10501\n",
              "22                 11246   8992   8146   8242   8812   7498   8532\n",
              "23                  6887   5620   5358   5181   5645   5265   6087"
            ]
          },
          "execution_count": 19,
          "metadata": {},
          "output_type": "execute_result"
        }
      ],
      "source": [
        "import numpy as np\n",
        "import seaborn as sns\n",
        "import matplotlib.pyplot as plt\n",
        "from scipy import stats\n",
        "\n",
        "# 요일 별 시간 주문량 변수 생성\n",
        "hwd = pd.crosstab(orders[\"order_hour_of_day\"], orders[\"order_dow\"])\n",
        "hwd.columns = [w for w in \"0123456\"]\n",
        "hwd"
      ]
    },
    {
      "cell_type": "code",
      "execution_count": 20,
      "metadata": {
        "colab": {
          "base_uri": "https://localhost:8080/",
          "height": 429
        },
        "id": "gKqrTxRV45kE",
        "outputId": "31d3449a-4996-46cd-e9b5-f7b3f739600f"
      },
      "outputs": [
        {
          "data": {
            "image/png": "[encoded data removed]",
            "text/plain": [
              "<Figure size 640x480 with 2 Axes>"
            ]
          },
          "metadata": {},
          "output_type": "display_data"
        }
      ],
      "source": [
        "# 시각화\n",
        "sns.heatmap(hwd, annot=True, fmt=\",.0f\", cmap=\"Blues\");"
      ]
    },
    {
      "cell_type": "markdown",
      "metadata": {
        "id": "UfZoMrwhCXuW"
      },
      "source": [
        "주문건은 대부분 8시 ~ 18시에 몰려있으며, 일요일(0), 월요일(1)에 주문이 높은 것으로 확인됩니다."
      ]
    },
    {
      "cell_type": "markdown",
      "metadata": {},
      "source": [
        "### 고객 별 상관관계"
      ]
    },
    {
      "cell_type": "code",
      "execution_count": 31,
      "metadata": {},
      "outputs": [],
      "source": [
        "# 제품 별 데이터 프레임 생성\n",
        "df = order_products.groupby('user_id')['reordered'].sum()\n",
        "df = df.reset_index()\n",
        "\n",
        "user_df = df.sort_values('reordered', ascending=False)"
      ]
    },
    {
      "cell_type": "code",
      "execution_count": 32,
      "metadata": {},
      "outputs": [],
      "source": [
        "# 유저 당 주문건수 추가\n",
        "user_df['sales_volume'] = order_products.groupby('user_id')['order_id'].transform('count')\n",
        "# 평균 재구매 주기 추가\n",
        "user_df['average_days_since_prior_order'] = order_products.groupby('user_id')['days_since_prior_order'].transform('mean').round(2)\n",
        "# order 당 평균 제품 수 추가\n",
        "avg_products_per_order = order_products.groupby(['user_id', 'order_id']).size().groupby(level=0).mean()\n",
        "user_df['avg_products_per_order'] = user_df['user_id'].map(avg_products_per_order).round(2)\n"
      ]
    },
    {
      "cell_type": "code",
      "execution_count": 33,
      "metadata": {},
      "outputs": [
        {
          "data": {
            "text/html": [
              "<div>\n",
              "<style scoped>\n",
              "    .dataframe tbody tr th:only-of-type {\n",
              "        vertical-align: middle;\n",
              "    }\n",
              "\n",
              "    .dataframe tbody tr th {\n",
              "        vertical-align: top;\n",
              "    }\n",
              "\n",
              "    .dataframe thead th {\n",
              "        text-align: right;\n",
              "    }\n",
              "</style>\n",
              "<table border=\"1\" class=\"dataframe\">\n",
              "  <thead>\n",
              "    <tr style=\"text-align: right;\">\n",
              "      <th></th>\n",
              "      <th>user_id</th>\n",
              "      <th>reordered</th>\n",
              "      <th>sales_volume</th>\n",
              "      <th>average_days_since_prior_order</th>\n",
              "      <th>avg_products_per_order</th>\n",
              "    </tr>\n",
              "  </thead>\n",
              "  <tbody>\n",
              "    <tr>\n",
              "      <th>201267</th>\n",
              "      <td>201268</td>\n",
              "      <td>3275</td>\n",
              "      <td>84</td>\n",
              "      <td>16.66</td>\n",
              "      <td>37.63</td>\n",
              "    </tr>\n",
              "    <tr>\n",
              "      <th>129927</th>\n",
              "      <td>129928</td>\n",
              "      <td>3199</td>\n",
              "      <td>109</td>\n",
              "      <td>11.65</td>\n",
              "      <td>56.75</td>\n",
              "    </tr>\n",
              "    <tr>\n",
              "      <th>164054</th>\n",
              "      <td>164055</td>\n",
              "      <td>2684</td>\n",
              "      <td>51</td>\n",
              "      <td>3.32</td>\n",
              "      <td>30.89</td>\n",
              "    </tr>\n",
              "    <tr>\n",
              "      <th>137628</th>\n",
              "      <td>137629</td>\n",
              "      <td>2649</td>\n",
              "      <td>35</td>\n",
              "      <td>25.64</td>\n",
              "      <td>29.31</td>\n",
              "    </tr>\n",
              "    <tr>\n",
              "      <th>186703</th>\n",
              "      <td>186704</td>\n",
              "      <td>2553</td>\n",
              "      <td>278</td>\n",
              "      <td>13.59</td>\n",
              "      <td>29.66</td>\n",
              "    </tr>\n",
              "  </tbody>\n",
              "</table>\n",
              "</div>"
            ],
            "text/plain": [
              "        user_id  reordered  sales_volume  average_days_since_prior_order  \\\n",
              "201267   201268       3275            84                           16.66   \n",
              "129927   129928       3199           109                           11.65   \n",
              "164054   164055       2684            51                            3.32   \n",
              "137628   137629       2649            35                           25.64   \n",
              "186703   186704       2553           278                           13.59   \n",
              "\n",
              "        avg_products_per_order  \n",
              "201267                   37.63  \n",
              "129927                   56.75  \n",
              "164054                   30.89  \n",
              "137628                   29.31  \n",
              "186703                   29.66  "
            ]
          },
          "execution_count": 33,
          "metadata": {},
          "output_type": "execute_result"
        }
      ],
      "source": [
        "user_df.head()"
      ]
    },
    {
      "cell_type": "code",
      "execution_count": 34,
      "metadata": {},
      "outputs": [],
      "source": [
        "# correlation 확인을 위해 user_df 열 drop\n",
        "corr = user_df.drop(columns= 'user_id')"
      ]
    },
    {
      "cell_type": "markdown",
      "metadata": {},
      "source": [
        "### 선형 회귀 모델\n",
        " - 주문건 당 구매물품 수가 많을 수록 재구매가 많을까?"
      ]
    },
    {
      "cell_type": "code",
      "execution_count": 86,
      "metadata": {},
      "outputs": [
        {
          "name": "stdout",
          "output_type": "stream",
          "text": [
            "Coefficients: [10.12021826]\n",
            "Intercept: -4.273111428403084\n",
            "Mean squared error (MSE): 22199.777351149245\n",
            "Coefficient of determination (R^2): 0.1359883695809967\n"
          ]
        }
      ],
      "source": [
        "from sklearn.model_selection import train_test_split\n",
        "from sklearn.linear_model import LinearRegression\n",
        "from sklearn.metrics import mean_squared_error, r2_score\n",
        "import numpy as np\n",
        "import pandas as pd\n",
        "\n",
        "# 독립 변수와 종속 변수 분리\n",
        "X = user_df[['avg_products_per_order']]  # 독립 변수는 2차원 배열 형태로\n",
        "y = user_df['reordered']\n",
        "\n",
        "X_train, X_test, y_train, y_test = train_test_split(X, y, test_size=0.2, random_state=42)\n",
        "\n",
        "# 선형 회귀 모델 생성 및 훈련\n",
        "model = LinearRegression()\n",
        "model.fit(X, y)\n",
        "\n",
        "# 예측 및 성능 평가\n",
        "y_pred = model.predict(X)\n",
        "mse = mean_squared_error(y, y_pred)\n",
        "r2 = r2_score(y, y_pred)\n",
        "\n",
        "print(f\"Coefficients: {model.coef_}\")\n",
        "print(f\"Intercept: {model.intercept_}\")\n",
        "print(f\"Mean squared error (MSE): {mse}\")\n",
        "print(f\"Coefficient of determination (R^2): {r2}\")\n"
      ]
    },
    {
      "cell_type": "markdown",
      "metadata": {},
      "source": [
        "Coefficients: 물품이 1개 늘어날수록 재구매 회수가 10회 증가합니다. <br/>\n",
        "Intercept: 주문건 수가 0일 때 예측되는 재구매 회수로 구매 건수가 0일 수 없어 오류값인 것으로 보여집니다.  <br/>\n",
        "Mean squared error (MSE): MSE 값이 상당히 큰 것으로 확인되어 실제 값과 모델의 예측이 큰 차이가 있어보입니다.<br/>\n",
        "Coefficient of determination (R^2): 모델이 재주문수의 변동성을 13.6%만 나타내고 있으며, 주문건 당 평균 구매수만으로는 재주문수를 나타내기 어려워 보입니다. <br/>"
      ]
    },
    {
      "cell_type": "code",
      "execution_count": 35,
      "metadata": {},
      "outputs": [
        {
          "data": {
            "image/png": "[encoded data removed]",
            "text/plain": [
              "<Figure size 500x500 with 2 Axes>"
            ]
          },
          "metadata": {},
          "output_type": "display_data"
        }
      ],
      "source": [
        "# 피처 간 상관관계 히트맵\n",
        "correlation_matrix = corr.corr()\n",
        "plt.figure(figsize=(5, 5))\n",
        "sns.heatmap(correlation_matrix, annot=True, cmap='coolwarm', linewidths=0.5)\n",
        "plt.title('Correlation Heatmap')\n",
        "plt.show()"
      ]
    },
    {
      "cell_type": "markdown",
      "metadata": {},
      "source": [
        "구매량이 높을수록 구매 주기는 짧은 것으로 보여지며, <br/>\n",
        "재주문 수가 높을수록 한번 주문할 때 여러 물품을 함께 구매하는 것이 상관관계가 있는 것으로 확인됩니다."
      ]
    },
    {
      "cell_type": "markdown",
      "metadata": {},
      "source": [
        "# 회고\n",
        "\n",
        "kaggle 필사를 통해 다른 사람들의 분석된 내용을 따라 작성하며 이해하는 것과 다르게 <br/>\n",
        "목적이 정해져있지 않은 데이터를 탐색해나가며 방향성을 잡아가다보니 어떻게 데이터를 연결하고 어떤 데이터를 활용해야하는지를 고민하는데 가장 오랜 시간을 소모되었습니다.<br/>\n",
        "지금까지 배웠던 내용들을 하나씩 적용해보며 돌아볼 수 있었지만 아직 개념을 완벽하게 이해하지는 못해 많은 부분을 적용해보지 못한 아쉬움이 남았습니다.<br/>\n",
        "구매 물품 예측 모델을 만들어보기 위해 시간을 오래 쏟았지만 최적화가 되지 않아 많은 데이터 양으로 인해 실행할때마다 시간이 오래걸리는 문제가 발생하여 완성하지 못했습니다.<br/>\n",
        "다음주 머신러닝을 배운 후 다시 한번 도전해 볼 예정입니다."
      ]
    },
    {
      "cell_type": "markdown",
      "metadata": {},
      "source": []
    }
  ],
  "metadata": {
    "colab": {
      "provenance": []
    },
    "kernelspec": {
      "display_name": "Python 3",
      "name": "python3"
    },
    "language_info": {
      "codemirror_mode": {
        "name": "ipython",
        "version": 3
      },
      "file_extension": ".py",
      "mimetype": "text/x-python",
      "name": "python",
      "nbconvert_exporter": "python",
      "pygments_lexer": "ipython3",
      "version": "3.12.1"
    }
  },
  "nbformat": 4,
  "nbformat_minor": 0
}
