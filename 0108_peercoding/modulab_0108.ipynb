{
  "nbformat": 4,
  "nbformat_minor": 0,
  "metadata": {
    "colab": {
      "provenance": []
    },
    "kernelspec": {
      "name": "python3",
      "display_name": "Python 3"
    },
    "language_info": {
      "name": "python"
    }
  },
  "cells": [
    {
      "cell_type": "markdown",
      "source": [
        "# 계좌 만들기\n",
        "\n",
        "Account 클래스 :\n",
        "- 은행에 가서 계좌를 개설하면 은행이름, 예금주, 계좌번호, 잔액이 설정됩니다. Account 클래스를 생성한 후 init 메서드를 구현해보세요.\n",
        "- init메서드에서는 예금주와 초기 잔액만 입력 받습니다.\n",
        "- 은행이름은 SC은행으로 계좌번호는 3자리-2자리-6자리 형태로 랜덤하게 생성됩니다.\n",
        "  (은행이름: SC은행, 계좌번호: 111-11-111111)\n",
        "\n",
        "입금 메서드 : Account 클래스에 입금을 위한 deposit 메서드를 추가하세요. 입금은 최소 1원 이상만 가능합니다.\n",
        "\n",
        "출금 메서드 : Account 클래스에 출금을 위한 withdraw 메서드를 추가하세요. 출금은 계좌의 잔고 이상으로 출금할 수는 없습니다.\n",
        "\n",
        "정보 출력 메서드 : Account 인스턴스에 저장된 정보를 출력하는 display_info() 메서드를 추가하세요. 잔고는 세자리마다 쉼표를 출력하세요. (예시 - 은행이름: SC은행, 예금주: 파이썬, 계좌번호: 111-11-111111, 잔고: 10,000원)\n",
        "\n",
        "이자 지급하기 입금 횟수가 5회가 될 때 잔고를 기준으로 1%의 이자가 잔고에 추가되도록 코드를 추가해보세요.\n",
        "\n",
        "입금 내역과 출금 내역을 출력하는 deposit_history와 withdraw_history 메서드를 추가하세요. (입금 시간과 출력 시간을 기록해주세요.)\n",
        "\n",
        "입금 내역과 출금 내역을 함께 출력하는 all_history 메서드를 추가하세요.\n",
        "\n",
        "*루브릭 3 달성 조건 : 위에서 제시된 메서드를 제외한 나만의 신규 메서드를 추가해보세요.\n",
        "\n",
        "all_history : 시간 순서대로 기록"
      ],
      "metadata": {
        "id": "_21YtvF2pQ9h"
      }
    },
    {
      "cell_type": "markdown",
      "source": [
        "루브릭 달성 조건\n",
        "\n",
        "- 루브릭 1 평가문항 / 상세기준\n",
        "\n",
        "클래스를 잘 생성했는가? / 클래스가 오류 없이 잘 작동하였음.\n",
        "\n",
        "\n",
        "\n",
        "- 루브릭 2 평가문항 / 상세기준\n",
        "\n",
        "제시된 문제를 기준치 이상 해결하였는가? / 주어진 문제 중 4개 이상이 작동하였음.\n",
        "\n",
        "\n",
        "\n",
        "- 루브릭 3 평가문항 / 상세기준\n",
        "\n",
        "추가로 제시된 문제를 해결했는가? / 새로운 시도를 통해 추가 메서드를 구현하였음."
      ],
      "metadata": {
        "id": "yBwl4bP2p7eZ"
      }
    },
    {
      "cell_type": "code",
      "execution_count": null,
      "metadata": {
        "id": "1sx0yBmIoFZU"
      },
      "outputs": [],
      "source": [
        "import random\n",
        "import time\n",
        "import datetime"
      ]
    },
    {
      "cell_type": "code",
      "source": [
        "def generate_random_accountnumber():                                            # 랜덤 계좌 번호 생성 함수\n",
        "    #generat3 three sets of random numbers\n",
        "    part1 = ''.join(random.choices('0123456789', k=3))\n",
        "    part2 = ''.join(random.choices('0123456789', k=4))\n",
        "    part3 = ''.join(random.choices('0123456789', k=4))\n",
        "\n",
        "    # Combine the parts with hyphens\n",
        "    result = f'{part1}-{part2}-{part3}'\n",
        "    return result\n",
        "\n",
        "class Account() :\n",
        "    def __init__(self, person, balance, bank_name = 'SC_은행'):\n",
        "        self.person = person\n",
        "        self.account_number = generate_random_accountnumber()                   # 계좌 생성 시 랜덤 계좌 번호 생성 함수 호출\n",
        "        self.balance = balance\n",
        "        self.bank_name = bank_name\n",
        "        self.count = 1                                                          # 계좌를 생성할 때 잔고 금액을 입력한 것을 첫번째 입금으로 가정\n",
        "        self.history = {'deposit':[], 'withdraw': []}\n",
        "\n",
        "    def deposit(self, deposit_money):                                           # 입금 함수. 입금 금액 매개변수(deposit_money) 설정\n",
        "        if deposit_money <= 1:\n",
        "            print('Input Error, you must put at least 1 won.')\n",
        "        else:\n",
        "            self.balance += deposit_money\n",
        "            self.count += 1\n",
        "            self.interest_payment()                                             # 입금 횟수가 5가 될 때 이자 지급 함수 interest_payment() 실행\n",
        "            d = datetime.datetime.now()                                         # 입금 시 현재 시각을 받아와 저장\n",
        "            now_time = '.'.join([str(d.year), str(d.month), str(d.day)]) + ' ' + ':'.join([str(d.hour), str(d.minute), str(d.second)])\n",
        "            self.write_history(now_time, deposit_money)\n",
        "\n",
        "\n",
        "    def withdraw(self, withdraw_money):                                         # 출금 함수. 출금 금액 매개변수(withdraw_money) 설정\n",
        "        if withdraw_money > self.balance:\n",
        "            print('You cannot withdraw over your balance.')\n",
        "        else:\n",
        "            self.balance -= withdraw_money\n",
        "            d = datetime.datetime.now()\n",
        "            now_time = '.'.join([str(d.year), str(d.month), str(d.day)]) + ' ' + ':'.join([str(d.hour), str(d.minute), str(d.second)])\n",
        "            self.write_history(now_time, withdraw_money, deposit= False)        # 출금임을 구분하기 위해 deposit= False 설정\n",
        "\n",
        "    def write_history(self, now_time, money, deposit = True):                   # 입출금 시 시간과 금액을 기록하는 함수\n",
        "        if deposit == True:\n",
        "            self.history['deposit'].append((now_time, str(money), True))\n",
        "        else:\n",
        "            self.history['withdraw'].append((now_time, str(money), False))\n",
        "\n",
        "    def interest_payment(self):                                                 # 이자 지급 함수\n",
        "        original = self.balance\n",
        "        if self.count % 5 == 0:\n",
        "            self.balance += int(self.balance * 0.01)\n",
        "            print(\"이자가 지급되었습니다. orginal balance : {} -> final balance : {}\".format(original,self.balance))\n",
        "\n",
        "    def display_info(self):                                                     # 정보 출력 함수\n",
        "        str_balance = format(self.balance, ',')                                 # 잔액을 천 단위에 따라 쉼표로 구분\n",
        "        print(\"은행이름 : {}, 예금주 : {}, 계좌번호: {}, 잔고 : {}\".format(self.bank_name, self.person, self.account_number, str_balance))\n",
        "\n",
        "\n",
        "    def print_deposit_history(self):                                            # 입금 시간과 금액만 출력하는 함수\n",
        "        for element in self.history['deposit']:\n",
        "            print(\"입금 : {}, 입금금액 : {}\".format(element[0],element[1]))\n",
        "\n",
        "    def print_withdraw_history(self):                                           # 출금 시간과 금액만 출력하는 함수\n",
        "        for element in self.history['withdraw']:\n",
        "            print(\"출금 : {}, 출금금액 : {}\".format(element[0],element[1]))\n",
        "\n",
        "    def print_all_hisorty(self) :                                               # 기록된 모든 입출력 시간과 금액을 시간 순서에 따라 출력하는 함수\n",
        "\n",
        "        all_list = []\n",
        "        for x in self.history['deposit']:\n",
        "            all_list.append(x)\n",
        "        for y in self.history['withdraw'] :\n",
        "            all_list.append(y)\n",
        "\n",
        "        a = sorted(all_list, key=lambda x : x[0])\n",
        "        for element in a :\n",
        "            if element[2]:\n",
        "                print(\"입금 : {}, 입금금액 : {}\".format(element[0],element[1]))\n",
        "            else:\n",
        "\n",
        "                print(\"출금 : {}, 출금금액 : {}\".format(element[0],element[1]))"
      ],
      "metadata": {
        "id": "3ZG2JEBg4hV4"
      },
      "execution_count": null,
      "outputs": []
    },
    {
      "cell_type": "code",
      "source": [
        "a = Account('함경표', 1000) # 계좌생성, 예금주 이름과 초기 입금 금액\n",
        "a.display_info()            # display_info(): 정보 출력 함수"
      ],
      "metadata": {
        "id": "NnOJ_0jsUSLk",
        "colab": {
          "base_uri": "https://localhost:8080/"
        },
        "outputId": "fc91efc1-b193-4038-84f5-a76842f66afb"
      },
      "execution_count": null,
      "outputs": [
        {
          "output_type": "stream",
          "name": "stdout",
          "text": [
            "은행이름 : SC_은행, 예금주 : 함경표, 계좌번호: 349-5812-7865, 잔고 : 1,000\n"
          ]
        }
      ]
    },
    {
      "cell_type": "code",
      "source": [
        "a.deposit(1000) # 1000원 씩 입금 2번\n",
        "a.deposit(1000)\n",
        "time.sleep(2)   # 입출금 시간 차를 두기 위한 time.sleep() 함수\n",
        "\n",
        "a.withdraw(500) # 500원 출금\n",
        "time.sleep(2)\n",
        "\n",
        "a.deposit(1000) # 1000원 입금\n",
        "time.sleep(2)\n",
        "\n",
        "a.withdraw(500) # 500원 출금\n",
        "a.deposit(1000) # 1000원 입금. 잔액 4000원 + 5번째 입금으로 인한 1% 이자지금 -> 최종 잔액 4040원, 이자 지급 시 메세지 출력\n",
        "\n",
        "print('\\n', '---display info')\n",
        "a.display_info()"
      ],
      "metadata": {
        "colab": {
          "base_uri": "https://localhost:8080/"
        },
        "id": "kgHwLn2cVcky",
        "outputId": "801a6c9c-4589-4c95-aaed-e0849a57da48"
      },
      "execution_count": null,
      "outputs": [
        {
          "output_type": "stream",
          "name": "stdout",
          "text": [
            "이자가 지급되었습니다. orginal balance : 4000 -> final balance : 4040\n",
            "\n",
            " ---display info\n",
            "은행이름 : SC_은행, 예금주 : 함경표, 계좌번호: 349-5812-7865, 잔고 : 4,040\n"
          ]
        }
      ]
    },
    {
      "cell_type": "code",
      "source": [
        "print('---print deposit history')\n",
        "a.print_deposit_history()           # 입금 기록과 금액을 출력\n",
        "\n",
        "print('\\n', '---print withdraw history')\n",
        "a.print_withdraw_history()          # 출금 기록과 금액을 출력\n",
        "\n",
        "print('\\n', '---print all history')\n",
        "a.print_all_hisorty()               # 모든 입출금 기록과 금액을 출력"
      ],
      "metadata": {
        "colab": {
          "base_uri": "https://localhost:8080/"
        },
        "id": "wDPLi9DdVNqK",
        "outputId": "ee19c5c2-420f-4b6a-c325-9ce1dbee64e4"
      },
      "execution_count": null,
      "outputs": [
        {
          "output_type": "stream",
          "name": "stdout",
          "text": [
            "---print deposit history\n",
            "입금 : 2024.1.8 5:11:41, 입금금액 : 1000\n",
            "입금 : 2024.1.8 5:11:41, 입금금액 : 1000\n",
            "입금 : 2024.1.8 5:11:45, 입금금액 : 1000\n",
            "입금 : 2024.1.8 5:11:47, 입금금액 : 1000\n",
            "\n",
            " ---print withdraw history\n",
            "출금 : 2024.1.8 5:11:43, 출금금액 : 500\n",
            "출금 : 2024.1.8 5:11:47, 출금금액 : 500\n",
            "\n",
            " ---print all history\n",
            "입금 : 2024.1.8 5:11:41, 입금금액 : 1000\n",
            "입금 : 2024.1.8 5:11:41, 입금금액 : 1000\n",
            "출금 : 2024.1.8 5:11:43, 출금금액 : 500\n",
            "입금 : 2024.1.8 5:11:45, 입금금액 : 1000\n",
            "입금 : 2024.1.8 5:11:47, 입금금액 : 1000\n",
            "출금 : 2024.1.8 5:11:47, 출금금액 : 500\n"
          ]
        }
      ]
    },
    {
      "cell_type": "code",
      "source": [
        "a.deposit(0) # 1원 이상이 아닐경우 에러 반환\n",
        "a.withdraw(100000) # 출금 액수가 통장 잔고보다 많을 경우, 에러 반환"
      ],
      "metadata": {
        "colab": {
          "base_uri": "https://localhost:8080/"
        },
        "id": "W7bXwGKUBpUM",
        "outputId": "c3d18c61-1dbf-4775-a858-42d75a86d1fc"
      },
      "execution_count": null,
      "outputs": [
        {
          "output_type": "stream",
          "name": "stdout",
          "text": [
            "Input Error, you must put at least 1 won.\n",
            "You cannot withdraw over your balance.\n"
          ]
        }
      ]
    },
    {
      "cell_type": "markdown",
      "source": [
        "# 회고\n",
        "\n",
        "김도현 : 코드 작성을 혼자 했다면 절대 시간 내에 끝내지 못했을 것입니다. 뛰어난 동료분이 계셔서 같이 코드를 이해해 가며 필요한 부분은 구글링하여 문제를 해결할 수 있었습니다. 협업의 중요성과 그 위력을 느낄 수 있는 시간이었습니다."
      ],
      "metadata": {
        "id": "9sIVZ0726geo"
      }
    },
    {
      "cell_type": "markdown",
      "source": [
        "함경표 : 시간이 생각보다 많이 부족하고, 아쉽게 마지막 문제를 해결하지 못하였다. 기획을 처음에 잘하고 했으면 조금 더 좋았을 것 같다."
      ],
      "metadata": {
        "id": "LexEdJgBFWw9"
      }
    }
  ]
}