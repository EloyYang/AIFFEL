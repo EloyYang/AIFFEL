{
 "cells": [
  {
   "cell_type": "markdown",
   "id": "59499ff2",
   "metadata": {},
   "source": [
    "# Movie Recommendation Project"
   ]
  },
  {
   "cell_type": "code",
   "execution_count": 1,
   "id": "e7fef390",
   "metadata": {},
   "outputs": [],
   "source": [
    "#!mkdir -p ~/aiffel/recommendata_iu/data/ml-1m\n",
    "#!ln -s ~/data/ml-1m/* ~/aiffel/recommendata_iu/data/ml-1m"
   ]
  },
  {
   "cell_type": "markdown",
   "id": "012d2d72",
   "metadata": {},
   "source": [
    "## Data Load"
   ]
  },
  {
   "cell_type": "code",
   "execution_count": 41,
   "id": "0cd3b5d6",
   "metadata": {},
   "outputs": [
    {
     "name": "stdout",
     "output_type": "stream",
     "text": [
      "1.21.4\n",
      "1.7.1\n",
      "0.4.8\n"
     ]
    }
   ],
   "source": [
    "import numpy as np\n",
    "import scipy\n",
    "import implicit\n",
    "\n",
    "print(np.__version__)\n",
    "print(scipy.__version__)\n",
    "print(implicit.__version__)"
   ]
  },
  {
   "cell_type": "code",
   "execution_count": 42,
   "id": "7b2ae31a",
   "metadata": {},
   "outputs": [
    {
     "data": {
      "text/html": [
       "<div>\n",
       "<style scoped>\n",
       "    .dataframe tbody tr th:only-of-type {\n",
       "        vertical-align: middle;\n",
       "    }\n",
       "\n",
       "    .dataframe tbody tr th {\n",
       "        vertical-align: top;\n",
       "    }\n",
       "\n",
       "    .dataframe thead th {\n",
       "        text-align: right;\n",
       "    }\n",
       "</style>\n",
       "<table border=\"1\" class=\"dataframe\">\n",
       "  <thead>\n",
       "    <tr style=\"text-align: right;\">\n",
       "      <th></th>\n",
       "      <th>user_id</th>\n",
       "      <th>movie_id</th>\n",
       "      <th>ratings</th>\n",
       "      <th>timestamp</th>\n",
       "    </tr>\n",
       "  </thead>\n",
       "  <tbody>\n",
       "    <tr>\n",
       "      <th>0</th>\n",
       "      <td>1</td>\n",
       "      <td>1193</td>\n",
       "      <td>5</td>\n",
       "      <td>978300760</td>\n",
       "    </tr>\n",
       "    <tr>\n",
       "      <th>1</th>\n",
       "      <td>1</td>\n",
       "      <td>661</td>\n",
       "      <td>3</td>\n",
       "      <td>978302109</td>\n",
       "    </tr>\n",
       "    <tr>\n",
       "      <th>2</th>\n",
       "      <td>1</td>\n",
       "      <td>914</td>\n",
       "      <td>3</td>\n",
       "      <td>978301968</td>\n",
       "    </tr>\n",
       "    <tr>\n",
       "      <th>3</th>\n",
       "      <td>1</td>\n",
       "      <td>3408</td>\n",
       "      <td>4</td>\n",
       "      <td>978300275</td>\n",
       "    </tr>\n",
       "    <tr>\n",
       "      <th>4</th>\n",
       "      <td>1</td>\n",
       "      <td>2355</td>\n",
       "      <td>5</td>\n",
       "      <td>978824291</td>\n",
       "    </tr>\n",
       "  </tbody>\n",
       "</table>\n",
       "</div>"
      ],
      "text/plain": [
       "   user_id  movie_id  ratings  timestamp\n",
       "0        1      1193        5  978300760\n",
       "1        1       661        3  978302109\n",
       "2        1       914        3  978301968\n",
       "3        1      3408        4  978300275\n",
       "4        1      2355        5  978824291"
      ]
     },
     "execution_count": 42,
     "metadata": {},
     "output_type": "execute_result"
    }
   ],
   "source": [
    "import os\n",
    "import pandas as pd\n",
    "\n",
    "rating_file_path=os.getenv('HOME') + '/aiffel/recommendata_iu/data/ml-1m/ratings.dat'\n",
    "ratings_cols = ['user_id', 'movie_id', 'ratings', 'timestamp']\n",
    "ratings = pd.read_csv(rating_file_path, sep='::', names=ratings_cols, engine='python', encoding = \"ISO-8859-1\")\n",
    "orginal_data_size = len(ratings)\n",
    "ratings.head()"
   ]
  },
  {
   "cell_type": "code",
   "execution_count": 43,
   "id": "f527e59d",
   "metadata": {},
   "outputs": [
    {
     "name": "stdout",
     "output_type": "stream",
     "text": [
      "orginal_data_size: 1000209, filtered_data_size: 836478\n",
      "Ratio of Remaining Data is 83.63%\n"
     ]
    }
   ],
   "source": [
    "# 3점 미만 데이터는 선호하지 않는다고 가정, 3점 이상만 \n",
    "ratings = ratings[ratings['ratings']>=3]\n",
    "filtered_data_size = len(ratings)\n",
    "\n",
    "print(f'orginal_data_size: {orginal_data_size}, filtered_data_size: {filtered_data_size}')\n",
    "print(f'Ratio of Remaining Data is {filtered_data_size / orginal_data_size:.2%}')"
   ]
  },
  {
   "cell_type": "code",
   "execution_count": 44,
   "id": "d73ecd53",
   "metadata": {},
   "outputs": [],
   "source": [
    "# 별점을 시청횟수로 가정, ratings 컬럼의 이름을 counts로 변경\n",
    "ratings.rename(columns={'ratings':'counts'}, inplace=True)"
   ]
  },
  {
   "cell_type": "code",
   "execution_count": 45,
   "id": "668f1b3a",
   "metadata": {},
   "outputs": [
    {
     "data": {
      "text/plain": [
       "0          5\n",
       "1          3\n",
       "2          3\n",
       "3          4\n",
       "4          5\n",
       "          ..\n",
       "1000203    3\n",
       "1000205    5\n",
       "1000206    5\n",
       "1000207    4\n",
       "1000208    4\n",
       "Name: counts, Length: 836478, dtype: int64"
      ]
     },
     "execution_count": 45,
     "metadata": {},
     "output_type": "execute_result"
    }
   ],
   "source": [
    "ratings['counts']"
   ]
  },
  {
   "cell_type": "code",
   "execution_count": 46,
   "id": "6d9be7ae",
   "metadata": {},
   "outputs": [
    {
     "data": {
      "text/html": [
       "<div>\n",
       "<style scoped>\n",
       "    .dataframe tbody tr th:only-of-type {\n",
       "        vertical-align: middle;\n",
       "    }\n",
       "\n",
       "    .dataframe tbody tr th {\n",
       "        vertical-align: top;\n",
       "    }\n",
       "\n",
       "    .dataframe thead th {\n",
       "        text-align: right;\n",
       "    }\n",
       "</style>\n",
       "<table border=\"1\" class=\"dataframe\">\n",
       "  <thead>\n",
       "    <tr style=\"text-align: right;\">\n",
       "      <th></th>\n",
       "      <th>movie_id</th>\n",
       "      <th>title</th>\n",
       "      <th>genre</th>\n",
       "    </tr>\n",
       "  </thead>\n",
       "  <tbody>\n",
       "    <tr>\n",
       "      <th>0</th>\n",
       "      <td>1</td>\n",
       "      <td>Toy Story (1995)</td>\n",
       "      <td>Animation|Children's|Comedy</td>\n",
       "    </tr>\n",
       "    <tr>\n",
       "      <th>1</th>\n",
       "      <td>2</td>\n",
       "      <td>Jumanji (1995)</td>\n",
       "      <td>Adventure|Children's|Fantasy</td>\n",
       "    </tr>\n",
       "    <tr>\n",
       "      <th>2</th>\n",
       "      <td>3</td>\n",
       "      <td>Grumpier Old Men (1995)</td>\n",
       "      <td>Comedy|Romance</td>\n",
       "    </tr>\n",
       "    <tr>\n",
       "      <th>3</th>\n",
       "      <td>4</td>\n",
       "      <td>Waiting to Exhale (1995)</td>\n",
       "      <td>Comedy|Drama</td>\n",
       "    </tr>\n",
       "    <tr>\n",
       "      <th>4</th>\n",
       "      <td>5</td>\n",
       "      <td>Father of the Bride Part II (1995)</td>\n",
       "      <td>Comedy</td>\n",
       "    </tr>\n",
       "  </tbody>\n",
       "</table>\n",
       "</div>"
      ],
      "text/plain": [
       "   movie_id                               title                         genre\n",
       "0         1                    Toy Story (1995)   Animation|Children's|Comedy\n",
       "1         2                      Jumanji (1995)  Adventure|Children's|Fantasy\n",
       "2         3             Grumpier Old Men (1995)                Comedy|Romance\n",
       "3         4            Waiting to Exhale (1995)                  Comedy|Drama\n",
       "4         5  Father of the Bride Part II (1995)                        Comedy"
      ]
     },
     "execution_count": 46,
     "metadata": {},
     "output_type": "execute_result"
    }
   ],
   "source": [
    "# 영화 제목을 보기 위해 메타 데이터를 읽어옵니다.\n",
    "movie_file_path=os.getenv('HOME') + '/aiffel/recommendata_iu/data/ml-1m/movies.dat'\n",
    "cols = ['movie_id', 'title', 'genre'] \n",
    "movies = pd.read_csv(movie_file_path, sep='::', names=cols, engine='python', encoding='ISO-8859-1')\n",
    "movies.head()"
   ]
  },
  {
   "cell_type": "markdown",
   "id": "bfd94c07",
   "metadata": {},
   "source": [
    "### Setting for Model Validation"
   ]
  },
  {
   "cell_type": "code",
   "execution_count": 47,
   "id": "aa7413a6",
   "metadata": {},
   "outputs": [
    {
     "name": "stdout",
     "output_type": "stream",
     "text": [
      "      movie_id                                   title                  genre\n",
      "121        123                Chungking Express (1994)  Drama|Mystery|Romance\n",
      "335        339          While You Were Sleeping (1995)         Comedy|Romance\n",
      "1672      1721                          Titanic (1997)          Drama|Romance\n",
      "2088      2157  Chambermaid on the Titanic, The (1998)                Romance\n",
      "2271      2340                   Meet Joe Black (1998)                Romance\n",
      "2602      2671                     Notting Hill (1999)         Comedy|Romance\n",
      "3334      3403                Raise the Titanic (1980)         Drama|Thriller\n",
      "3335      3404                          Titanic (1953)           Action|Drama\n"
     ]
    }
   ],
   "source": [
    "# 좋아하는 영화찾기\n",
    "search_titles = ['Titanic' ,'Meet Joe Black' ,'Chungking Express', 'Notting Hill', 'While You Were Sleeping']\n",
    "pattern = '|'.join(search_titles)  # 검색할 영화 제목들을 하나의 문자열로 결합\n",
    "\n",
    "filtered_movies = movies[movies['title'].str.contains(pattern, case=False)]\n",
    "\n",
    "print(filtered_movies)"
   ]
  },
  {
   "cell_type": "code",
   "execution_count": 48,
   "id": "203b40a1",
   "metadata": {},
   "outputs": [
    {
     "data": {
      "text/html": [
       "<div>\n",
       "<style scoped>\n",
       "    .dataframe tbody tr th:only-of-type {\n",
       "        vertical-align: middle;\n",
       "    }\n",
       "\n",
       "    .dataframe tbody tr th {\n",
       "        vertical-align: top;\n",
       "    }\n",
       "\n",
       "    .dataframe thead th {\n",
       "        text-align: right;\n",
       "    }\n",
       "</style>\n",
       "<table border=\"1\" class=\"dataframe\">\n",
       "  <thead>\n",
       "    <tr style=\"text-align: right;\">\n",
       "      <th></th>\n",
       "      <th>user_id</th>\n",
       "      <th>movie_id</th>\n",
       "      <th>counts</th>\n",
       "      <th>timestamp</th>\n",
       "    </tr>\n",
       "  </thead>\n",
       "  <tbody>\n",
       "    <tr>\n",
       "      <th>1000203</th>\n",
       "      <td>6040</td>\n",
       "      <td>1090</td>\n",
       "      <td>3</td>\n",
       "      <td>956715518.0</td>\n",
       "    </tr>\n",
       "    <tr>\n",
       "      <th>1000205</th>\n",
       "      <td>6040</td>\n",
       "      <td>1094</td>\n",
       "      <td>5</td>\n",
       "      <td>956704887.0</td>\n",
       "    </tr>\n",
       "    <tr>\n",
       "      <th>1000206</th>\n",
       "      <td>6040</td>\n",
       "      <td>562</td>\n",
       "      <td>5</td>\n",
       "      <td>956704746.0</td>\n",
       "    </tr>\n",
       "    <tr>\n",
       "      <th>1000207</th>\n",
       "      <td>6040</td>\n",
       "      <td>1096</td>\n",
       "      <td>4</td>\n",
       "      <td>956715648.0</td>\n",
       "    </tr>\n",
       "    <tr>\n",
       "      <th>1000208</th>\n",
       "      <td>6040</td>\n",
       "      <td>1097</td>\n",
       "      <td>4</td>\n",
       "      <td>956715569.0</td>\n",
       "    </tr>\n",
       "    <tr>\n",
       "      <th>0</th>\n",
       "      <td>dy</td>\n",
       "      <td>123</td>\n",
       "      <td>5</td>\n",
       "      <td>NaN</td>\n",
       "    </tr>\n",
       "    <tr>\n",
       "      <th>1</th>\n",
       "      <td>dy</td>\n",
       "      <td>1721</td>\n",
       "      <td>5</td>\n",
       "      <td>NaN</td>\n",
       "    </tr>\n",
       "    <tr>\n",
       "      <th>2</th>\n",
       "      <td>dy</td>\n",
       "      <td>2340</td>\n",
       "      <td>5</td>\n",
       "      <td>NaN</td>\n",
       "    </tr>\n",
       "    <tr>\n",
       "      <th>3</th>\n",
       "      <td>dy</td>\n",
       "      <td>2671</td>\n",
       "      <td>5</td>\n",
       "      <td>NaN</td>\n",
       "    </tr>\n",
       "    <tr>\n",
       "      <th>4</th>\n",
       "      <td>dy</td>\n",
       "      <td>339</td>\n",
       "      <td>5</td>\n",
       "      <td>NaN</td>\n",
       "    </tr>\n",
       "  </tbody>\n",
       "</table>\n",
       "</div>"
      ],
      "text/plain": [
       "        user_id  movie_id  counts    timestamp\n",
       "1000203    6040      1090       3  956715518.0\n",
       "1000205    6040      1094       5  956704887.0\n",
       "1000206    6040       562       5  956704746.0\n",
       "1000207    6040      1096       4  956715648.0\n",
       "1000208    6040      1097       4  956715569.0\n",
       "0            dy       123       5          NaN\n",
       "1            dy      1721       5          NaN\n",
       "2            dy      2340       5          NaN\n",
       "3            dy      2671       5          NaN\n",
       "4            dy       339       5          NaN"
      ]
     },
     "execution_count": 48,
     "metadata": {},
     "output_type": "execute_result"
    }
   ],
   "source": [
    "my_favorite = [123, 1721, 2340, 2671, 339]\n",
    "\n",
    "my_playlist = pd.DataFrame({'user_id': ['dy']*5, 'movie_id': my_favorite, 'counts':[5]*5})\n",
    "\n",
    "if not ratings.isin({'user_id':['dy']})['user_id'].any():  # user_id에 'zimin'이라는 데이터가 없다면\n",
    "    ratings = pd.concat([ratings, my_playlist])                            # 위에 임의로 만든 my_playlist 데이터 추가\n",
    "\n",
    "ratings.tail(10)  "
   ]
  },
  {
   "cell_type": "code",
   "execution_count": 49,
   "id": "e66a62bd",
   "metadata": {},
   "outputs": [
    {
     "data": {
      "text/html": [
       "<div>\n",
       "<style scoped>\n",
       "    .dataframe tbody tr th:only-of-type {\n",
       "        vertical-align: middle;\n",
       "    }\n",
       "\n",
       "    .dataframe tbody tr th {\n",
       "        vertical-align: top;\n",
       "    }\n",
       "\n",
       "    .dataframe thead th {\n",
       "        text-align: right;\n",
       "    }\n",
       "</style>\n",
       "<table border=\"1\" class=\"dataframe\">\n",
       "  <thead>\n",
       "    <tr style=\"text-align: right;\">\n",
       "      <th></th>\n",
       "      <th>user_id</th>\n",
       "      <th>movie_id</th>\n",
       "      <th>counts</th>\n",
       "      <th>timestamp</th>\n",
       "      <th>title</th>\n",
       "    </tr>\n",
       "  </thead>\n",
       "  <tbody>\n",
       "    <tr>\n",
       "      <th>0</th>\n",
       "      <td>1</td>\n",
       "      <td>1193</td>\n",
       "      <td>5</td>\n",
       "      <td>978300760.0</td>\n",
       "      <td>One Flew Over the Cuckoo's Nest (1975)</td>\n",
       "    </tr>\n",
       "    <tr>\n",
       "      <th>1</th>\n",
       "      <td>1</td>\n",
       "      <td>661</td>\n",
       "      <td>3</td>\n",
       "      <td>978302109.0</td>\n",
       "      <td>James and the Giant Peach (1996)</td>\n",
       "    </tr>\n",
       "    <tr>\n",
       "      <th>2</th>\n",
       "      <td>1</td>\n",
       "      <td>914</td>\n",
       "      <td>3</td>\n",
       "      <td>978301968.0</td>\n",
       "      <td>My Fair Lady (1964)</td>\n",
       "    </tr>\n",
       "    <tr>\n",
       "      <th>3</th>\n",
       "      <td>1</td>\n",
       "      <td>3408</td>\n",
       "      <td>4</td>\n",
       "      <td>978300275.0</td>\n",
       "      <td>Erin Brockovich (2000)</td>\n",
       "    </tr>\n",
       "    <tr>\n",
       "      <th>4</th>\n",
       "      <td>1</td>\n",
       "      <td>2355</td>\n",
       "      <td>5</td>\n",
       "      <td>978824291.0</td>\n",
       "      <td>Bug's Life, A (1998)</td>\n",
       "    </tr>\n",
       "  </tbody>\n",
       "</table>\n",
       "</div>"
      ],
      "text/plain": [
       "  user_id  movie_id  counts    timestamp  \\\n",
       "0       1      1193       5  978300760.0   \n",
       "1       1       661       3  978302109.0   \n",
       "2       1       914       3  978301968.0   \n",
       "3       1      3408       4  978300275.0   \n",
       "4       1      2355       5  978824291.0   \n",
       "\n",
       "                                    title  \n",
       "0  One Flew Over the Cuckoo's Nest (1975)  \n",
       "1        James and the Giant Peach (1996)  \n",
       "2                     My Fair Lady (1964)  \n",
       "3                  Erin Brockovich (2000)  \n",
       "4                    Bug's Life, A (1998)  "
      ]
     },
     "execution_count": 49,
     "metadata": {},
     "output_type": "execute_result"
    }
   ],
   "source": [
    "# ratings에 movies의 title 가져오기\n",
    "ratings = pd.merge(ratings, movies[['movie_id', 'title']], on='movie_id', how='left')\n",
    "\n",
    "ratings.head()"
   ]
  },
  {
   "cell_type": "code",
   "execution_count": 51,
   "id": "80b96fea",
   "metadata": {},
   "outputs": [],
   "source": [
    "ratings = ratings[['user_id','counts','title']]"
   ]
  },
  {
   "cell_type": "markdown",
   "id": "8fce3fa1",
   "metadata": {},
   "source": [
    "## EDA"
   ]
  },
  {
   "cell_type": "code",
   "execution_count": 52,
   "id": "fb8a2e3c",
   "metadata": {},
   "outputs": [
    {
     "data": {
      "text/plain": [
       "6040"
      ]
     },
     "execution_count": 52,
     "metadata": {},
     "output_type": "execute_result"
    }
   ],
   "source": [
    "# 유저 수\n",
    "ratings['user_id'].nunique()"
   ]
  },
  {
   "cell_type": "code",
   "execution_count": 53,
   "id": "ab7883ba",
   "metadata": {},
   "outputs": [
    {
     "data": {
      "text/plain": [
       "3628"
      ]
     },
     "execution_count": 53,
     "metadata": {},
     "output_type": "execute_result"
    }
   ],
   "source": [
    "# 아티스트 수\n",
    "ratings['title'].nunique()"
   ]
  },
  {
   "cell_type": "code",
   "execution_count": 54,
   "id": "db5f715a",
   "metadata": {},
   "outputs": [
    {
     "data": {
      "text/plain": [
       "title\n",
       "American Beauty (1999)                                   3211\n",
       "Star Wars: Episode IV - A New Hope (1977)                2910\n",
       "Star Wars: Episode V - The Empire Strikes Back (1980)    2885\n",
       "Star Wars: Episode VI - Return of the Jedi (1983)        2716\n",
       "Saving Private Ryan (1998)                               2561\n",
       "Terminator 2: Judgment Day (1991)                        2509\n",
       "Silence of the Lambs, The (1991)                         2498\n",
       "Raiders of the Lost Ark (1981)                           2473\n",
       "Back to the Future (1985)                                2460\n",
       "Matrix, The (1999)                                       2434\n",
       "Jurassic Park (1993)                                     2413\n",
       "Sixth Sense, The (1999)                                  2385\n",
       "Fargo (1996)                                             2371\n",
       "Braveheart (1995)                                        2314\n",
       "Men in Black (1997)                                      2297\n",
       "Schindler's List (1993)                                  2257\n",
       "Princess Bride, The (1987)                               2252\n",
       "Shakespeare in Love (1998)                               2213\n",
       "L.A. Confidential (1997)                                 2210\n",
       "Shawshank Redemption, The (1994)                         2194\n",
       "Godfather, The (1972)                                    2167\n",
       "Groundhog Day (1993)                                     2121\n",
       "E.T. the Extra-Terrestrial (1982)                        2102\n",
       "Being John Malkovich (1999)                              2066\n",
       "Ghostbusters (1984)                                      2051\n",
       "Pulp Fiction (1994)                                      2030\n",
       "Forrest Gump (1994)                                      2022\n",
       "Terminator, The (1984)                                   2019\n",
       "Toy Story (1995)                                         2000\n",
       "Fugitive, The (1993)                                     1941\n",
       "Name: user_id, dtype: int64"
      ]
     },
     "execution_count": 54,
     "metadata": {},
     "output_type": "execute_result"
    }
   ],
   "source": [
    "# 인기 많은 아티스트\n",
    "title_count = ratings.groupby('title')['user_id'].count()\n",
    "title_count.sort_values(ascending=False).head(30)"
   ]
  },
  {
   "cell_type": "code",
   "execution_count": 55,
   "id": "71dbfb41",
   "metadata": {},
   "outputs": [
    {
     "data": {
      "text/plain": [
       "count    6040.000000\n",
       "mean      138.490563\n",
       "std       156.238108\n",
       "min         1.000000\n",
       "25%        38.000000\n",
       "50%        81.000000\n",
       "75%       177.000000\n",
       "max      1968.000000\n",
       "Name: title, dtype: float64"
      ]
     },
     "execution_count": 55,
     "metadata": {},
     "output_type": "execute_result"
    }
   ],
   "source": [
    "# 유저 별 영화 수 describe\n",
    "user_count = ratings.groupby('user_id')['title'].count()\n",
    "user_count.describe()"
   ]
  },
  {
   "cell_type": "code",
   "execution_count": 56,
   "id": "47719acb",
   "metadata": {},
   "outputs": [
    {
     "data": {
      "text/plain": [
       "count    6040.000000\n",
       "mean        4.056126\n",
       "std         0.432278\n",
       "min         3.000000\n",
       "25%         4.000000\n",
       "50%         4.000000\n",
       "75%         4.000000\n",
       "max         5.000000\n",
       "Name: counts, dtype: float64"
      ]
     },
     "execution_count": 56,
     "metadata": {},
     "output_type": "execute_result"
    }
   ],
   "source": [
    "# # 유저 별 영화 시청 수 중앙값에 대한 describe\n",
    "user_median = ratings.groupby('user_id')['counts'].median()\n",
    "user_median.describe()"
   ]
  },
  {
   "cell_type": "markdown",
   "id": "3f32e0f5",
   "metadata": {},
   "source": [
    "## Data Processing"
   ]
  },
  {
   "cell_type": "code",
   "execution_count": 57,
   "id": "1fe476fe",
   "metadata": {},
   "outputs": [],
   "source": [
    "# 고유한 유저, 아티스트를 찾아내는 코드\n",
    "user_unique = ratings['user_id'].unique()\n",
    "movie_unique = ratings['title'].unique()\n",
    "\n",
    "# 유저, 아티스트 indexing\n",
    "user_to_idx = {v:k for k,v in enumerate(user_unique)}\n",
    "movie_to_idx = {v:k for k,v in enumerate(movie_unique)}"
   ]
  },
  {
   "cell_type": "code",
   "execution_count": 59,
   "id": "fb5fbf2f",
   "metadata": {},
   "outputs": [
    {
     "name": "stdout",
     "output_type": "stream",
     "text": [
      "6039\n",
      "27\n"
     ]
    }
   ],
   "source": [
    "# 인덱싱 확인\n",
    "print(user_to_idx['dy'])    \n",
    "print(movie_to_idx['Titanic (1997)'])"
   ]
  },
  {
   "cell_type": "code",
   "execution_count": 60,
   "id": "bf49772b",
   "metadata": {},
   "outputs": [
    {
     "name": "stdout",
     "output_type": "stream",
     "text": [
      "user_id column indexing OK!!\n",
      "title column indexing OK!!\n"
     ]
    },
    {
     "name": "stderr",
     "output_type": "stream",
     "text": [
      "/tmp/ipykernel_147/790864692.py:9: SettingWithCopyWarning: \n",
      "A value is trying to be set on a copy of a slice from a DataFrame.\n",
      "Try using .loc[row_indexer,col_indexer] = value instead\n",
      "\n",
      "See the caveats in the documentation: https://pandas.pydata.org/pandas-docs/stable/user_guide/indexing.html#returning-a-view-versus-a-copy\n",
      "  ratings['user_id'] = temp_user_data   # data['user_id']을 인덱싱된 Series로 교체해 줍니다.\n",
      "/tmp/ipykernel_147/790864692.py:17: SettingWithCopyWarning: \n",
      "A value is trying to be set on a copy of a slice from a DataFrame.\n",
      "Try using .loc[row_indexer,col_indexer] = value instead\n",
      "\n",
      "See the caveats in the documentation: https://pandas.pydata.org/pandas-docs/stable/user_guide/indexing.html#returning-a-view-versus-a-copy\n",
      "  ratings['title'] = temp_title_data\n"
     ]
    }
   ],
   "source": [
    "# indexing을 통해 데이터 컬럼 내 값을 바꾸는 코드\n",
    "# dictionary 자료형의 get 함수는 https://wikidocs.net/16 을 참고하세요.\n",
    "\n",
    "# user_to_idx.get을 통해 user_id 컬럼의 모든 값을 인덱싱한 Series를 구해 봅시다. \n",
    "# 혹시 정상적으로 인덱싱되지 않은 row가 있다면 인덱스가 NaN이 될 테니 dropna()로 제거합니다. \n",
    "temp_user_data = ratings['user_id'].map(user_to_idx.get).dropna()\n",
    "if len(temp_user_data) == len(ratings):   # 모든 row가 정상적으로 인덱싱되었다면\n",
    "    print('user_id column indexing OK!!')\n",
    "    ratings['user_id'] = temp_user_data   # data['user_id']을 인덱싱된 Series로 교체해 줍니다. \n",
    "else:\n",
    "    print('user_id column indexing Fail!!')\n",
    "\n",
    "# artist_to_idx을 통해 artist 컬럼도 동일한 방식으로 인덱싱해 줍니다. \n",
    "temp_title_data = ratings['title'].map(movie_to_idx.get).dropna()\n",
    "if len(temp_title_data) == len(ratings):\n",
    "    print('title column indexing OK!!')\n",
    "    ratings['title'] = temp_title_data\n",
    "else:\n",
    "    print('title column indexing Fail!!')\n"
   ]
  },
  {
   "cell_type": "code",
   "execution_count": 61,
   "id": "696643b1",
   "metadata": {},
   "outputs": [
    {
     "data": {
      "text/plain": [
       "<6040x3628 sparse matrix of type '<class 'numpy.int64'>'\n",
       "\twith 836483 stored elements in Compressed Sparse Row format>"
      ]
     },
     "execution_count": 61,
     "metadata": {},
     "output_type": "execute_result"
    }
   ],
   "source": [
    "# CSR Matrix\n",
    "from scipy.sparse import csr_matrix\n",
    "\n",
    "num_user = ratings['user_id'].nunique()\n",
    "num_movie = ratings['title'].nunique()\n",
    "\n",
    "csr_data = csr_matrix((ratings.counts, (ratings.user_id, ratings.title)), shape= (num_user, num_movie))\n",
    "csr_data"
   ]
  },
  {
   "cell_type": "markdown",
   "id": "cce6aa78",
   "metadata": {},
   "source": [
    "## Matrix Factorization"
   ]
  },
  {
   "cell_type": "code",
   "execution_count": 62,
   "id": "a33d75a1",
   "metadata": {},
   "outputs": [],
   "source": [
    "from implicit.als import AlternatingLeastSquares\n",
    "import os\n",
    "import numpy as np\n",
    "\n",
    "# implicit 라이브러리에서 권장하고 있는 부분입니다. 학습 내용과는 무관합니다.\n",
    "os.environ['OPENBLAS_NUM_THREADS']='1'\n",
    "os.environ['KMP_DUPLICATE_LIB_OK']='True'\n",
    "os.environ['MKL_NUM_THREADS']='1'"
   ]
  },
  {
   "cell_type": "code",
   "execution_count": 109,
   "id": "2bccba13",
   "metadata": {},
   "outputs": [],
   "source": [
    "# Implicit AlternatingLeastSquares 모델의 선언\n",
    "als_model = AlternatingLeastSquares(factors=500, regularization=0.01, use_gpu=False, iterations=50, dtype=np.float32)"
   ]
  },
  {
   "cell_type": "code",
   "execution_count": 110,
   "id": "9247ab01",
   "metadata": {},
   "outputs": [
    {
     "data": {
      "text/plain": [
       "<3628x6040 sparse matrix of type '<class 'numpy.int64'>'\n",
       "\twith 836483 stored elements in Compressed Sparse Column format>"
      ]
     },
     "execution_count": 110,
     "metadata": {},
     "output_type": "execute_result"
    }
   ],
   "source": [
    "# als 모델은 input으로 (item X user 꼴의 matrix를 받기 때문에 Transpose해줍니다.)\n",
    "csr_data_transpose = csr_data.T\n",
    "csr_data_transpose"
   ]
  },
  {
   "cell_type": "code",
   "execution_count": 111,
   "id": "f38289d1",
   "metadata": {},
   "outputs": [
    {
     "data": {
      "application/vnd.jupyter.widget-view+json": {
       "model_id": "ad64da25175148f692e6c21d7da8dade",
       "version_major": 2,
       "version_minor": 0
      },
      "text/plain": [
       "  0%|          | 0/50 [00:00<?, ?it/s]"
      ]
     },
     "metadata": {},
     "output_type": "display_data"
    }
   ],
   "source": [
    "# 모델 훈련\n",
    "als_model.fit(csr_data_transpose)"
   ]
  },
  {
   "cell_type": "code",
   "execution_count": 112,
   "id": "8330af53",
   "metadata": {},
   "outputs": [],
   "source": [
    "dy, chungking_Express = user_to_idx['dy'], movie_to_idx['Chungking Express (1994)']\n",
    "dy_vector, chungking_Express_vector = als_model.user_factors[dy], als_model.item_factors[chungking_Express]"
   ]
  },
  {
   "cell_type": "code",
   "execution_count": 113,
   "id": "58b5cc4d",
   "metadata": {},
   "outputs": [
    {
     "data": {
      "text/plain": [
       "array([ 4.93188389e-02, -4.79438871e-01, -4.02681917e-01, -1.77008465e-01,\n",
       "       -2.18683824e-01,  8.11887067e-03, -1.27377674e-01,  8.04519951e-02,\n",
       "        4.76505786e-01,  3.82747725e-02,  1.48326546e-01, -7.92770181e-03,\n",
       "       -1.43702105e-01,  7.71987140e-02, -6.04031868e-02,  2.69848943e-01,\n",
       "       -2.41968594e-03, -3.40500981e-01,  4.78845090e-02,  3.89274687e-01,\n",
       "       -4.62642163e-02,  2.27210790e-01, -1.71771809e-01,  2.25156605e-01,\n",
       "       -2.65089065e-01,  7.38661066e-02,  2.61657953e-01,  2.10383371e-01,\n",
       "       -8.48378241e-02, -2.67342925e-01,  4.01794612e-02, -1.41866654e-01,\n",
       "        4.16932404e-01,  3.64845842e-01, -9.37797409e-03,  7.21494332e-02,\n",
       "        1.04372613e-01, -4.16950762e-01,  2.11399689e-01, -9.07784700e-02,\n",
       "        1.02417901e-01, -2.49361917e-01,  3.98586601e-01, -2.58999884e-01,\n",
       "        9.59573239e-02, -2.04677105e-01, -4.07164805e-02,  1.78050697e-01,\n",
       "       -1.63085431e-01,  5.09978607e-02,  5.63800596e-02, -2.45965168e-01,\n",
       "       -9.50916409e-02, -8.27266648e-02, -7.03032361e-03, -2.12559119e-01,\n",
       "        6.56052679e-02,  4.10027593e-01, -4.99503836e-02, -1.24800101e-01,\n",
       "       -3.21209520e-01,  9.44058523e-02,  2.36498505e-01, -5.85833602e-02,\n",
       "       -6.05887845e-02,  4.77891862e-01, -5.91025166e-02,  3.66766274e-01,\n",
       "        2.17717260e-01, -1.07336536e-01, -3.27216625e-01, -1.77976891e-01,\n",
       "        1.39470518e-01,  1.10631071e-01,  2.95990258e-01, -5.50176613e-02,\n",
       "       -2.03684658e-01, -5.76245785e-01,  7.60070384e-02,  1.55697614e-01,\n",
       "       -2.47292161e-01,  6.25067279e-02,  1.66670173e-01,  2.00250059e-01,\n",
       "       -2.07569613e-03, -2.42264941e-01, -7.85899311e-02,  1.20052084e-01,\n",
       "       -1.31458193e-01, -1.35776177e-01,  1.77442551e-01,  6.31737560e-02,\n",
       "       -1.18455142e-02,  4.14835140e-02,  3.74039173e-01, -1.06378153e-01,\n",
       "       -1.08319022e-04,  6.94523007e-02, -1.50834337e-01, -1.41864941e-01,\n",
       "       -2.33945429e-01, -3.27900231e-01, -2.30052158e-01,  1.17279306e-01,\n",
       "        1.43933162e-01, -2.40436390e-01, -7.73666129e-02,  6.43933937e-02,\n",
       "        9.58228037e-02,  3.32972407e-01, -1.05255187e-01,  3.30035448e-01,\n",
       "        1.83067188e-01,  2.18338639e-01, -3.61039609e-01, -1.97731093e-01,\n",
       "        1.66960657e-01, -2.68961936e-01, -2.00298778e-03,  1.22943334e-01,\n",
       "        8.91860127e-02, -4.14124936e-01,  2.28189453e-01, -2.82453578e-02,\n",
       "       -2.48615131e-01,  1.30156115e-01, -2.02243671e-01,  1.34940296e-01,\n",
       "       -2.49745712e-01,  2.34561041e-02,  1.35880485e-01, -2.54957169e-01,\n",
       "        1.66012436e-01, -2.00861762e-03,  2.25382447e-02,  1.62920412e-02,\n",
       "       -1.99199971e-02, -3.02232385e-01,  1.46788120e-01, -7.32522979e-02,\n",
       "       -3.17727565e-03, -3.29786777e-01, -2.05315873e-02,  2.60166079e-01,\n",
       "       -2.75838405e-01, -1.24433644e-01, -9.45420712e-02,  4.42991942e-01,\n",
       "        2.33293343e-02, -2.05466419e-01,  1.00806564e-01,  2.59392988e-02,\n",
       "        1.27693355e-01, -6.79495931e-02, -6.18703105e-02,  8.46574679e-02,\n",
       "       -3.54037881e-01, -2.39092559e-01, -3.06460857e-01,  9.62002352e-02,\n",
       "       -1.00737430e-01,  1.88917965e-01, -7.78513104e-02,  2.60287579e-02,\n",
       "        5.26270606e-02,  2.77502507e-01, -2.30813205e-01, -1.30392998e-01,\n",
       "        2.37753674e-01,  2.51766443e-01,  6.03842400e-02, -4.63656127e-01,\n",
       "        6.15271889e-02,  3.58220339e-01,  5.62600642e-02, -1.14099625e-02,\n",
       "       -8.81604180e-02, -1.49618149e-01,  1.06396325e-01,  2.66683072e-01,\n",
       "       -1.44687742e-01, -1.52451590e-01, -1.34290770e-01, -3.13325785e-02,\n",
       "        4.33099151e-01, -3.62958014e-02, -1.43568888e-01, -7.29617998e-02,\n",
       "        2.88183153e-01, -1.01755552e-01, -3.38235982e-02,  1.72592685e-01,\n",
       "        8.78360644e-02, -2.15759665e-01,  1.38876826e-01, -1.21068209e-01,\n",
       "       -2.36192152e-01, -3.01458798e-02,  1.75855726e-01,  8.61482099e-02,\n",
       "        1.61093161e-01,  7.34547153e-02, -2.78855860e-02,  2.04174370e-01,\n",
       "       -7.91485161e-02, -7.63175339e-02,  2.47429177e-01, -4.21669669e-02,\n",
       "        7.40388855e-02,  2.65928417e-01, -1.73527762e-01, -2.21245810e-01,\n",
       "       -3.67799103e-01,  1.13044485e-01, -1.62018225e-01, -3.57809216e-01,\n",
       "       -2.20289707e-01,  2.63871960e-02, -2.44248524e-01, -1.78567976e-01,\n",
       "        3.67067643e-02,  2.78234839e-01, -1.93917155e-01,  1.31683871e-01,\n",
       "        1.49105059e-03,  1.94785088e-01,  3.90857279e-01,  5.57630584e-02,\n",
       "        6.61567375e-02,  1.14166766e-01, -7.16000870e-02,  1.57272801e-01,\n",
       "       -1.52621016e-01, -1.55849800e-01,  2.26868600e-01, -7.87227377e-02,\n",
       "        3.03275343e-02, -3.43760736e-02,  1.38134629e-01, -2.11471632e-01,\n",
       "        5.18072784e-01, -7.70246685e-02,  1.25675082e-01, -1.18562341e-01,\n",
       "        1.06165953e-01, -9.31555554e-02, -5.66760749e-02, -2.23561287e-01,\n",
       "        5.82989991e-01,  1.44341215e-01, -4.88541454e-01, -6.32827953e-02,\n",
       "       -1.92668632e-01,  1.57388359e-01, -1.66193709e-01, -1.74744204e-01,\n",
       "        3.91216964e-01,  1.52598703e-02,  4.78139400e-01,  2.98874229e-01,\n",
       "        1.95218042e-01,  2.22823218e-01,  1.15970008e-01,  9.99201089e-02,\n",
       "        2.56432056e-01, -1.50947049e-02, -4.15003508e-01, -1.42083734e-01,\n",
       "        2.29497954e-01, -7.18021989e-02, -8.80596489e-02,  2.27663174e-01,\n",
       "       -1.42498359e-01, -3.40745226e-02,  1.53370127e-01, -2.37574115e-01,\n",
       "        1.54235318e-01,  3.93280685e-01,  2.15293169e-01, -5.69137514e-01,\n",
       "        2.51550436e-01,  4.33121994e-02,  3.33095968e-01,  2.43980199e-01,\n",
       "       -2.78598905e-01,  2.88603842e-01, -9.05738920e-02, -1.04529308e-02,\n",
       "        5.56530878e-02,  4.51712869e-02, -9.83714908e-02,  8.78468230e-02,\n",
       "       -4.41671401e-01, -7.27451965e-02,  3.76669824e-01,  6.28299862e-02,\n",
       "       -1.47570610e-01, -1.73593566e-01,  5.17304659e-01, -3.88377793e-02,\n",
       "        7.94791896e-03, -1.00399874e-01, -3.56253088e-02, -5.65405972e-02,\n",
       "        4.47877012e-02, -6.50479272e-02,  2.15660892e-02,  4.31333095e-01,\n",
       "       -4.67458703e-02, -2.04309016e-01, -1.47317022e-01, -5.79522550e-02,\n",
       "       -4.54131752e-01,  1.03477284e-01,  3.73294530e-03, -6.42554462e-02,\n",
       "       -2.11586013e-01, -3.13648403e-01, -1.12258166e-01, -8.94538611e-02,\n",
       "        1.70333862e-01, -4.80266176e-02, -7.42049739e-02,  3.55540991e-01,\n",
       "        3.48494053e-01, -1.67666689e-01, -8.71517137e-03,  4.91297171e-02,\n",
       "       -8.15253034e-02,  4.76545319e-02,  3.51727277e-01, -1.61682725e-01,\n",
       "       -3.44442427e-01, -1.53252125e-01, -1.86785921e-01,  9.27107111e-02,\n",
       "        2.11134762e-01,  2.05932707e-01,  1.02368541e-01, -3.05715911e-02,\n",
       "       -1.46036327e-01,  1.71933681e-01,  1.79837957e-01,  3.42176974e-01,\n",
       "        4.14189994e-01, -7.06787333e-02, -2.66121686e-01,  2.98214436e-01,\n",
       "        8.45159963e-02,  1.83439329e-01, -1.55706197e-01,  2.71080919e-02,\n",
       "       -1.92031823e-02,  6.23796172e-02,  4.59593713e-01, -3.37821096e-01,\n",
       "       -6.09044470e-02,  2.02010885e-01,  1.82294250e-02,  1.17206676e-02,\n",
       "       -1.85227790e-03, -5.69927037e-01, -2.08811276e-02,  1.09328978e-01,\n",
       "        1.64739594e-01, -9.45504904e-02, -1.45830587e-01, -5.75838387e-01,\n",
       "       -3.61014456e-02,  1.72645077e-01, -4.14166033e-01, -2.85228901e-02,\n",
       "        4.74150687e-01, -4.17540297e-02, -1.97505295e-01, -2.56254137e-01,\n",
       "       -2.93487132e-01, -9.90532525e-03, -1.45628005e-02, -1.60432130e-01,\n",
       "       -3.85302782e-01, -5.34724705e-02,  2.56575972e-01,  1.36403948e-01,\n",
       "        3.14692557e-01, -1.29764065e-01, -6.45769164e-02,  7.07718655e-02,\n",
       "        6.89758137e-02, -1.96310967e-01,  1.22138314e-01,  5.30094206e-01,\n",
       "       -5.27563505e-03,  7.37129152e-02, -2.60961186e-02,  1.95545524e-01,\n",
       "        3.14950496e-02, -2.65363269e-02, -2.88837373e-01,  1.48095861e-02,\n",
       "       -3.57426912e-01, -1.72732517e-01, -1.96557969e-01,  1.56484395e-01,\n",
       "        9.24374759e-02, -1.94992423e-01, -9.69361588e-02,  3.54970127e-01,\n",
       "       -1.74362175e-02,  1.16429299e-01,  1.37549549e-01,  2.35483095e-01,\n",
       "       -7.31374770e-02, -1.68700457e-01, -4.74889904e-01,  1.42464831e-01,\n",
       "       -1.36727124e-01, -5.58906142e-03,  6.70428723e-02, -1.48975909e-01,\n",
       "       -3.80950198e-02, -2.76889473e-01,  1.77279606e-01, -1.11392766e-01,\n",
       "       -5.69901109e-01, -4.60981876e-02, -1.10715285e-01, -4.44762915e-01,\n",
       "       -2.99377013e-02, -1.76858470e-01, -1.75221935e-01, -7.33119920e-02,\n",
       "        9.65810493e-02,  2.10664019e-01, -1.34911045e-01,  2.61223495e-01,\n",
       "       -3.42461579e-02,  4.52117383e-01, -4.07655627e-01,  2.53333777e-01,\n",
       "       -3.32148820e-01, -2.73879170e-01,  3.76539767e-01, -3.37222666e-01,\n",
       "       -5.94255701e-03,  3.86425257e-02,  1.75455600e-01,  8.39453116e-02,\n",
       "       -6.31927475e-02,  8.08415860e-02,  6.95238709e-02,  2.70417541e-01,\n",
       "        3.13777179e-01,  1.73458904e-01, -3.09279650e-01, -1.47016170e-02,\n",
       "       -2.58255546e-04,  7.99113587e-02, -2.07791746e-01, -3.39582972e-02,\n",
       "        3.03556919e-01,  9.59587321e-02,  1.23583386e-03, -7.98497442e-03,\n",
       "        3.82344961e-01, -9.19427276e-02,  3.83423734e-03,  1.23937018e-01,\n",
       "        4.08941042e-03,  8.32568333e-02,  3.97255272e-01, -6.03817068e-02,\n",
       "        1.09035619e-01, -1.93818152e-01, -5.57528734e-02, -6.54756278e-02,\n",
       "       -4.51887101e-01,  1.69198196e-02,  1.90424144e-01,  9.79426205e-02,\n",
       "       -3.62412363e-01,  9.52978507e-02, -4.57976982e-02,  3.37711871e-01,\n",
       "        7.79494643e-02,  7.62414858e-02, -6.98909760e-02, -8.41885135e-02,\n",
       "       -2.18672514e-01, -9.59899202e-02, -2.37967551e-01,  2.42543697e-01,\n",
       "        1.65138319e-01,  1.43700004e-01,  2.90413797e-01, -4.38161492e-02,\n",
       "        1.64240509e-01,  3.37785900e-01,  2.13740110e-01, -6.42880574e-02],\n",
       "      dtype=float32)"
      ]
     },
     "execution_count": 113,
     "metadata": {},
     "output_type": "execute_result"
    }
   ],
   "source": [
    "dy_vector"
   ]
  },
  {
   "cell_type": "code",
   "execution_count": 114,
   "id": "7c2981a0",
   "metadata": {
    "scrolled": true
   },
   "outputs": [
    {
     "data": {
      "text/plain": [
       "array([ 4.20000078e-03, -4.22790414e-03, -1.09434100e-02,  1.30871618e-02,\n",
       "        4.71250527e-03,  5.38808154e-03,  9.91730299e-03,  8.49854946e-03,\n",
       "        9.80592426e-03,  2.13902839e-03,  1.41994227e-02,  2.70013930e-03,\n",
       "       -3.28044896e-03,  9.47448704e-03, -4.70395200e-03,  1.86641067e-02,\n",
       "        6.44890266e-03, -3.83072183e-03,  8.36644415e-03,  8.54921620e-03,\n",
       "        1.05281416e-02,  1.66325942e-02, -1.51297706e-03,  8.91278591e-03,\n",
       "        1.01194987e-02,  3.65036237e-03,  1.28280348e-03,  3.23747471e-03,\n",
       "       -8.23793560e-03,  9.37379990e-03,  4.03052988e-03,  5.53669920e-03,\n",
       "        1.57793127e-02,  1.35972984e-02,  5.30600036e-03,  1.34736560e-02,\n",
       "        5.14678890e-03,  9.05845314e-03,  8.54836404e-03,  9.51712299e-03,\n",
       "        8.46140180e-03,  7.20988773e-03,  1.61384605e-02,  7.41991727e-03,\n",
       "        1.31985908e-02, -1.20539693e-02,  8.55060760e-03,  1.21501097e-02,\n",
       "        6.01228233e-03,  1.37608964e-02,  1.05439154e-02,  5.26627386e-03,\n",
       "        4.26602131e-03,  8.92307423e-03,  7.37855351e-03,  1.82990020e-03,\n",
       "       -3.87832522e-03,  4.61448776e-03,  8.85724649e-03,  3.82293807e-03,\n",
       "       -1.49267744e-02,  4.88874828e-03,  5.10669686e-03, -8.28884915e-03,\n",
       "       -1.15311788e-02,  1.77657288e-02,  1.53350830e-03,  2.44231522e-02,\n",
       "        5.58510004e-03, -1.65946074e-02, -6.75611896e-03, -2.30264995e-04,\n",
       "       -6.11341512e-03,  1.17791323e-02,  2.29704622e-02,  4.66388091e-03,\n",
       "        8.03872291e-03, -5.66066988e-03,  2.00539529e-02, -2.31724256e-03,\n",
       "        7.85430055e-03,  1.00093614e-02,  1.21992379e-02,  9.86769795e-03,\n",
       "        7.90377241e-03, -1.34546240e-03,  1.75877754e-03,  1.21981828e-02,\n",
       "        3.60937696e-03,  9.14716348e-03,  4.65881033e-03,  1.49265872e-02,\n",
       "        1.71158761e-02, -3.21006542e-03,  1.29115107e-02, -8.21853231e-04,\n",
       "        7.08079711e-03,  1.80978365e-02, -2.36658915e-03, -6.09662989e-03,\n",
       "       -4.96501998e-05,  5.17322356e-03,  4.07948112e-03,  1.08167687e-02,\n",
       "        1.30274501e-02,  2.12458591e-03, -2.49793078e-03,  4.99513280e-03,\n",
       "        5.26636792e-03,  6.11218670e-03,  1.12265302e-02, -5.24469372e-03,\n",
       "       -1.13967829e-03, -1.15643127e-03,  3.04740388e-03, -1.25932670e-03,\n",
       "        6.12951024e-03,  8.25927872e-03,  6.01740021e-06,  7.86031689e-03,\n",
       "       -1.86760258e-03, -1.62547380e-02,  1.14401430e-02,  9.59156919e-03,\n",
       "        6.67087454e-03,  3.23585304e-03,  1.19531704e-02,  6.64361659e-03,\n",
       "       -1.05930259e-02, -3.82202421e-03,  1.09056057e-03,  5.91176841e-03,\n",
       "        1.01919491e-02, -8.86814669e-04, -2.78918259e-03, -1.30615365e-02,\n",
       "       -1.64469704e-02,  1.73205677e-02,  1.68607756e-02,  1.33816227e-02,\n",
       "        1.55195203e-02, -7.05359085e-03,  1.42465765e-03,  1.40813151e-02,\n",
       "       -9.39780264e-04,  2.60402076e-03, -7.52410851e-03,  1.81332901e-02,\n",
       "       -4.91601299e-04, -7.16651138e-03, -3.53620941e-04, -1.42317079e-03,\n",
       "       -2.11869343e-03,  9.71406873e-04,  1.84464839e-03,  1.31155979e-02,\n",
       "       -3.03896749e-03,  3.79559165e-03, -2.75844522e-03,  1.46803800e-02,\n",
       "        9.61571373e-03, -4.52222303e-03, -1.31793856e-03,  1.56148826e-03,\n",
       "        4.46213363e-03,  5.74422395e-03,  5.07352222e-03, -1.92571653e-03,\n",
       "        6.07061759e-03,  5.02452720e-03,  1.16441855e-02, -7.11504091e-03,\n",
       "        1.06896842e-02,  9.70311463e-03,  5.96210535e-04,  1.60915386e-02,\n",
       "        8.97137076e-03,  8.62696581e-03,  5.65662049e-03,  1.42046595e-02,\n",
       "       -3.32564302e-03, -4.17320803e-03,  7.85331940e-04,  5.92097826e-03,\n",
       "        6.16849959e-03, -2.39882222e-03,  2.01623254e-02,  8.02027236e-04,\n",
       "        1.98752657e-02, -9.92160477e-03, -2.54727434e-03,  1.54513866e-02,\n",
       "        4.00458276e-03, -7.60150608e-03,  1.13684069e-02, -3.39423493e-03,\n",
       "        5.68201533e-03,  9.15501546e-03,  1.31923473e-03,  7.94913992e-03,\n",
       "        1.32841039e-02,  6.83407113e-03,  1.44538237e-02, -1.39050506e-04,\n",
       "       -2.00942834e-03,  7.49847246e-03,  2.41333656e-02, -9.37239034e-04,\n",
       "        1.87544413e-02, -2.06038589e-04,  1.12447683e-02,  1.78958979e-02,\n",
       "        1.02534164e-02,  2.05304027e-02,  1.31201930e-02, -4.66578314e-03,\n",
       "        5.65408170e-03,  5.45345200e-03, -7.35335937e-03,  1.92710534e-02,\n",
       "        3.47523647e-03,  1.51118329e-02,  6.69682458e-06,  4.90883878e-03,\n",
       "       -2.58714845e-05,  3.91646568e-03, -4.62504616e-03,  9.80779901e-03,\n",
       "        9.60889272e-03,  1.01426831e-02, -2.79770698e-03, -4.72026644e-03,\n",
       "       -1.60596322e-03, -3.21721716e-04,  2.08752770e-02,  9.76462942e-03,\n",
       "       -1.90851721e-03, -3.59063526e-03,  8.61812290e-03,  2.86922930e-03,\n",
       "        2.14394704e-02, -5.33558568e-06,  9.68727190e-03,  1.38560776e-02,\n",
       "        1.08663179e-02,  8.50221328e-03, -3.13557289e-03, -4.50453302e-03,\n",
       "        2.63955072e-02,  1.58029143e-02, -9.69878118e-03,  1.53920222e-02,\n",
       "        1.44099453e-02,  1.00778658e-02, -2.65406375e-03,  2.16396153e-03,\n",
       "        1.79333985e-02,  5.48519334e-03,  1.77875552e-02,  1.54160559e-02,\n",
       "        2.31468026e-03,  2.54488513e-02,  1.59284323e-02, -2.57964688e-03,\n",
       "        1.40880877e-02, -4.09358647e-03, -2.21094466e-03,  7.75619876e-03,\n",
       "        7.81160407e-03, -3.77716450e-03, -1.23761315e-03,  1.10695111e-02,\n",
       "       -9.14679188e-03,  5.65656053e-04,  6.08431641e-03, -9.08678956e-03,\n",
       "        1.80599149e-02,  2.43861414e-02,  9.31730587e-03, -1.56192679e-03,\n",
       "        1.53262075e-02, -1.17400475e-03,  1.61651745e-02, -1.76685338e-03,\n",
       "        3.10711592e-04,  9.44453385e-03,  1.26381908e-02, -4.81492432e-04,\n",
       "        6.54658815e-03,  6.34209393e-03,  7.93320313e-03,  7.02415081e-03,\n",
       "       -2.56475847e-04,  3.08650895e-03, -4.23322257e-04, -7.13686459e-04,\n",
       "        6.03418052e-03, -2.89605232e-03,  2.27134824e-02,  7.39441311e-04,\n",
       "        6.30563730e-03,  1.00942822e-02,  3.57047142e-03,  4.64700023e-03,\n",
       "       -5.30247763e-03, -3.37432208e-03,  5.46054449e-03,  1.83189511e-02,\n",
       "       -9.09527647e-04,  2.42591044e-03, -9.77416988e-03,  5.99634042e-03,\n",
       "        4.43144329e-03,  6.33851532e-03, -8.15353729e-03, -2.25193845e-03,\n",
       "        7.90885999e-04, -2.47802096e-03,  9.06830840e-03, -2.00795033e-03,\n",
       "        1.42137222e-02, -3.70102469e-03,  3.66931944e-03,  1.68650225e-02,\n",
       "        1.21821864e-02, -6.87201740e-03, -4.39776573e-03,  7.16504175e-03,\n",
       "        2.17219978e-03,  1.04168057e-02,  6.95406552e-03,  7.41561363e-03,\n",
       "        1.06935045e-02, -4.30910673e-04,  9.17281490e-03,  1.09681142e-02,\n",
       "        1.90592799e-02,  8.09408841e-04,  1.86362844e-02,  9.07216500e-03,\n",
       "        1.15818279e-02, -4.63575404e-03,  7.84740131e-03,  2.12675687e-02,\n",
       "        1.33585697e-02,  1.56309679e-02, -1.72866248e-02,  3.06456489e-03,\n",
       "        4.28079581e-03,  4.81834682e-03,  4.38700151e-03, -3.51454783e-03,\n",
       "        5.82336914e-03, -6.31271722e-03,  7.95157626e-03,  9.02406964e-03,\n",
       "        3.04041919e-03,  1.77166294e-02,  7.20016006e-03, -8.04103538e-03,\n",
       "        3.99791123e-03, -5.10196015e-03, -2.56356806e-03,  4.97858785e-03,\n",
       "        1.34953503e-02, -2.82070221e-04,  1.65221922e-03,  1.00171231e-02,\n",
       "        1.90995801e-02,  1.75388493e-02, -9.23191477e-03,  3.96398641e-03,\n",
       "        8.46347958e-03, -8.23933538e-03,  6.91669155e-03, -5.65451058e-03,\n",
       "       -6.23513805e-03, -1.00183962e-02,  2.44418345e-03,  5.55025600e-03,\n",
       "        2.26104003e-03,  1.87235121e-02,  1.60948727e-02,  4.23556287e-03,\n",
       "        1.17805954e-02, -3.10144480e-03,  2.79025477e-03,  7.98323657e-03,\n",
       "        8.77801969e-04, -4.52058361e-04,  9.69450828e-03,  2.06373222e-02,\n",
       "       -1.04889031e-02,  3.05753737e-03,  5.53123932e-03,  8.31880083e-04,\n",
       "        1.47955143e-03,  9.12247878e-03, -5.98978857e-03, -4.11360292e-03,\n",
       "        6.07445557e-03,  4.30125929e-03, -3.40538193e-03, -1.19856198e-03,\n",
       "        1.99903864e-02, -8.07565462e-04,  1.41318492e-03,  1.71980597e-02,\n",
       "       -3.14817089e-03,  3.28454422e-03,  1.18301203e-02,  1.58863980e-02,\n",
       "        7.70332190e-05,  2.14770134e-05,  1.67053938e-02,  1.12803346e-02,\n",
       "       -1.75245409e-03,  1.70689635e-02,  4.79044486e-03,  1.02973438e-03,\n",
       "        2.03250367e-02,  1.48765473e-02,  1.15573751e-02,  6.93128956e-03,\n",
       "       -7.14594871e-03,  1.98579654e-02,  5.24514075e-03, -8.31480836e-04,\n",
       "        6.81857904e-03, -9.41331964e-03,  8.23496934e-03, -1.72288826e-04,\n",
       "       -1.76282634e-03,  1.02121197e-02,  1.66859347e-02,  9.41801257e-03,\n",
       "        9.66014341e-03,  4.77688760e-03,  2.43537570e-03,  1.88714564e-02,\n",
       "       -4.52277804e-04, -6.94214087e-03,  5.84390806e-03, -8.95274524e-03,\n",
       "        7.39732699e-04,  1.87894329e-02,  8.96848273e-03,  1.79679580e-02,\n",
       "       -1.10950787e-02, -5.94035303e-03,  5.50358044e-03,  1.54614355e-02,\n",
       "        2.14307234e-02,  4.17170441e-03, -4.60677175e-03,  6.11185422e-03,\n",
       "        3.61382565e-03,  8.72224383e-03, -1.49107426e-02,  4.25256183e-03,\n",
       "        1.81986636e-03,  1.13159958e-02,  3.21712112e-03,  3.72009608e-03,\n",
       "        1.04230177e-02, -2.88128760e-03,  4.03607404e-03,  4.15264349e-03,\n",
       "        7.32370652e-03,  1.04552070e-02,  1.64562985e-02, -7.74232997e-03,\n",
       "        1.29815238e-02,  4.27646236e-03,  5.79188112e-03, -3.64731555e-03,\n",
       "       -7.96963833e-03,  1.16797034e-02, -3.34249577e-03,  5.93568385e-03,\n",
       "       -1.37096760e-03,  2.01713610e-02, -1.11797107e-02,  1.52168479e-02,\n",
       "        2.62613036e-03,  2.64427857e-03, -9.38439090e-03, -5.42566238e-04,\n",
       "       -7.30416086e-03, -2.47324235e-03, -4.17534960e-03,  1.32213114e-02,\n",
       "        5.16005652e-03,  1.50375906e-02,  1.13860359e-02, -3.36936122e-04,\n",
       "        6.48354460e-03,  9.64927394e-03,  1.25061786e-02,  6.27743127e-03],\n",
       "      dtype=float32)"
      ]
     },
     "execution_count": 114,
     "metadata": {},
     "output_type": "execute_result"
    }
   ],
   "source": [
    "chungking_Express_vector"
   ]
  },
  {
   "cell_type": "code",
   "execution_count": 115,
   "id": "9b324fe2",
   "metadata": {
    "scrolled": true
   },
   "outputs": [
    {
     "data": {
      "text/plain": [
       "0.42293596"
      ]
     },
     "execution_count": 115,
     "metadata": {},
     "output_type": "execute_result"
    }
   ],
   "source": [
    "np.dot(dy_vector, chungking_Express_vector)"
   ]
  },
  {
   "cell_type": "code",
   "execution_count": 116,
   "id": "e82c8a31",
   "metadata": {},
   "outputs": [
    {
     "data": {
      "text/plain": [
       "-0.011131025"
      ]
     },
     "execution_count": 116,
     "metadata": {},
     "output_type": "execute_result"
    }
   ],
   "source": [
    "Jumanji = movie_to_idx['Jumanji (1995)']\n",
    "Jumanji_vector = als_model.item_factors[Jumanji]\n",
    "np.dot(dy_vector, Jumanji_vector)"
   ]
  },
  {
   "cell_type": "code",
   "execution_count": 117,
   "id": "432fbeec",
   "metadata": {},
   "outputs": [
    {
     "data": {
      "text/plain": [
       "-0.016017193"
      ]
     },
     "execution_count": 117,
     "metadata": {},
     "output_type": "execute_result"
    }
   ],
   "source": [
    "Before_Sunrise = movie_to_idx['Before and After (1996)']\n",
    "Before_Sunrise_vector = als_model.item_factors[Before_Sunrise]\n",
    "np.dot(dy_vector, Before_Sunrise_vector)"
   ]
  },
  {
   "cell_type": "code",
   "execution_count": 118,
   "id": "5c4e61be",
   "metadata": {},
   "outputs": [
    {
     "data": {
      "text/plain": [
       "0.8118157"
      ]
     },
     "execution_count": 118,
     "metadata": {},
     "output_type": "execute_result"
    }
   ],
   "source": [
    "Notting_Hill = movie_to_idx['Notting Hill (1999)']\n",
    "Notting_Hill_vector = als_model.item_factors[Notting_Hill]\n",
    "np.dot(dy_vector, Notting_Hill_vector)"
   ]
  },
  {
   "cell_type": "code",
   "execution_count": 119,
   "id": "4e8236d6",
   "metadata": {},
   "outputs": [
    {
     "data": {
      "text/plain": [
       "0.009772317"
      ]
     },
     "execution_count": 119,
     "metadata": {},
     "output_type": "execute_result"
    }
   ],
   "source": [
    "Raise_the_Titanic = movie_to_idx['Raise the Titanic (1980)']\n",
    "Raise_the_Titanic_vector = als_model.item_factors[Raise_the_Titanic]\n",
    "np.dot(dy_vector, Raise_the_Titanic_vector)"
   ]
  },
  {
   "cell_type": "markdown",
   "id": "1d0a19ff",
   "metadata": {},
   "source": [
    "## Similar Artist Recommendation"
   ]
  },
  {
   "cell_type": "code",
   "execution_count": 120,
   "id": "9062a094",
   "metadata": {},
   "outputs": [],
   "source": [
    "def get_similar_movie(movie_name: str):\n",
    "    movie_id = movie_to_idx[movie_name]\n",
    "    idx_to_movie = {v:k for k,v in movie_to_idx.items()}\n",
    "    similar_movie = als_model.similar_items(movie_id)\n",
    "    similar_movie = [idx_to_movie[i[0]] for i in similar_movie]\n",
    "    return similar_movie"
   ]
  },
  {
   "cell_type": "code",
   "execution_count": 121,
   "id": "fd69c61e",
   "metadata": {},
   "outputs": [
    {
     "data": {
      "text/plain": [
       "['Toy Story 2 (1999)',\n",
       " 'Toy Story (1995)',\n",
       " 'Tigger Movie, The (2000)',\n",
       " 'Careful (1992)',\n",
       " 'Couch in New York, A (1996)',\n",
       " 'Amityville Curse, The (1990)',\n",
       " \"Pot O' Gold (1941)\",\n",
       " 'Nosferatu a Venezia (1986)',\n",
       " 'Digimon: The Movie (2000)',\n",
       " 'Vie est belle, La (Life is Rosey) (1987)']"
      ]
     },
     "execution_count": 121,
     "metadata": {},
     "output_type": "execute_result"
    }
   ],
   "source": [
    "get_similar_movie('Toy Story 2 (1999)')"
   ]
  },
  {
   "cell_type": "code",
   "execution_count": 122,
   "id": "4266074c",
   "metadata": {},
   "outputs": [
    {
     "data": {
      "text/plain": [
       "['Chungking Express (1994)',\n",
       " \"Ed's Next Move (1996)\",\n",
       " 'Ashes of Time (1994)',\n",
       " 'Hurricane Streets (1998)',\n",
       " 'Gate of Heavenly Peace, The (1995)',\n",
       " 'Aiqing wansui (1994)',\n",
       " 'Zachariah (1971)',\n",
       " 'Cement Garden, The (1993)',\n",
       " 'Master Ninja I (1984)',\n",
       " 'Mirage (1995)']"
      ]
     },
     "execution_count": 122,
     "metadata": {},
     "output_type": "execute_result"
    }
   ],
   "source": [
    "get_similar_movie('Chungking Express (1994)')"
   ]
  },
  {
   "cell_type": "code",
   "execution_count": 123,
   "id": "2c40ec83",
   "metadata": {},
   "outputs": [
    {
     "data": {
      "text/plain": [
       "['Titanic (1997)',\n",
       " 'Walking Dead, The (1995)',\n",
       " 'Paris, France (1993)',\n",
       " 'Falling in Love Again (1980)',\n",
       " 'Gay Deceivers, The (1969)',\n",
       " 'Held Up (2000)',\n",
       " 'Stranger in the House (1997)',\n",
       " 'Carnosaur 2 (1995)',\n",
       " 'Jerry & Tom (1998)',\n",
       " 'Savior (1998)']"
      ]
     },
     "execution_count": 123,
     "metadata": {},
     "output_type": "execute_result"
    }
   ],
   "source": [
    "get_similar_movie('Titanic (1997)')"
   ]
  },
  {
   "cell_type": "code",
   "execution_count": 124,
   "id": "0a0fb72e",
   "metadata": {},
   "outputs": [
    {
     "data": {
      "text/plain": [
       "['Meet Joe Black (1998)',\n",
       " \"Barney's Great Adventure (1998)\",\n",
       " 'Grandfather, The (El Abuelo) (1998)',\n",
       " 'Callejón de los milagros, El (1995)',\n",
       " 'Temptress Moon (Feng Yue) (1996)',\n",
       " \"Let's Talk About Sex (1998)\",\n",
       " 'Oxygen (1999)',\n",
       " 'Race the Sun (1996)',\n",
       " 'Tarzan and the Lost City (1998)',\n",
       " 'Mirage (1995)']"
      ]
     },
     "execution_count": 124,
     "metadata": {},
     "output_type": "execute_result"
    }
   ],
   "source": [
    "get_similar_movie('Meet Joe Black (1998)')"
   ]
  },
  {
   "cell_type": "markdown",
   "id": "bc061ccc",
   "metadata": {},
   "source": [
    "# Retrospective"
   ]
  },
  {
   "cell_type": "markdown",
   "id": "50b3daa1",
   "metadata": {},
   "source": [
    "처음 validation을 위한 my_playlist에 장르가 무작위인 영화를 설정 후\n",
    "counts를 5로 설정하였음에도 user_vactor와 movie_vactor의 내적이 0.1점대로 낮은 점수가 나왔었는데\n",
    "\n",
    "my_playlist에 장르를 통일 후 \n",
    "Model의 Hyperparameter 중 factors, iterations를 높여 학습하니 my_playlist에 있는 영화는 0.42,0.81로 다른 영화보다 높게 나온 것을 확인할 수 있었다.\n",
    "\n",
    "similar movie recommendation도 확인하였을 때 장르가 같거나 같은 국적의 영화를 추천해주어\n",
    "간단하지만 효과적인 것으로 보여진다."
   ]
  },
  {
   "cell_type": "code",
   "execution_count": null,
   "id": "94e5494b",
   "metadata": {},
   "outputs": [],
   "source": []
  }
 ],
 "metadata": {
  "kernelspec": {
   "display_name": "Python 3 (ipykernel)",
   "language": "python",
   "name": "python3"
  },
  "language_info": {
   "codemirror_mode": {
    "name": "ipython",
    "version": 3
   },
   "file_extension": ".py",
   "mimetype": "text/x-python",
   "name": "python",
   "nbconvert_exporter": "python",
   "pygments_lexer": "ipython3",
   "version": "3.9.7"
  }
 },
 "nbformat": 4,
 "nbformat_minor": 5
}
