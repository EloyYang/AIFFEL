{
  "cells": [
    {
      "cell_type": "markdown",
      "id": "e291d328",
      "metadata": {
        "id": "e291d328"
      },
      "source": [
        "## 라이브러리 로드"
      ]
    },
    {
      "cell_type": "code",
      "execution_count": 1,
      "id": "e20112ed",
      "metadata": {
        "id": "e20112ed"
      },
      "outputs": [],
      "source": [
        "import pandas as pd\n",
        "import numpy as np\n",
        "import matplotlib.pyplot as plt\n",
        "import seaborn as sns"
      ]
    },
    {
      "cell_type": "code",
      "execution_count": 2,
      "id": "4f082eeb",
      "metadata": {
        "id": "4f082eeb",
        "colab": {
          "base_uri": "https://localhost:8080/"
        },
        "outputId": "43d12bee-2479-442a-d348-21167efc0204"
      },
      "outputs": [
        {
          "output_type": "stream",
          "name": "stdout",
          "text": [
            "Requirement already satisfied: koreanize-matplotlib in /usr/local/lib/python3.10/dist-packages (0.1.1)\n",
            "Requirement already satisfied: matplotlib in /usr/local/lib/python3.10/dist-packages (from koreanize-matplotlib) (3.7.1)\n",
            "Requirement already satisfied: contourpy>=1.0.1 in /usr/local/lib/python3.10/dist-packages (from matplotlib->koreanize-matplotlib) (1.2.0)\n",
            "Requirement already satisfied: cycler>=0.10 in /usr/local/lib/python3.10/dist-packages (from matplotlib->koreanize-matplotlib) (0.12.1)\n",
            "Requirement already satisfied: fonttools>=4.22.0 in /usr/local/lib/python3.10/dist-packages (from matplotlib->koreanize-matplotlib) (4.47.2)\n",
            "Requirement already satisfied: kiwisolver>=1.0.1 in /usr/local/lib/python3.10/dist-packages (from matplotlib->koreanize-matplotlib) (1.4.5)\n",
            "Requirement already satisfied: numpy>=1.20 in /usr/local/lib/python3.10/dist-packages (from matplotlib->koreanize-matplotlib) (1.23.5)\n",
            "Requirement already satisfied: packaging>=20.0 in /usr/local/lib/python3.10/dist-packages (from matplotlib->koreanize-matplotlib) (23.2)\n",
            "Requirement already satisfied: pillow>=6.2.0 in /usr/local/lib/python3.10/dist-packages (from matplotlib->koreanize-matplotlib) (9.4.0)\n",
            "Requirement already satisfied: pyparsing>=2.3.1 in /usr/local/lib/python3.10/dist-packages (from matplotlib->koreanize-matplotlib) (3.1.1)\n",
            "Requirement already satisfied: python-dateutil>=2.7 in /usr/local/lib/python3.10/dist-packages (from matplotlib->koreanize-matplotlib) (2.8.2)\n",
            "Requirement already satisfied: six>=1.5 in /usr/local/lib/python3.10/dist-packages (from python-dateutil>=2.7->matplotlib->koreanize-matplotlib) (1.16.0)\n"
          ]
        }
      ],
      "source": [
        "!pip install koreanize-matplotlib\n",
        "import koreanize_matplotlib\n",
        "\n",
        "%config InlineBackend.figure_format = 'retina'"
      ]
    },
    {
      "cell_type": "markdown",
      "id": "7ed3b0b0",
      "metadata": {
        "id": "7ed3b0b0"
      },
      "source": [
        "## 데이터 로드"
      ]
    },
    {
      "cell_type": "code",
      "execution_count": 3,
      "id": "c97514e9",
      "metadata": {
        "id": "c97514e9",
        "colab": {
          "base_uri": "https://localhost:8080/"
        },
        "outputId": "5c1a922d-904e-4f4e-d486-7ebc4292d57b"
      },
      "outputs": [
        {
          "output_type": "execute_result",
          "data": {
            "text/plain": [
              "(541909, 8)"
            ]
          },
          "metadata": {},
          "execution_count": 3
        }
      ],
      "source": [
        "df = pd.read_parquet(\"https://github.com/corazzon/KaggleStruggle/raw/master/online-retail/data/online_retail.gzip\")\n",
        "df.shape"
      ]
    },
    {
      "cell_type": "code",
      "execution_count": 4,
      "id": "61bdf4ee",
      "metadata": {
        "id": "61bdf4ee"
      },
      "outputs": [],
      "source": [
        "# 주문 날짜 데이터 전처리\n",
        "df[\"InvoiceDate\"] = pd.to_datetime(df[\"InvoiceDate\"].astype(str))\n",
        "df[\"InvoiceMonth\"] = df[\"InvoiceDate\"].dt.month"
      ]
    },
    {
      "cell_type": "code",
      "execution_count": 5,
      "id": "4ef99d85",
      "metadata": {
        "id": "4ef99d85"
      },
      "outputs": [],
      "source": [
        "# 주문 취소 건 제외\n",
        "df = df[df[\"UnitPrice\"] > 0].copy()\n",
        "df = df[df[\"Quantity\"] > 0].copy()"
      ]
    },
    {
      "cell_type": "code",
      "execution_count": 6,
      "id": "0138ca41",
      "metadata": {
        "id": "0138ca41",
        "colab": {
          "base_uri": "https://localhost:8080/",
          "height": 206
        },
        "outputId": "714da890-42eb-4d9a-f633-2342adf710ba"
      },
      "outputs": [
        {
          "output_type": "execute_result",
          "data": {
            "text/plain": [
              "  InvoiceNo StockCode                          Description  Quantity  \\\n",
              "0    536365    85123A   WHITE HANGING HEART T-LIGHT HOLDER         6   \n",
              "1    536365     71053                  WHITE METAL LANTERN         6   \n",
              "2    536365    84406B       CREAM CUPID HEARTS COAT HANGER         8   \n",
              "3    536365    84029G  KNITTED UNION FLAG HOT WATER BOTTLE         6   \n",
              "4    536365    84029E       RED WOOLLY HOTTIE WHITE HEART.         6   \n",
              "\n",
              "          InvoiceDate  UnitPrice  CustomerID         Country  InvoiceMonth  \\\n",
              "0 2010-12-01 08:26:00       2.55     17850.0  United Kingdom            12   \n",
              "1 2010-12-01 08:26:00       3.39     17850.0  United Kingdom            12   \n",
              "2 2010-12-01 08:26:00       2.75     17850.0  United Kingdom            12   \n",
              "3 2010-12-01 08:26:00       3.39     17850.0  United Kingdom            12   \n",
              "4 2010-12-01 08:26:00       3.39     17850.0  United Kingdom            12   \n",
              "\n",
              "   TotalPrice  \n",
              "0       15.30  \n",
              "1       20.34  \n",
              "2       22.00  \n",
              "3       20.34  \n",
              "4       20.34  "
            ],
            "text/html": [
              "\n",
              "  <div id=\"df-f7694457-26f0-43bf-98e9-b333fc7c3493\" class=\"colab-df-container\">\n",
              "    <div>\n",
              "<style scoped>\n",
              "    .dataframe tbody tr th:only-of-type {\n",
              "        vertical-align: middle;\n",
              "    }\n",
              "\n",
              "    .dataframe tbody tr th {\n",
              "        vertical-align: top;\n",
              "    }\n",
              "\n",
              "    .dataframe thead th {\n",
              "        text-align: right;\n",
              "    }\n",
              "</style>\n",
              "<table border=\"1\" class=\"dataframe\">\n",
              "  <thead>\n",
              "    <tr style=\"text-align: right;\">\n",
              "      <th></th>\n",
              "      <th>InvoiceNo</th>\n",
              "      <th>StockCode</th>\n",
              "      <th>Description</th>\n",
              "      <th>Quantity</th>\n",
              "      <th>InvoiceDate</th>\n",
              "      <th>UnitPrice</th>\n",
              "      <th>CustomerID</th>\n",
              "      <th>Country</th>\n",
              "      <th>InvoiceMonth</th>\n",
              "      <th>TotalPrice</th>\n",
              "    </tr>\n",
              "  </thead>\n",
              "  <tbody>\n",
              "    <tr>\n",
              "      <th>0</th>\n",
              "      <td>536365</td>\n",
              "      <td>85123A</td>\n",
              "      <td>WHITE HANGING HEART T-LIGHT HOLDER</td>\n",
              "      <td>6</td>\n",
              "      <td>2010-12-01 08:26:00</td>\n",
              "      <td>2.55</td>\n",
              "      <td>17850.0</td>\n",
              "      <td>United Kingdom</td>\n",
              "      <td>12</td>\n",
              "      <td>15.30</td>\n",
              "    </tr>\n",
              "    <tr>\n",
              "      <th>1</th>\n",
              "      <td>536365</td>\n",
              "      <td>71053</td>\n",
              "      <td>WHITE METAL LANTERN</td>\n",
              "      <td>6</td>\n",
              "      <td>2010-12-01 08:26:00</td>\n",
              "      <td>3.39</td>\n",
              "      <td>17850.0</td>\n",
              "      <td>United Kingdom</td>\n",
              "      <td>12</td>\n",
              "      <td>20.34</td>\n",
              "    </tr>\n",
              "    <tr>\n",
              "      <th>2</th>\n",
              "      <td>536365</td>\n",
              "      <td>84406B</td>\n",
              "      <td>CREAM CUPID HEARTS COAT HANGER</td>\n",
              "      <td>8</td>\n",
              "      <td>2010-12-01 08:26:00</td>\n",
              "      <td>2.75</td>\n",
              "      <td>17850.0</td>\n",
              "      <td>United Kingdom</td>\n",
              "      <td>12</td>\n",
              "      <td>22.00</td>\n",
              "    </tr>\n",
              "    <tr>\n",
              "      <th>3</th>\n",
              "      <td>536365</td>\n",
              "      <td>84029G</td>\n",
              "      <td>KNITTED UNION FLAG HOT WATER BOTTLE</td>\n",
              "      <td>6</td>\n",
              "      <td>2010-12-01 08:26:00</td>\n",
              "      <td>3.39</td>\n",
              "      <td>17850.0</td>\n",
              "      <td>United Kingdom</td>\n",
              "      <td>12</td>\n",
              "      <td>20.34</td>\n",
              "    </tr>\n",
              "    <tr>\n",
              "      <th>4</th>\n",
              "      <td>536365</td>\n",
              "      <td>84029E</td>\n",
              "      <td>RED WOOLLY HOTTIE WHITE HEART.</td>\n",
              "      <td>6</td>\n",
              "      <td>2010-12-01 08:26:00</td>\n",
              "      <td>3.39</td>\n",
              "      <td>17850.0</td>\n",
              "      <td>United Kingdom</td>\n",
              "      <td>12</td>\n",
              "      <td>20.34</td>\n",
              "    </tr>\n",
              "  </tbody>\n",
              "</table>\n",
              "</div>\n",
              "    <div class=\"colab-df-buttons\">\n",
              "\n",
              "  <div class=\"colab-df-container\">\n",
              "    <button class=\"colab-df-convert\" onclick=\"convertToInteractive('df-f7694457-26f0-43bf-98e9-b333fc7c3493')\"\n",
              "            title=\"Convert this dataframe to an interactive table.\"\n",
              "            style=\"display:none;\">\n",
              "\n",
              "  <svg xmlns=\"http://www.w3.org/2000/svg\" height=\"24px\" viewBox=\"0 -960 960 960\">\n",
              "    <path d=\"M120-120v-720h720v720H120Zm60-500h600v-160H180v160Zm220 220h160v-160H400v160Zm0 220h160v-160H400v160ZM180-400h160v-160H180v160Zm440 0h160v-160H620v160ZM180-180h160v-160H180v160Zm440 0h160v-160H620v160Z\"/>\n",
              "  </svg>\n",
              "    </button>\n",
              "\n",
              "  <style>\n",
              "    .colab-df-container {\n",
              "      display:flex;\n",
              "      gap: 12px;\n",
              "    }\n",
              "\n",
              "    .colab-df-convert {\n",
              "      background-color: #E8F0FE;\n",
              "      border: none;\n",
              "      border-radius: 50%;\n",
              "      cursor: pointer;\n",
              "      display: none;\n",
              "      fill: #1967D2;\n",
              "      height: 32px;\n",
              "      padding: 0 0 0 0;\n",
              "      width: 32px;\n",
              "    }\n",
              "\n",
              "    .colab-df-convert:hover {\n",
              "      background-color: #E2EBFA;\n",
              "      box-shadow: 0px 1px 2px rgba(60, 64, 67, 0.3), 0px 1px 3px 1px rgba(60, 64, 67, 0.15);\n",
              "      fill: #174EA6;\n",
              "    }\n",
              "\n",
              "    .colab-df-buttons div {\n",
              "      margin-bottom: 4px;\n",
              "    }\n",
              "\n",
              "    [theme=dark] .colab-df-convert {\n",
              "      background-color: #3B4455;\n",
              "      fill: #D2E3FC;\n",
              "    }\n",
              "\n",
              "    [theme=dark] .colab-df-convert:hover {\n",
              "      background-color: #434B5C;\n",
              "      box-shadow: 0px 1px 3px 1px rgba(0, 0, 0, 0.15);\n",
              "      filter: drop-shadow(0px 1px 2px rgba(0, 0, 0, 0.3));\n",
              "      fill: #FFFFFF;\n",
              "    }\n",
              "  </style>\n",
              "\n",
              "    <script>\n",
              "      const buttonEl =\n",
              "        document.querySelector('#df-f7694457-26f0-43bf-98e9-b333fc7c3493 button.colab-df-convert');\n",
              "      buttonEl.style.display =\n",
              "        google.colab.kernel.accessAllowed ? 'block' : 'none';\n",
              "\n",
              "      async function convertToInteractive(key) {\n",
              "        const element = document.querySelector('#df-f7694457-26f0-43bf-98e9-b333fc7c3493');\n",
              "        const dataTable =\n",
              "          await google.colab.kernel.invokeFunction('convertToInteractive',\n",
              "                                                    [key], {});\n",
              "        if (!dataTable) return;\n",
              "\n",
              "        const docLinkHtml = 'Like what you see? Visit the ' +\n",
              "          '<a target=\"_blank\" href=https://colab.research.google.com/notebooks/data_table.ipynb>data table notebook</a>'\n",
              "          + ' to learn more about interactive tables.';\n",
              "        element.innerHTML = '';\n",
              "        dataTable['output_type'] = 'display_data';\n",
              "        await google.colab.output.renderOutput(dataTable, element);\n",
              "        const docLink = document.createElement('div');\n",
              "        docLink.innerHTML = docLinkHtml;\n",
              "        element.appendChild(docLink);\n",
              "      }\n",
              "    </script>\n",
              "  </div>\n",
              "\n",
              "\n",
              "<div id=\"df-72451b82-6a0e-4c70-b313-6fa5aa332ad7\">\n",
              "  <button class=\"colab-df-quickchart\" onclick=\"quickchart('df-72451b82-6a0e-4c70-b313-6fa5aa332ad7')\"\n",
              "            title=\"Suggest charts\"\n",
              "            style=\"display:none;\">\n",
              "\n",
              "<svg xmlns=\"http://www.w3.org/2000/svg\" height=\"24px\"viewBox=\"0 0 24 24\"\n",
              "     width=\"24px\">\n",
              "    <g>\n",
              "        <path d=\"M19 3H5c-1.1 0-2 .9-2 2v14c0 1.1.9 2 2 2h14c1.1 0 2-.9 2-2V5c0-1.1-.9-2-2-2zM9 17H7v-7h2v7zm4 0h-2V7h2v10zm4 0h-2v-4h2v4z\"/>\n",
              "    </g>\n",
              "</svg>\n",
              "  </button>\n",
              "\n",
              "<style>\n",
              "  .colab-df-quickchart {\n",
              "      --bg-color: #E8F0FE;\n",
              "      --fill-color: #1967D2;\n",
              "      --hover-bg-color: #E2EBFA;\n",
              "      --hover-fill-color: #174EA6;\n",
              "      --disabled-fill-color: #AAA;\n",
              "      --disabled-bg-color: #DDD;\n",
              "  }\n",
              "\n",
              "  [theme=dark] .colab-df-quickchart {\n",
              "      --bg-color: #3B4455;\n",
              "      --fill-color: #D2E3FC;\n",
              "      --hover-bg-color: #434B5C;\n",
              "      --hover-fill-color: #FFFFFF;\n",
              "      --disabled-bg-color: #3B4455;\n",
              "      --disabled-fill-color: #666;\n",
              "  }\n",
              "\n",
              "  .colab-df-quickchart {\n",
              "    background-color: var(--bg-color);\n",
              "    border: none;\n",
              "    border-radius: 50%;\n",
              "    cursor: pointer;\n",
              "    display: none;\n",
              "    fill: var(--fill-color);\n",
              "    height: 32px;\n",
              "    padding: 0;\n",
              "    width: 32px;\n",
              "  }\n",
              "\n",
              "  .colab-df-quickchart:hover {\n",
              "    background-color: var(--hover-bg-color);\n",
              "    box-shadow: 0 1px 2px rgba(60, 64, 67, 0.3), 0 1px 3px 1px rgba(60, 64, 67, 0.15);\n",
              "    fill: var(--button-hover-fill-color);\n",
              "  }\n",
              "\n",
              "  .colab-df-quickchart-complete:disabled,\n",
              "  .colab-df-quickchart-complete:disabled:hover {\n",
              "    background-color: var(--disabled-bg-color);\n",
              "    fill: var(--disabled-fill-color);\n",
              "    box-shadow: none;\n",
              "  }\n",
              "\n",
              "  .colab-df-spinner {\n",
              "    border: 2px solid var(--fill-color);\n",
              "    border-color: transparent;\n",
              "    border-bottom-color: var(--fill-color);\n",
              "    animation:\n",
              "      spin 1s steps(1) infinite;\n",
              "  }\n",
              "\n",
              "  @keyframes spin {\n",
              "    0% {\n",
              "      border-color: transparent;\n",
              "      border-bottom-color: var(--fill-color);\n",
              "      border-left-color: var(--fill-color);\n",
              "    }\n",
              "    20% {\n",
              "      border-color: transparent;\n",
              "      border-left-color: var(--fill-color);\n",
              "      border-top-color: var(--fill-color);\n",
              "    }\n",
              "    30% {\n",
              "      border-color: transparent;\n",
              "      border-left-color: var(--fill-color);\n",
              "      border-top-color: var(--fill-color);\n",
              "      border-right-color: var(--fill-color);\n",
              "    }\n",
              "    40% {\n",
              "      border-color: transparent;\n",
              "      border-right-color: var(--fill-color);\n",
              "      border-top-color: var(--fill-color);\n",
              "    }\n",
              "    60% {\n",
              "      border-color: transparent;\n",
              "      border-right-color: var(--fill-color);\n",
              "    }\n",
              "    80% {\n",
              "      border-color: transparent;\n",
              "      border-right-color: var(--fill-color);\n",
              "      border-bottom-color: var(--fill-color);\n",
              "    }\n",
              "    90% {\n",
              "      border-color: transparent;\n",
              "      border-bottom-color: var(--fill-color);\n",
              "    }\n",
              "  }\n",
              "</style>\n",
              "\n",
              "  <script>\n",
              "    async function quickchart(key) {\n",
              "      const quickchartButtonEl =\n",
              "        document.querySelector('#' + key + ' button');\n",
              "      quickchartButtonEl.disabled = true;  // To prevent multiple clicks.\n",
              "      quickchartButtonEl.classList.add('colab-df-spinner');\n",
              "      try {\n",
              "        const charts = await google.colab.kernel.invokeFunction(\n",
              "            'suggestCharts', [key], {});\n",
              "      } catch (error) {\n",
              "        console.error('Error during call to suggestCharts:', error);\n",
              "      }\n",
              "      quickchartButtonEl.classList.remove('colab-df-spinner');\n",
              "      quickchartButtonEl.classList.add('colab-df-quickchart-complete');\n",
              "    }\n",
              "    (() => {\n",
              "      let quickchartButtonEl =\n",
              "        document.querySelector('#df-72451b82-6a0e-4c70-b313-6fa5aa332ad7 button');\n",
              "      quickchartButtonEl.style.display =\n",
              "        google.colab.kernel.accessAllowed ? 'block' : 'none';\n",
              "    })();\n",
              "  </script>\n",
              "</div>\n",
              "\n",
              "    </div>\n",
              "  </div>\n"
            ]
          },
          "metadata": {},
          "execution_count": 6
        }
      ],
      "source": [
        "# 주문 가격\n",
        "df[\"TotalPrice\"] = df[\"Quantity\"] * df[\"UnitPrice\"]\n",
        "df.head()"
      ]
    },
    {
      "cell_type": "code",
      "execution_count": 7,
      "id": "1468e180",
      "metadata": {
        "id": "1468e180"
      },
      "outputs": [],
      "source": [
        "# 데이터 타입 변경\n",
        "\n",
        "df[\"Country\"] = df[\"Country\"].astype(str)"
      ]
    },
    {
      "cell_type": "code",
      "execution_count": 8,
      "id": "5f288c34",
      "metadata": {
        "id": "5f288c34",
        "colab": {
          "base_uri": "https://localhost:8080/"
        },
        "outputId": "ad2c7645-83bd-4729-f01f-e892aa822002"
      },
      "outputs": [
        {
          "output_type": "stream",
          "name": "stdout",
          "text": [
            "<class 'pandas.core.frame.DataFrame'>\n",
            "Int64Index: 530104 entries, 0 to 541908\n",
            "Data columns (total 10 columns):\n",
            " #   Column        Non-Null Count   Dtype         \n",
            "---  ------        --------------   -----         \n",
            " 0   InvoiceNo     530104 non-null  category      \n",
            " 1   StockCode     530104 non-null  category      \n",
            " 2   Description   530104 non-null  category      \n",
            " 3   Quantity      530104 non-null  int32         \n",
            " 4   InvoiceDate   530104 non-null  datetime64[ns]\n",
            " 5   UnitPrice     530104 non-null  float64       \n",
            " 6   CustomerID    397884 non-null  float32       \n",
            " 7   Country       530104 non-null  object        \n",
            " 8   InvoiceMonth  530104 non-null  int64         \n",
            " 9   TotalPrice    530104 non-null  float64       \n",
            "dtypes: category(3), datetime64[ns](1), float32(1), float64(2), int32(1), int64(1), object(1)\n",
            "memory usage: 32.9+ MB\n"
          ]
        }
      ],
      "source": [
        "df.info()"
      ]
    },
    {
      "cell_type": "markdown",
      "id": "6e79fd70",
      "metadata": {
        "id": "6e79fd70"
      },
      "source": [
        "\n",
        "## 미션1) 심슨의 역설을 설명하기 위한 구체적인 분석을 다음의 순서로 진행해 주세요.\n",
        "\n",
        "심슨의 역설(Simpson's Paradox)은 통계 데이터를 해석할 때 발생할 수 있는 현상으로, 일부 하위 그룹에서 관찰된 추세가 전체 데이터를 합쳤을 때 반전될 수 있음을 나타냅니다. 이 현상은 복잡한 데이터에서 하위 그룹 간에 상이한 분포나 크기 때문에 발생할 수 있습니다.\n",
        "\n",
        "심슨의 역설을 설명하기 위해서는, 데이터 내에서 서로 상반된 추세를 보이는 하위 그룹을 찾거나 생성해야 합니다. 예를 들어, 특정 상품의 판매량이나 단가가 국가별로 다른 추세를 보이는지, 혹은 특정 기간 동안의 판매 추세가 전체 기간 동안의 추세와 다른지 등을 분석할 수 있습니다.\n",
        "\n",
        "데이터를 제시한 특정 국가로 하위 그룹으로 나눕니다.\n",
        "각 하위 그룹에서 총 판매금액의 추세를 분석합니다.\n",
        "전체 데이터셋에 대해 동일한 지표를 분석합니다.\n",
        "하위 그룹의 추세와 전체 데이터의 추세가 서로 다른 방향성을 보일 경우, 이를 통해 심슨의 역설을 설명합니다.\n",
        "이러한 분석을 위해, 데이터 내에서 적절한 변수와 하위 그룹을 선정하는 것이 중요합니다. 현재 제공된 데이터만으로는 심슨의 역설을 바로 설명할 수 있는 명확한 예시를 찾기 어려울 수 있지만, 데이터를 깊이 분석하면 관련 현상을 발견할 수도 있습니다.\n",
        "다음 국가에 대해 상관계수를 구하고 seaborn 의 lmplot을 사용하여 시각화 하고 심슨의 역설을 설명할 수 있는지 분석해 주세요.\n",
        "또, 이를 비즈니스에 어떻게 활용할 수 있을지도 설명해 주세요.\n",
        "\n",
        "```python\n",
        "country_group = [\"Japan\", \"Hong Kong\", \"Singapore\", \"Lebanon\", \"Canada\", \"USA\"]\n",
        "```\n",
        "\n",
        "\n",
        "* 슬라이드 자료에서 \"심슨의 역설\"을 찾아주세요."
      ]
    },
    {
      "cell_type": "code",
      "execution_count": 9,
      "id": "95d64749",
      "metadata": {
        "scrolled": false,
        "id": "95d64749"
      },
      "outputs": [],
      "source": [
        "# 심슨의 역설을 확인할 그룹\n",
        "country_group = [\"Japan\", \"Hong Kong\", \"Singapore\", \"Lebanon\", \"Canada\", \"USA\"]"
      ]
    },
    {
      "cell_type": "code",
      "execution_count": 10,
      "id": "5b9074f4",
      "metadata": {
        "id": "5b9074f4",
        "colab": {
          "base_uri": "https://localhost:8080/"
        },
        "outputId": "f47b0994-7f65-43e0-bced-2e90b94804d3"
      },
      "outputs": [
        {
          "output_type": "execute_result",
          "data": {
            "text/plain": [
              "United Kingdom          485123\n",
              "Germany                   9040\n",
              "France                    8407\n",
              "EIRE                      7890\n",
              "Spain                     2484\n",
              "Netherlands               2359\n",
              "Belgium                   2031\n",
              "Switzerland               1966\n",
              "Portugal                  1501\n",
              "all                       1202\n",
              "Australia                 1182\n",
              "Norway                    1071\n",
              "Italy                      758\n",
              "Channel Islands            748\n",
              "Finland                    685\n",
              "Cyprus                     614\n",
              "Sweden                     451\n",
              "Unspecified                446\n",
              "Austria                    398\n",
              "Denmark                    380\n",
              "Poland                     330\n",
              "Japan                      321\n",
              "Israel                     295\n",
              "Hong Kong                  284\n",
              "Singapore                  222\n",
              "Iceland                    182\n",
              "USA                        179\n",
              "Canada                     151\n",
              "Greece                     145\n",
              "Malta                      112\n",
              "United Arab Emirates        68\n",
              "European Community          60\n",
              "RSA                         57\n",
              "Lebanon                     45\n",
              "Lithuania                   35\n",
              "Brazil                      32\n",
              "Czech Republic              25\n",
              "Bahrain                     18\n",
              "Saudi Arabia                 9\n",
              "Name: Country, dtype: int64"
            ]
          },
          "metadata": {},
          "execution_count": 10
        }
      ],
      "source": [
        "#나라 : all 추가\n",
        "country_all = df[df['Country'].isin(country_group)].copy()\n",
        "country_all[\"Country\"] = \"all\"\n",
        "df_all = pd.concat([country_all, df])\n",
        "df_all[\"Country\"].value_counts()"
      ]
    },
    {
      "cell_type": "code",
      "source": [
        "#필터링할 나라 + all을 country_group1에 재할당\n",
        "country_group1 = [\"Japan\", \"Hong Kong\", \"Singapore\", \"Lebanon\", \"Canada\", \"USA\", 'all']\n",
        "\n",
        "country_filtered = df_all[df_all['Country'].isin(country_group1)].copy()"
      ],
      "metadata": {
        "id": "DkWUh5Q-dMbK"
      },
      "id": "DkWUh5Q-dMbK",
      "execution_count": 11,
      "outputs": []
    },
    {
      "cell_type": "code",
      "execution_count": 12,
      "id": "d4cd5150",
      "metadata": {
        "id": "d4cd5150",
        "colab": {
          "base_uri": "https://localhost:8080/",
          "height": 524
        },
        "outputId": "75ae005e-0c4a-4a52-9906-f6dc8ae1b13d"
      },
      "outputs": [
        {
          "output_type": "execute_result",
          "data": {
            "text/plain": [
              "<seaborn.axisgrid.FacetGrid at 0x7b6f371f5e10>"
            ]
          },
          "metadata": {},
          "execution_count": 12
        },
        {
          "output_type": "display_data",
          "data": {
            "text/plain": [
              "<Figure size 623.5x500 with 1 Axes>"
            ],
            "image/png": "[encoded data removed]"
          },
          "metadata": {
            "image/png": {
              "width": 602,
              "height": 490
            }
          }
        }
      ],
      "source": [
        "# 시각화\n",
        "sns.lmplot(data=country_filtered, x=\"TotalPrice\", y=\"UnitPrice\", hue=\"Country\")"
      ]
    },
    {
      "cell_type": "markdown",
      "source": [
        "시각화를 하여 'UnitPrice' 와 'TotalPrice'의 상관관계를 확인하였을 때 <br/>\n",
        "전체적으로 물품의 가격이 올라갈수록 전체 판매량이 늘어나지만 일본은 예외로 물품의 가격이 올라갈수록 판매량이 낮아지는 것이 확인되어 일본은 다른 나라들과 다른 비지니스 전략을 세워야 할 것으로 보여집니다."
      ],
      "metadata": {
        "id": "5Dsk5f5UiSmY"
      },
      "id": "5Dsk5f5UiSmY"
    },
    {
      "cell_type": "markdown",
      "id": "dba41219",
      "metadata": {
        "id": "dba41219"
      },
      "source": [
        "## 미션2) 상품의 단가와 총 판매액의 관계를 분석해 주세요.\n",
        "\n",
        "상품의 단가가 총 판매액에 미치는 영향을 이해하고 예측하는 것입니다. 이 분석은 가격 결정 전략을 개선하고, 수익성을 최대화하기 위해 사용될 수 있습니다.\n",
        "높은 단가의 상품이 더 많은 총 판매액을 생성할 것이라는 가설을 설정합니다.\n",
        "\n",
        "1) 데이터 전처리: 필요한 데이터를 정리하고, 결측치를 제거합니다.\\\n",
        "2) 단순 회귀분석: 단가(UnitPrice)를 독립변수로, 총 판매액(TotalSales)을 종속변수로 설정하여 회귀분석을 수행합니다.\\\n",
        "3) 결과 해석: 회귀계수와 결정계수를 분석하여 상품 가격과 총 판매액 사이의 관계를 해석합니다."
      ]
    },
    {
      "cell_type": "code",
      "execution_count": 13,
      "id": "43b0b58e",
      "metadata": {
        "id": "43b0b58e"
      },
      "outputs": [],
      "source": [
        "import statsmodels.api as sm\n",
        "# 데이터 전처리\n",
        "# 결측치 제거 또는 대체\n",
        "df = df.dropna(subset=['UnitPrice', 'TotalPrice'])\n",
        "\n",
        "# 단순 회귀분석\n",
        "# 독립변수: UnitPrice, 종속변수: TotalPrice\n",
        "X = df['UnitPrice']\n",
        "y = df['TotalPrice']\n",
        "X = sm.add_constant(X) # 상수항 추가"
      ]
    },
    {
      "cell_type": "code",
      "execution_count": 14,
      "id": "380915da",
      "metadata": {
        "id": "380915da"
      },
      "outputs": [],
      "source": [
        "model = sm.OLS(y, X)"
      ]
    },
    {
      "cell_type": "code",
      "source": [
        "results = model.fit()"
      ],
      "metadata": {
        "id": "lPeRTibRjLEa"
      },
      "id": "lPeRTibRjLEa",
      "execution_count": 15,
      "outputs": []
    },
    {
      "cell_type": "code",
      "source": [
        "summary = results.summary()\n",
        "print(summary)"
      ],
      "metadata": {
        "colab": {
          "base_uri": "https://localhost:8080/"
        },
        "id": "yyNTzuT5jMPO",
        "outputId": "ae7c039c-f51d-4fdf-f57b-519091e9329f"
      },
      "id": "yyNTzuT5jMPO",
      "execution_count": 16,
      "outputs": [
        {
          "output_type": "stream",
          "name": "stdout",
          "text": [
            "                            OLS Regression Results                            \n",
            "==============================================================================\n",
            "Dep. Variable:             TotalPrice   R-squared:                       0.019\n",
            "Model:                            OLS   Adj. R-squared:                  0.019\n",
            "Method:                 Least Squares   F-statistic:                 1.020e+04\n",
            "Date:                Fri, 02 Feb 2024   Prob (F-statistic):               0.00\n",
            "Time:                        05:06:16   Log-Likelihood:            -3.7156e+06\n",
            "No. Observations:              530104   AIC:                         7.431e+06\n",
            "Df Residuals:                  530102   BIC:                         7.431e+06\n",
            "Df Model:                           1                                         \n",
            "Covariance Type:            nonrobust                                         \n",
            "==============================================================================\n",
            "                 coef    std err          t      P>|t|      [0.025      0.975]\n",
            "------------------------------------------------------------------------------\n",
            "const         16.0802      0.370     43.463      0.000      15.355      16.805\n",
            "UnitPrice      1.0343      0.010    100.999      0.000       1.014       1.054\n",
            "================================================================================\n",
            "Omnibus:                  3354156.595   Durbin-Watson:                     1.937\n",
            "Prob(Omnibus):                  0.000   Jarque-Bera (JB):   2111068902737906.750\n",
            "Skew:                         520.634   Prob(JB):                           0.00\n",
            "Kurtosis:                  309156.253   Cond. No.                           36.3\n",
            "================================================================================\n",
            "\n",
            "Notes:\n",
            "[1] Standard Errors assume that the covariance matrix of the errors is correctly specified.\n"
          ]
        }
      ]
    },
    {
      "cell_type": "markdown",
      "source": [
        "coef(UnitPrice)가 1.0343로 UnitPrice가 1 증가할 때마다 TotalPrice가 1.0343 증가함으로 격이 높은 품목의 총 판매량이 더 높은 경향이 있지만<br/>\n",
        "r2는 0.019로 UnitPrice만으로는 TotalPrice를 예측하기 어려워 보여\n",
        "TotalPrice에 다른 요소들이 영향을 많이 미치는 것으로 보여집니다.\n"
      ],
      "metadata": {
        "id": "41whskOPjvLg"
      },
      "id": "41whskOPjvLg"
    },
    {
      "cell_type": "markdown",
      "id": "4a95eba0",
      "metadata": {
        "id": "4a95eba0"
      },
      "source": [
        "## 미션3) 여러 분은 크리스마스가 온라인 소매 판매에 미치는 영향을 평가하고, 이를 바탕으로 더 효과적인 가격 및 프로모션 전략을 개발해야 합니다.  \n",
        "\n",
        "* 다음과 같은 비즈니스 전략을 고려하여 인과 분석을 합니다. 증거의 사다리로 데이터에서 얻을 수 있는 증거의 강도를 평가합니다. 크리스마스 관련 상품과 비관련 상품 간의 판매 차이를 분석합니다.\n",
        "\n",
        "\n",
        "* 프로모션 전략\n",
        "    * 크리스마스 상품 프로모션 강화하여 크리스마스 관련 상품의 판매를 증진시키기 위한 특별 프로모션을 개발합니다.\n",
        "    * 대상 고객을 세분화하여 크리스마스 상품에 관심이 높은 고객 세그먼트를 식별하고, 이들을 대상으로 한 마케팅 캠페인을 실행합니다.\n",
        "* 재고 및 공급망 관리\n",
        "    * 재고 최적화를 통해 크리스마스 시즌에 대한 수요 예측을 바탕으로 재고 수준을 조절합니다.\n",
        "    * 공급망 효율화를 통해 시즌별 수요 변화에 따라 공급망을 조정하여 비용을 최소화하고, 고객 만족도를 높입니다.\n",
        "* 상품 다양화\n",
        "    * 상품 포트폴리오를 확장하여 크리스마스 관련 상품뿐만 아니라, 다른 시즌 상품에도 주목하여 상품 포트폴리오를 다양화합니다\n",
        "\n",
        "* 크리스마스 시즌 동안 프로모션과 상품 가격 전략이 판매에 미치는 영향을 분석하여, 미래의 프로모션 및 가격 전략을 최적화해야 합니다.\n",
        "\n",
        "\n",
        "\n",
        "* 다음 주어진 코드를 활용합니다.\n",
        "\n",
        "\n",
        "```python\n",
        "# 2011년 이전 데이터만 사용합니다.\n",
        "# 프로모션 여부와 시간에 따른 데이터 분리\n",
        "df_promotion = df[(df[\"InvoiceDate\"] < \"2011-01-01\") & df_promotion[\"Description\"].notnull()].dropna().copy()\n",
        "df_promotion[\"IsChristmasPeriod\"] = df_promotion[\"InvoiceDate\"] >= \"2010-12-25\"\n",
        "df_promotion[\"IsChristmasProduct\"] = df_promotion[\"Description\"].str.lower().str.contains(\"christmas\")\n",
        "```"
      ]
    },
    {
      "cell_type": "code",
      "execution_count": 17,
      "id": "0847f898",
      "metadata": {
        "id": "0847f898"
      },
      "outputs": [],
      "source": [
        "# 2011년 이전 데이터만 사용합니다.\n",
        "# 프로모션 여부와 시간에 따른 데이터 분리(12월 24일 ~ 연말까지를 프로모션 기간으로 설정)\n",
        "df_promotion = df[(df[\"InvoiceDate\"] < \"2011-01-01\") & df[\"Description\"].notnull()].dropna().copy()\n",
        "df_promotion[\"IsChristmasPeriod\"] = df_promotion[\"InvoiceDate\"] <= \"2010-12-24\"\n",
        "df_promotion[\"IsChristmasProduct\"] = df_promotion[\"Description\"].str.lower().str.contains(\"christmas\")"
      ]
    },
    {
      "cell_type": "code",
      "execution_count": 18,
      "id": "fc993d53",
      "metadata": {
        "id": "fc993d53",
        "colab": {
          "base_uri": "https://localhost:8080/",
          "height": 468
        },
        "outputId": "76c81c4d-56a2-47d5-def3-f3116d4f7897"
      },
      "outputs": [
        {
          "output_type": "display_data",
          "data": {
            "text/plain": [
              "<Figure size 640x480 with 1 Axes>"
            ],
            "image/png": "[encoded data removed]"
          },
          "metadata": {
            "image/png": {
              "width": 561,
              "height": 451
            }
          }
        }
      ],
      "source": [
        "# 'Sales' 열을 추가(수량 * 단가)\n",
        "df_promotion['Sales'] = df_promotion['Quantity'] * df_promotion['UnitPrice']\n",
        "\n",
        "# 매출 차이 분석\n",
        "# 크리스마스 기간 동안 크리스마스 제품과 크리스마스 제품이 아닌 것의 평균 매출을 비교\n",
        "christmas_period_sales = df_promotion[df_promotion['IsChristmasPeriod']]\n",
        "non_christmas_period_sales = df_promotion[~df_promotion['IsChristmasPeriod']]\n",
        "\n",
        "# 시각화\n",
        "sns.barplot(x='IsChristmasProduct', y='Sales', data=df_promotion)\n",
        "plt.title('크리스마스 이후 판매 : 기존 제품 vs 크리스마스 제품')\n",
        "plt.show()"
      ]
    },
    {
      "cell_type": "code",
      "source": [
        "# T-검정\n",
        "import scipy.stats as stats\n",
        "import statsmodels.formula.api as smf\n",
        "\n",
        "christmas_product_sales = christmas_period_sales[christmas_period_sales['IsChristmasProduct']]['Sales']\n",
        "non_christmas_product_sales = christmas_period_sales[~christmas_period_sales['IsChristmasProduct']]['Sales']\n",
        "\n",
        "t_stat, p_val = stats.ttest_ind(christmas_product_sales, non_christmas_product_sales, equal_var=False)\n",
        "print(f\"T-통계량: {t_stat}, P-값: {p_val}\")\n",
        "\n",
        "# 크리스마스가 매출에 미치는 영향을 평가하기 위한 회귀 분석\n",
        "results = smf.ols('Sales ~ IsChristmasPeriod + IsChristmasProduct', data=df_promotion).fit()\n",
        "print(results.summary())\n"
      ],
      "metadata": {
        "colab": {
          "base_uri": "https://localhost:8080/"
        },
        "id": "PNQy7iYlvK3e",
        "outputId": "e28e045a-1d8e-4982-b4c8-d677de5869d5"
      },
      "id": "PNQy7iYlvK3e",
      "execution_count": 20,
      "outputs": [
        {
          "output_type": "stream",
          "name": "stdout",
          "text": [
            "T-통계량: -8.71765788319426, P-값: 4.10207471791115e-18\n",
            "                            OLS Regression Results                            \n",
            "==============================================================================\n",
            "Dep. Variable:                  Sales   R-squared:                       0.001\n",
            "Model:                            OLS   Adj. R-squared:                  0.000\n",
            "Method:                 Least Squares   F-statistic:                     6.587\n",
            "Date:                Fri, 02 Feb 2024   Prob (F-statistic):            0.00138\n",
            "Time:                        05:06:31   Log-Likelihood:            -1.5061e+05\n",
            "No. Observations:               26157   AIC:                         3.012e+05\n",
            "Df Residuals:                   26154   BIC:                         3.012e+05\n",
            "Df Model:                           2                                         \n",
            "Covariance Type:            nonrobust                                         \n",
            "==============================================================================================\n",
            "                                 coef    std err          t      P>|t|      [0.025      0.975]\n",
            "----------------------------------------------------------------------------------------------\n",
            "Intercept                   2.676e+12   2.91e+13      0.092      0.927   -5.44e+13    5.98e+13\n",
            "IsChristmasPeriod[T.True]  -2.676e+12   2.91e+13     -0.092      0.927   -5.98e+13    5.44e+13\n",
            "IsChristmasProduct[T.True]    -7.1766      1.976     -3.631      0.000     -11.051      -3.303\n",
            "==============================================================================\n",
            "Omnibus:                    63812.327   Durbin-Watson:                   1.205\n",
            "Prob(Omnibus):                  0.000   Jarque-Bera (JB):        936274894.178\n",
            "Skew:                          25.818   Prob(JB):                         0.00\n",
            "Kurtosis:                     928.419   Cond. No.                     1.23e+14\n",
            "==============================================================================\n",
            "\n",
            "Notes:\n",
            "[1] Standard Errors assume that the covariance matrix of the errors is correctly specified.\n",
            "[2] The smallest eigenvalue is 3.46e-24. This might indicate that there are\n",
            "strong multicollinearity problems or that the design matrix is singular.\n"
          ]
        }
      ]
    },
    {
      "cell_type": "markdown",
      "source": [
        "T 검정을 진행했을 때 Prob (F-statistic)이 낮아 통계적으로 유의미하지 않지만\n",
        "크리스마스 기간임에도 크리스마스 제품보다 기존 재품이 판매량과 매출이 더 높은 것으로 보여집니다.\n",
        "\n",
        "### 프로모션\n",
        "고객들은 크리스마스임에도 기존 판매 제품에 더 관심이 많은 것으로 해석할 수 있어 크리스마스 제품 판매량 증진 시키기 위한 전략으로<br/>\n",
        "크리스마스 제품과 기존 판매 제품을 결합하여 할인 판매하는 프로모션으로 판매량을 증진시킬 수 있을 수 있을 것으로 예상됩니다.\n",
        "\n",
        "### 재고\n",
        "시즌성 재품은 판매량이 높지 않아 이후에는 시즌성 상품 추가보다는 기존 제품에 대한 프로모션을 진행하는 것이 효과적일 것으로 예상됩니다."
      ],
      "metadata": {
        "id": "zR4HTZOprBBU"
      },
      "id": "zR4HTZOprBBU"
    },
    {
      "cell_type": "markdown",
      "id": "6e656781",
      "metadata": {
        "id": "6e656781"
      },
      "source": [
        "## 미션4) 다변량 회귀분석을 수행하여 크리스마스 기간 전후와 크리스마스 관련 상품과 비관련 상품 간의 판매량(Quantity) 차이를 'UnitPrice'와 'Country'와 함께 분석합니다.\n",
        "\n",
        "* 판매량(Quantity)을 종속변수로 하여, 크리스마스 관련 상품 여부(IsChristmasProduct), 단가(UnitPrice), 국가(Country) 등을 독립변수로 포함하는 다변량 선형 회귀모델을 구축합니다.\n",
        "* statsmodels 라이브러리(statsmodels.formula.api 의 ols)를 사용하여 모델을 구축하고, 결과를 해석합니다.\n",
        "* 분석 결과를 해석하고, 이를 바탕으로 크리스마스 시즌 판매 전략에 대한 권장 사항을 제시합니다.\n",
        "* 분석 과정과 결과, 그리고 비즈니스 전략에 대한 권장 사항을 포함하는 보고서를 작성합니다.\n",
        "* 다음 주어진 코드를 활용합니다.\n",
        "\n",
        "```python\n",
        "import statsmodels.formula.api as smf\n",
        "```"
      ]
    },
    {
      "cell_type": "code",
      "execution_count": 21,
      "id": "e2468b00",
      "metadata": {
        "id": "e2468b00"
      },
      "outputs": [],
      "source": [
        "import statsmodels.formula.api as smf"
      ]
    },
    {
      "cell_type": "code",
      "execution_count": 22,
      "id": "c1384129",
      "metadata": {
        "id": "c1384129",
        "colab": {
          "base_uri": "https://localhost:8080/",
          "height": 921
        },
        "outputId": "3da2051d-570d-4ea1-d98b-4b23ac20f00a"
      },
      "outputs": [
        {
          "output_type": "execute_result",
          "data": {
            "text/plain": [
              "<class 'statsmodels.iolib.summary.Summary'>\n",
              "\"\"\"\n",
              "                            OLS Regression Results                            \n",
              "==============================================================================\n",
              "Dep. Variable:               Quantity   R-squared:                       0.027\n",
              "Model:                            OLS   Adj. R-squared:                  0.026\n",
              "Method:                 Least Squares   F-statistic:                     31.87\n",
              "Date:                Fri, 02 Feb 2024   Prob (F-statistic):          5.46e-138\n",
              "Time:                        05:13:56   Log-Likelihood:            -1.3687e+05\n",
              "No. Observations:               26157   AIC:                         2.738e+05\n",
              "Df Residuals:                   26133   BIC:                         2.740e+05\n",
              "Df Model:                          23                                         \n",
              "Covariance Type:            nonrobust                                         \n",
              "=================================================================================================\n",
              "                                    coef    std err          t      P>|t|      [0.025      0.975]\n",
              "-------------------------------------------------------------------------------------------------\n",
              "Intercept                        16.8705      8.016      2.104      0.035       1.158      32.583\n",
              "C(Country)[T.Austria]            -6.0392     17.920     -0.337      0.736     -41.163      29.084\n",
              "C(Country)[T.Belgium]             3.1887      9.265      0.344      0.731     -14.972      21.349\n",
              "C(Country)[T.Channel Islands]    -6.9579     13.608     -0.511      0.609     -33.630      19.714\n",
              "C(Country)[T.Cyprus]             -4.4939      9.433     -0.476      0.634     -22.983      13.995\n",
              "C(Country)[T.Denmark]             8.3909     12.921      0.649      0.516     -16.935      33.717\n",
              "C(Country)[T.EIRE]                1.7074      8.390      0.204      0.839     -14.737      18.152\n",
              "C(Country)[T.Finland]            58.5934     13.605      4.307      0.000      31.927      85.260\n",
              "C(Country)[T.France]             -3.4033      8.304     -0.410      0.682     -19.679      12.872\n",
              "C(Country)[T.Germany]            -1.2925      8.260     -0.156      0.876     -17.482      14.898\n",
              "C(Country)[T.Iceland]            -4.9877     11.424     -0.437      0.662     -27.379      17.404\n",
              "C(Country)[T.Italy]              -6.6440     10.751     -0.618      0.537     -27.717      14.429\n",
              "C(Country)[T.Japan]              47.1576      9.790      4.817      0.000      27.969      66.346\n",
              "C(Country)[T.Lithuania]           3.3680     11.087      0.304      0.761     -18.364      25.100\n",
              "C(Country)[T.Netherlands]        78.9641      9.631      8.199      0.000      60.086      97.842\n",
              "C(Country)[T.Norway]              8.3921      8.844      0.949      0.343      -8.942      25.726\n",
              "C(Country)[T.Poland]              1.9375     17.919      0.108      0.914     -33.184      37.059\n",
              "C(Country)[T.Portugal]           -6.0620      9.051     -0.670      0.503     -23.803      11.679\n",
              "C(Country)[T.Spain]              -3.3852      9.572     -0.354      0.724     -22.147      15.376\n",
              "C(Country)[T.Sweden]            136.1033     11.969     11.371      0.000     112.643     159.564\n",
              "C(Country)[T.Switzerland]        -0.6570     10.303     -0.064      0.949     -20.852      19.538\n",
              "C(Country)[T.United Kingdom]     -3.9356      8.019     -0.491      0.624     -19.653      11.782\n",
              "IsChristmasProduct               -0.7779      1.172     -0.664      0.507      -3.075       1.520\n",
              "UnitPrice                        -0.5510      0.054    -10.226      0.000      -0.657      -0.445\n",
              "==============================================================================\n",
              "Omnibus:                    67557.031   Durbin-Watson:                   1.314\n",
              "Prob(Omnibus):                  0.000   Jarque-Bera (JB):       1893061778.356\n",
              "Skew:                          29.601   Prob(JB):                         0.00\n",
              "Kurtosis:                    1319.605   Cond. No.                         841.\n",
              "==============================================================================\n",
              "\n",
              "Notes:\n",
              "[1] Standard Errors assume that the covariance matrix of the errors is correctly specified.\n",
              "\"\"\""
            ],
            "text/html": [
              "<table class=\"simpletable\">\n",
              "<caption>OLS Regression Results</caption>\n",
              "<tr>\n",
              "  <th>Dep. Variable:</th>        <td>Quantity</td>     <th>  R-squared:         </th>  <td>   0.027</td>  \n",
              "</tr>\n",
              "<tr>\n",
              "  <th>Model:</th>                   <td>OLS</td>       <th>  Adj. R-squared:    </th>  <td>   0.026</td>  \n",
              "</tr>\n",
              "<tr>\n",
              "  <th>Method:</th>             <td>Least Squares</td>  <th>  F-statistic:       </th>  <td>   31.87</td>  \n",
              "</tr>\n",
              "<tr>\n",
              "  <th>Date:</th>             <td>Fri, 02 Feb 2024</td> <th>  Prob (F-statistic):</th>  <td>5.46e-138</td> \n",
              "</tr>\n",
              "<tr>\n",
              "  <th>Time:</th>                 <td>05:13:56</td>     <th>  Log-Likelihood:    </th> <td>-1.3687e+05</td>\n",
              "</tr>\n",
              "<tr>\n",
              "  <th>No. Observations:</th>      <td> 26157</td>      <th>  AIC:               </th>  <td>2.738e+05</td> \n",
              "</tr>\n",
              "<tr>\n",
              "  <th>Df Residuals:</th>          <td> 26133</td>      <th>  BIC:               </th>  <td>2.740e+05</td> \n",
              "</tr>\n",
              "<tr>\n",
              "  <th>Df Model:</th>              <td>    23</td>      <th>                     </th>      <td> </td>     \n",
              "</tr>\n",
              "<tr>\n",
              "  <th>Covariance Type:</th>      <td>nonrobust</td>    <th>                     </th>      <td> </td>     \n",
              "</tr>\n",
              "</table>\n",
              "<table class=\"simpletable\">\n",
              "<tr>\n",
              "                <td></td>                   <th>coef</th>     <th>std err</th>      <th>t</th>      <th>P>|t|</th>  <th>[0.025</th>    <th>0.975]</th>  \n",
              "</tr>\n",
              "<tr>\n",
              "  <th>Intercept</th>                     <td>   16.8705</td> <td>    8.016</td> <td>    2.104</td> <td> 0.035</td> <td>    1.158</td> <td>   32.583</td>\n",
              "</tr>\n",
              "<tr>\n",
              "  <th>C(Country)[T.Austria]</th>         <td>   -6.0392</td> <td>   17.920</td> <td>   -0.337</td> <td> 0.736</td> <td>  -41.163</td> <td>   29.084</td>\n",
              "</tr>\n",
              "<tr>\n",
              "  <th>C(Country)[T.Belgium]</th>         <td>    3.1887</td> <td>    9.265</td> <td>    0.344</td> <td> 0.731</td> <td>  -14.972</td> <td>   21.349</td>\n",
              "</tr>\n",
              "<tr>\n",
              "  <th>C(Country)[T.Channel Islands]</th> <td>   -6.9579</td> <td>   13.608</td> <td>   -0.511</td> <td> 0.609</td> <td>  -33.630</td> <td>   19.714</td>\n",
              "</tr>\n",
              "<tr>\n",
              "  <th>C(Country)[T.Cyprus]</th>          <td>   -4.4939</td> <td>    9.433</td> <td>   -0.476</td> <td> 0.634</td> <td>  -22.983</td> <td>   13.995</td>\n",
              "</tr>\n",
              "<tr>\n",
              "  <th>C(Country)[T.Denmark]</th>         <td>    8.3909</td> <td>   12.921</td> <td>    0.649</td> <td> 0.516</td> <td>  -16.935</td> <td>   33.717</td>\n",
              "</tr>\n",
              "<tr>\n",
              "  <th>C(Country)[T.EIRE]</th>            <td>    1.7074</td> <td>    8.390</td> <td>    0.204</td> <td> 0.839</td> <td>  -14.737</td> <td>   18.152</td>\n",
              "</tr>\n",
              "<tr>\n",
              "  <th>C(Country)[T.Finland]</th>         <td>   58.5934</td> <td>   13.605</td> <td>    4.307</td> <td> 0.000</td> <td>   31.927</td> <td>   85.260</td>\n",
              "</tr>\n",
              "<tr>\n",
              "  <th>C(Country)[T.France]</th>          <td>   -3.4033</td> <td>    8.304</td> <td>   -0.410</td> <td> 0.682</td> <td>  -19.679</td> <td>   12.872</td>\n",
              "</tr>\n",
              "<tr>\n",
              "  <th>C(Country)[T.Germany]</th>         <td>   -1.2925</td> <td>    8.260</td> <td>   -0.156</td> <td> 0.876</td> <td>  -17.482</td> <td>   14.898</td>\n",
              "</tr>\n",
              "<tr>\n",
              "  <th>C(Country)[T.Iceland]</th>         <td>   -4.9877</td> <td>   11.424</td> <td>   -0.437</td> <td> 0.662</td> <td>  -27.379</td> <td>   17.404</td>\n",
              "</tr>\n",
              "<tr>\n",
              "  <th>C(Country)[T.Italy]</th>           <td>   -6.6440</td> <td>   10.751</td> <td>   -0.618</td> <td> 0.537</td> <td>  -27.717</td> <td>   14.429</td>\n",
              "</tr>\n",
              "<tr>\n",
              "  <th>C(Country)[T.Japan]</th>           <td>   47.1576</td> <td>    9.790</td> <td>    4.817</td> <td> 0.000</td> <td>   27.969</td> <td>   66.346</td>\n",
              "</tr>\n",
              "<tr>\n",
              "  <th>C(Country)[T.Lithuania]</th>       <td>    3.3680</td> <td>   11.087</td> <td>    0.304</td> <td> 0.761</td> <td>  -18.364</td> <td>   25.100</td>\n",
              "</tr>\n",
              "<tr>\n",
              "  <th>C(Country)[T.Netherlands]</th>     <td>   78.9641</td> <td>    9.631</td> <td>    8.199</td> <td> 0.000</td> <td>   60.086</td> <td>   97.842</td>\n",
              "</tr>\n",
              "<tr>\n",
              "  <th>C(Country)[T.Norway]</th>          <td>    8.3921</td> <td>    8.844</td> <td>    0.949</td> <td> 0.343</td> <td>   -8.942</td> <td>   25.726</td>\n",
              "</tr>\n",
              "<tr>\n",
              "  <th>C(Country)[T.Poland]</th>          <td>    1.9375</td> <td>   17.919</td> <td>    0.108</td> <td> 0.914</td> <td>  -33.184</td> <td>   37.059</td>\n",
              "</tr>\n",
              "<tr>\n",
              "  <th>C(Country)[T.Portugal]</th>        <td>   -6.0620</td> <td>    9.051</td> <td>   -0.670</td> <td> 0.503</td> <td>  -23.803</td> <td>   11.679</td>\n",
              "</tr>\n",
              "<tr>\n",
              "  <th>C(Country)[T.Spain]</th>           <td>   -3.3852</td> <td>    9.572</td> <td>   -0.354</td> <td> 0.724</td> <td>  -22.147</td> <td>   15.376</td>\n",
              "</tr>\n",
              "<tr>\n",
              "  <th>C(Country)[T.Sweden]</th>          <td>  136.1033</td> <td>   11.969</td> <td>   11.371</td> <td> 0.000</td> <td>  112.643</td> <td>  159.564</td>\n",
              "</tr>\n",
              "<tr>\n",
              "  <th>C(Country)[T.Switzerland]</th>     <td>   -0.6570</td> <td>   10.303</td> <td>   -0.064</td> <td> 0.949</td> <td>  -20.852</td> <td>   19.538</td>\n",
              "</tr>\n",
              "<tr>\n",
              "  <th>C(Country)[T.United Kingdom]</th>  <td>   -3.9356</td> <td>    8.019</td> <td>   -0.491</td> <td> 0.624</td> <td>  -19.653</td> <td>   11.782</td>\n",
              "</tr>\n",
              "<tr>\n",
              "  <th>IsChristmasProduct</th>            <td>   -0.7779</td> <td>    1.172</td> <td>   -0.664</td> <td> 0.507</td> <td>   -3.075</td> <td>    1.520</td>\n",
              "</tr>\n",
              "<tr>\n",
              "  <th>UnitPrice</th>                     <td>   -0.5510</td> <td>    0.054</td> <td>  -10.226</td> <td> 0.000</td> <td>   -0.657</td> <td>   -0.445</td>\n",
              "</tr>\n",
              "</table>\n",
              "<table class=\"simpletable\">\n",
              "<tr>\n",
              "  <th>Omnibus:</th>       <td>67557.031</td> <th>  Durbin-Watson:     </th>    <td>   1.314</td>   \n",
              "</tr>\n",
              "<tr>\n",
              "  <th>Prob(Omnibus):</th>  <td> 0.000</td>   <th>  Jarque-Bera (JB):  </th> <td>1893061778.356</td>\n",
              "</tr>\n",
              "<tr>\n",
              "  <th>Skew:</th>           <td>29.601</td>   <th>  Prob(JB):          </th>    <td>    0.00</td>   \n",
              "</tr>\n",
              "<tr>\n",
              "  <th>Kurtosis:</th>      <td>1319.605</td>  <th>  Cond. No.          </th>    <td>    841.</td>   \n",
              "</tr>\n",
              "</table><br/><br/>Notes:<br/>[1] Standard Errors assume that the covariance matrix of the errors is correctly specified."
            ],
            "text/latex": "\\begin{center}\n\\begin{tabular}{lclc}\n\\toprule\n\\textbf{Dep. Variable:}                &     Quantity     & \\textbf{  R-squared:         } &       0.027     \\\\\n\\textbf{Model:}                        &       OLS        & \\textbf{  Adj. R-squared:    } &       0.026     \\\\\n\\textbf{Method:}                       &  Least Squares   & \\textbf{  F-statistic:       } &       31.87     \\\\\n\\textbf{Date:}                         & Fri, 02 Feb 2024 & \\textbf{  Prob (F-statistic):} &   5.46e-138     \\\\\n\\textbf{Time:}                         &     05:13:56     & \\textbf{  Log-Likelihood:    } &  -1.3687e+05    \\\\\n\\textbf{No. Observations:}             &       26157      & \\textbf{  AIC:               } &   2.738e+05     \\\\\n\\textbf{Df Residuals:}                 &       26133      & \\textbf{  BIC:               } &   2.740e+05     \\\\\n\\textbf{Df Model:}                     &          23      & \\textbf{                     } &                 \\\\\n\\textbf{Covariance Type:}              &    nonrobust     & \\textbf{                     } &                 \\\\\n\\bottomrule\n\\end{tabular}\n\\begin{tabular}{lcccccc}\n                                       & \\textbf{coef} & \\textbf{std err} & \\textbf{t} & \\textbf{P$> |$t$|$} & \\textbf{[0.025} & \\textbf{0.975]}  \\\\\n\\midrule\n\\textbf{Intercept}                     &      16.8705  &        8.016     &     2.104  &         0.035        &        1.158    &       32.583     \\\\\n\\textbf{C(Country)[T.Austria]}         &      -6.0392  &       17.920     &    -0.337  &         0.736        &      -41.163    &       29.084     \\\\\n\\textbf{C(Country)[T.Belgium]}         &       3.1887  &        9.265     &     0.344  &         0.731        &      -14.972    &       21.349     \\\\\n\\textbf{C(Country)[T.Channel Islands]} &      -6.9579  &       13.608     &    -0.511  &         0.609        &      -33.630    &       19.714     \\\\\n\\textbf{C(Country)[T.Cyprus]}          &      -4.4939  &        9.433     &    -0.476  &         0.634        &      -22.983    &       13.995     \\\\\n\\textbf{C(Country)[T.Denmark]}         &       8.3909  &       12.921     &     0.649  &         0.516        &      -16.935    &       33.717     \\\\\n\\textbf{C(Country)[T.EIRE]}            &       1.7074  &        8.390     &     0.204  &         0.839        &      -14.737    &       18.152     \\\\\n\\textbf{C(Country)[T.Finland]}         &      58.5934  &       13.605     &     4.307  &         0.000        &       31.927    &       85.260     \\\\\n\\textbf{C(Country)[T.France]}          &      -3.4033  &        8.304     &    -0.410  &         0.682        &      -19.679    &       12.872     \\\\\n\\textbf{C(Country)[T.Germany]}         &      -1.2925  &        8.260     &    -0.156  &         0.876        &      -17.482    &       14.898     \\\\\n\\textbf{C(Country)[T.Iceland]}         &      -4.9877  &       11.424     &    -0.437  &         0.662        &      -27.379    &       17.404     \\\\\n\\textbf{C(Country)[T.Italy]}           &      -6.6440  &       10.751     &    -0.618  &         0.537        &      -27.717    &       14.429     \\\\\n\\textbf{C(Country)[T.Japan]}           &      47.1576  &        9.790     &     4.817  &         0.000        &       27.969    &       66.346     \\\\\n\\textbf{C(Country)[T.Lithuania]}       &       3.3680  &       11.087     &     0.304  &         0.761        &      -18.364    &       25.100     \\\\\n\\textbf{C(Country)[T.Netherlands]}     &      78.9641  &        9.631     &     8.199  &         0.000        &       60.086    &       97.842     \\\\\n\\textbf{C(Country)[T.Norway]}          &       8.3921  &        8.844     &     0.949  &         0.343        &       -8.942    &       25.726     \\\\\n\\textbf{C(Country)[T.Poland]}          &       1.9375  &       17.919     &     0.108  &         0.914        &      -33.184    &       37.059     \\\\\n\\textbf{C(Country)[T.Portugal]}        &      -6.0620  &        9.051     &    -0.670  &         0.503        &      -23.803    &       11.679     \\\\\n\\textbf{C(Country)[T.Spain]}           &      -3.3852  &        9.572     &    -0.354  &         0.724        &      -22.147    &       15.376     \\\\\n\\textbf{C(Country)[T.Sweden]}          &     136.1033  &       11.969     &    11.371  &         0.000        &      112.643    &      159.564     \\\\\n\\textbf{C(Country)[T.Switzerland]}     &      -0.6570  &       10.303     &    -0.064  &         0.949        &      -20.852    &       19.538     \\\\\n\\textbf{C(Country)[T.United Kingdom]}  &      -3.9356  &        8.019     &    -0.491  &         0.624        &      -19.653    &       11.782     \\\\\n\\textbf{IsChristmasProduct}            &      -0.7779  &        1.172     &    -0.664  &         0.507        &       -3.075    &        1.520     \\\\\n\\textbf{UnitPrice}                     &      -0.5510  &        0.054     &   -10.226  &         0.000        &       -0.657    &       -0.445     \\\\\n\\bottomrule\n\\end{tabular}\n\\begin{tabular}{lclc}\n\\textbf{Omnibus:}       & 67557.031 & \\textbf{  Durbin-Watson:     } &       1.314     \\\\\n\\textbf{Prob(Omnibus):} &    0.000  & \\textbf{  Jarque-Bera (JB):  } & 1893061778.356  \\\\\n\\textbf{Skew:}          &   29.601  & \\textbf{  Prob(JB):          } &        0.00     \\\\\n\\textbf{Kurtosis:}      &  1319.605 & \\textbf{  Cond. No.          } &        841.     \\\\\n\\bottomrule\n\\end{tabular}\n%\\caption{OLS Regression Results}\n\\end{center}\n\nNotes: \\newline\n [1] Standard Errors assume that the covariance matrix of the errors is correctly specified."
          },
          "metadata": {},
          "execution_count": 22
        }
      ],
      "source": [
        "# 다변량 회귀분석\n",
        "\n",
        "df_promotion['IsChristmasProduct'] = df_promotion['IsChristmasProduct'].astype(int)\n",
        "\n",
        "model = smf.ols(formula='Quantity ~ IsChristmasProduct + UnitPrice + C(Country)', data=df_promotion).fit()\n",
        "\n",
        "model_summary = model.summary()\n",
        "model_summary"
      ]
    },
    {
      "cell_type": "markdown",
      "source": [
        "### R-squared : <br/>\n",
        "이는 독립변수들이 종속변수 'Quantity'의 변동성을 약 2.7%만 설명한다는 것을 의미합니다. 이는 모델이 데이터의 변동성을 잘 설명하지 못한다는 것을 나타냅니다.<br/>\n",
        "###F-statistic : <br/>\n",
        "확률(Prob (F-statistic))이 5.46e-138로 이는 모델이 통계적으로 유의미하다는 것을 나타내며, 사용된 독립변수 중 적어도 하나 이상이 판매량에 유의미한 영향을 준다는 것을 의미합니다.<br/>\n",
        "###각 국가의 계수(C(Country)[T.CountryName]): <br/>\n",
        "대부분의 국가들은 통계적으로 유의미하지 않습니다(p-value > 0.05), 그러나 'Finland', 'Japan', 'Netherlands', 'Sweden'는 유의미한 양의 계수를 보입니다. 이는 해당 국가에서 주문된 수량이 더 많음을 의미합니다.<br/>\n",
        "### IsChristmasProduct <br/>\n",
        "계수는 -0.7779이며, 이는 크리스마스 관련 상품이 판매량이 더 낮음을 의미하지만, p-value가 0.507로 통계적으로 유의미하지 않습니다.<br/>\n",
        "### UnitPrice의 계수\n",
        "-0.5510으로, 단가가 높을수록 판매 수량이 낮아짐을 나타내며, 이는 p-value < 0.0001로 유의미한 결과입니다.<br/>\n",
        "### 크리스마스 시즌 판매 전략:\n",
        "- 집중적인 시장 전략: 'Finland', 'Japan', 'Netherlands', 'Sweden'에서 높은 판매 수량을 보이므로, 이러한 국가들에 대한 마케팅 및 재고를 늘려 판매를 강화하는 전략을 고려할 수 있습니다.\n",
        "- 가격 조정: 단가가 판매 수량에 부정적인 영향을 미친다는 점을 감안할 때, 가격 경쟁력을 갖춘 상품이나 프로모션을 통해 단가를 조정하는 전략이 필요합니다.\n",
        "- 크리스마스 상품 전략 재고찰: 크리스마스 관련 상품의 판매 수량이 유의미하게 낮지는 않지만, 다른 요인들이 더 큰 영향을 미치므로 크리스마스 관련 상품에 대한 전략을 다각도에서 검토할 필요가 있습니다.\n",
        "\n",
        "## 보고서:\n",
        "이러한 분석 결과를 바탕으로, 크리스마스 시즌에는 특정 국가들에 대한 마케팅 활동을 강화하고, 가격 경쟁력을 높여 판매를 촉진할 수 있는 방안을 모색해야 합니다. <br/>\n",
        "크리스마스 관련 상품의 경우 단순히 시즌성에 의존하기보다는 다른 마케팅 요소들과 결합하여 판매 전략을 수립하는 것이 유리해보입니다."
      ],
      "metadata": {
        "id": "1rfMolZK1Jcn"
      },
      "id": "1rfMolZK1Jcn"
    },
    {
      "cell_type": "markdown",
      "id": "2c3bbccb",
      "metadata": {
        "id": "2c3bbccb"
      },
      "source": [
        "## 미션5) 온라인 소매 데이터를 사용하여 고객이 특정 상품을 구매할지 여부를 예측합니다.\n",
        "이 예측 모델을 사용하여 타겟 마케팅 전략을 수립하고, 재고 관리를 최적화합니다. 고객의 특정 상품 구매 여부(구매/미구매)를 예측하는 이진 분류 모델을 구축합니다.\n",
        "\n",
        "\n",
        "1) 타겟 변수 생성: 'WHITE HANGING HEART T-LIGHT HOLDER' 상품을 구매했는지 여부를 나타내는 이진 타겟 변수(0: 미구매, 1: 구매)를 생성합니다.\\\n",
        "2) 특성(feature) 선택: 구매 예측에 영향을 미칠 수 있는 변수들을 선택합니다. 예를 들어, 'UnitPrice', 'Quantity', 'CustomerID', 'Country' 등이 될 수 있습니다.\\\n",
        "3) 범주형 변수 처리: 'Country'와 같은 범주형 변수를 숫자로 변환합니다. 원-핫 인코딩을 사용할 수 있습니다.\\\n",
        "4) 데이터 분할: 모델 학습을 위해 데이터를 훈련 세트와 테스트 세트로 분할합니다.\\\n",
        "5) 로지스틱 회귀 모델 생성 및 학습합니다.\\\n",
        "6) 모델을 평가 합니다."
      ]
    },
    {
      "cell_type": "code",
      "execution_count": 23,
      "id": "32a8fcb2",
      "metadata": {
        "id": "32a8fcb2",
        "colab": {
          "base_uri": "https://localhost:8080/"
        },
        "outputId": "999ff5df-fae0-4cb4-933a-b57094e57154"
      },
      "outputs": [
        {
          "output_type": "execute_result",
          "data": {
            "text/plain": [
              "False    6720\n",
              "True     2028\n",
              "Name: Target, dtype: int64"
            ]
          },
          "metadata": {},
          "execution_count": 23
        }
      ],
      "source": [
        "from sklearn.model_selection import train_test_split\n",
        "from sklearn.linear_model import LogisticRegression\n",
        "from sklearn.metrics import classification_report, confusion_matrix\n",
        "\n",
        "df = df.dropna()\n",
        "df = df[df['Description'].str.contains(\"T-LIGHT HOLDER\")]\n",
        "# 'WHITE HANGING HEART T-LIGHT HOLDER' 상품 구매 여부를 나타내는 타겟 변수 생성\n",
        "df['Target'] = df['Description'] == 'WHITE HANGING HEART T-LIGHT HOLDER'\n",
        "df[\"Target\"].value_counts()"
      ]
    },
    {
      "cell_type": "code",
      "execution_count": 24,
      "id": "970ceb3d",
      "metadata": {
        "id": "970ceb3d"
      },
      "outputs": [],
      "source": [
        "# 특성과 타겟 변수 분리\n",
        "X = pd.get_dummies(df[['UnitPrice', 'Quantity', 'CustomerID', 'Country']])\n",
        "y = df['Target']\n"
      ]
    },
    {
      "cell_type": "code",
      "execution_count": 25,
      "id": "24e8554b",
      "metadata": {
        "id": "24e8554b",
        "colab": {
          "base_uri": "https://localhost:8080/"
        },
        "outputId": "65874320-9ea6-4030-f685-181fab3944c1"
      },
      "outputs": [
        {
          "output_type": "execute_result",
          "data": {
            "text/plain": [
              "('              precision    recall  f1-score   support\\n\\n       False       0.78      0.92      0.84      1353\\n        True       0.27      0.10      0.15       397\\n\\n    accuracy                           0.73      1750\\n   macro avg       0.52      0.51      0.49      1750\\nweighted avg       0.66      0.73      0.68      1750\\n',\n",
              " array([[1244,  109],\n",
              "        [ 357,   40]]))"
            ]
          },
          "metadata": {},
          "execution_count": 25
        }
      ],
      "source": [
        "# 4) Split the data into training and test sets\n",
        "X_train, X_test, y_train, y_test = train_test_split(X, y, test_size=0.2, random_state=42)\n",
        "\n",
        "# 5) Create and train the logistic regression model\n",
        "logistic_model = LogisticRegression()\n",
        "logistic_model.fit(X_train, y_train)\n",
        "\n",
        "# 6) Model evaluation\n",
        "y_pred = logistic_model.predict(X_test)\n",
        "class_report = classification_report(y_test, y_pred)\n",
        "conf_matrix = confusion_matrix(y_test, y_pred)\n",
        "\n",
        "(class_report, conf_matrix)"
      ]
    },
    {
      "cell_type": "markdown",
      "source": [
        "### 정밀도(Precision):\n",
        "모델이 'x'로 예측한 경우 중 실제로 'x'인 비율\n",
        "\n",
        "'False'(미구매)는 약 78%\n",
        "'True'(구매)는 경우 약 27%\n",
        "\n",
        "### 재현율(Recall):\n",
        "실제 'x'인 경우 중 모델이 'x'로 올바르게 예측한 비율\n",
        "\n",
        "'False'의 경우 약 92%\n",
        "'True'의 경우 약 10%\n",
        "### F1-점수(F1-Score):\n",
        "'False'는 약 84%\n",
        "'True'는 약 15%\n",
        "### 정확도(Accuracy):\n",
        "전체적인 모델의 정확도는 약 73%\n",
        "### 혼동 행렬:\n",
        "[1244, 109]:\n",
        "1244은 실제 '미구매'를 '미구매'로 올바르게 예측한 수(True Negative).\n",
        "109은 실제 '미구매'를 '구매'로 잘못 예측한 수(False Positive).\n",
        "[357, 40]:\n",
        "\n",
        "357은 실제 '구매'를 '미구매'로 잘못 예측한 수(False Negative).\n",
        "40은 실제 '구매'를 '구매'로 올바르게 예측한 수(True Positive).\n",
        "\n",
        "### 평가:\n",
        "데이터의 높은 비율이 '미구매'이기 때문에 TN은 높지만 FN 예측 성능이 부족한 것으로 보여집니다. <br/>\n",
        "FN에 비해 TP 비율이 낮아 구매 예측에 사용하기에는 적합하지 않으며 모델 개선이 필요해보입니다."
      ],
      "metadata": {
        "id": "A-pjtDA_FgBz"
      },
      "id": "A-pjtDA_FgBz"
    },
    {
      "cell_type": "code",
      "source": [],
      "metadata": {
        "id": "aaXNGq196GhY"
      },
      "id": "aaXNGq196GhY",
      "execution_count": 25,
      "outputs": []
    }
  ],
  "metadata": {
    "kernelspec": {
      "display_name": "Python 3 (ipykernel)",
      "language": "python",
      "name": "python3"
    },
    "language_info": {
      "codemirror_mode": {
        "name": "ipython",
        "version": 3
      },
      "file_extension": ".py",
      "mimetype": "text/x-python",
      "name": "python",
      "nbconvert_exporter": "python",
      "pygments_lexer": "ipython3",
      "version": "3.11.4"
    },
    "toc": {
      "base_numbering": 1,
      "nav_menu": {},
      "number_sections": true,
      "sideBar": true,
      "skip_h1_title": false,
      "title_cell": "Table of Contents",
      "title_sidebar": "Contents",
      "toc_cell": false,
      "toc_position": {},
      "toc_section_display": true,
      "toc_window_display": false
    },
    "varInspector": {
      "cols": {
        "lenName": 16,
        "lenType": 16,
        "lenVar": 40
      },
      "kernels_config": {
        "python": {
          "delete_cmd_postfix": "",
          "delete_cmd_prefix": "del ",
          "library": "var_list.py",
          "varRefreshCmd": "print(var_dic_list())"
        },
        "r": {
          "delete_cmd_postfix": ") ",
          "delete_cmd_prefix": "rm(",
          "library": "var_list.r",
          "varRefreshCmd": "cat(var_dic_list()) "
        }
      },
      "types_to_exclude": [
        "module",
        "function",
        "builtin_function_or_method",
        "instance",
        "_Feature"
      ],
      "window_display": false
    },
    "colab": {
      "provenance": []
    }
  },
  "nbformat": 4,
  "nbformat_minor": 5
}